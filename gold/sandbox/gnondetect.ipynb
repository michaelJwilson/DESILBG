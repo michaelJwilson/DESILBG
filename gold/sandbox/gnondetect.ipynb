{
 "cells": [
  {
   "cell_type": "code",
   "execution_count": 38,
   "metadata": {},
   "outputs": [],
   "source": [
    "import os\n",
    "import numpy as np\n",
    "import pandas as pd\n",
    "import pylab as pl \n",
    "\n",
    "from astropy.table import Table\n",
    "from not_bright import not_bright\n",
    "\n",
    "from selection.gdrops import gdrops\n",
    "from selection.g_nondetect import g_nondetect\n",
    "from selection.u_nondetect import u_nondetect\n",
    "\n",
    "from uniform_magpriority import uniform_magpriority\n",
    "\n",
    "from datamodel import datamodel"
   ]
  },
  {
   "cell_type": "code",
   "execution_count": 39,
   "metadata": {},
   "outputs": [
    {
     "name": "stdout",
     "output_type": "stream",
     "text": [
      "Latest COSMOS catalog has 5263013 sources.\n",
      "After stellar masking, COSMOS catalog has 4426066 sources.\n",
      "After limiting to the g imaging, COSMOS catalog has 3696114 sources.\n",
      "Excluding 114 bright source in u [10.29, 16.99].\n",
      "Excluding 137 bright source in g [10.98, 17.00].\n",
      "Excluding 213 bright source in r [13.53, 17.00].\n",
      "Excluding 441 bright source in i [12.82, 17.00].\n",
      "Excluding 892 bright source in z [12.32, 17.00].\n",
      "Excluding 1393 bright source in y [12.05, 17.00].\n",
      "Excluding a total of 1530 bright source.\n",
      "After removing bright sources, COSMOS catalog has 3694584 sources.\n"
     ]
    }
   ],
   "source": [
    "# Safeguard, but should be unncessary. \n",
    "np.random.seed(seed=314)\n",
    "\n",
    "# Area in g band (approx); [sq. deg.]\n",
    "cosmos_garea = 7.84\n",
    "\n",
    "# Load latest clauds catalog.\n",
    "cat = Table.read('/global/cscratch1/sd/mjwilson/clauds/March2021/COSMOS_v9_v210225.fits')\n",
    "\n",
    "print('Latest COSMOS catalog has {} sources.'.format(len(cat)))\n",
    "\n",
    "# Limit to no stellar mask. \n",
    "cat = cat[cat['MASK'] == 0]\n",
    "\n",
    "print('After stellar masking, COSMOS catalog has {} sources.'.format(len(cat)))\n",
    "\n",
    "# Limit to the hsc imaging footprint. Table A1 of https://www.overleaf.com/read/wdtmwbwvnjgc.\n",
    "cat = cat[cat['FLAG_FIELD_BINARY'][:,0] == True]\n",
    "\n",
    "print('After limiting to the g imaging, COSMOS catalog has {} sources.'.format(len(cat)))\n",
    "\n",
    "# Fainter than 17th mag in ugrizy. \n",
    "isin = not_bright(cat)\n",
    "\n",
    "cat = cat[isin]\n",
    "\n",
    "print('After removing bright sources, COSMOS catalog has {} sources.'.format(len(cat)))"
   ]
  },
  {
   "cell_type": "code",
   "execution_count": 40,
   "metadata": {},
   "outputs": [],
   "source": [
    "is_gdrop = gdrops(cat)"
   ]
  },
  {
   "cell_type": "code",
   "execution_count": 41,
   "metadata": {},
   "outputs": [],
   "source": [
    "cat = cat[~is_gdrop]"
   ]
  },
  {
   "cell_type": "code",
   "execution_count": 42,
   "metadata": {},
   "outputs": [],
   "source": [
    "cat = cat[cat['g'] < -40.]\n",
    "cat = cat[cat['i'] > 22.5]\n",
    "cat = cat[cat['i'] < 25.5]\n",
    "cat = cat[cat['i_err'] <= 0.2]"
   ]
  },
  {
   "cell_type": "code",
   "execution_count": 43,
   "metadata": {},
   "outputs": [
    {
     "name": "stdout",
     "output_type": "stream",
     "text": [
      "   ID           RA                DEC         TRACT ... VMAX_r VMAX_i VMAX_Ks\n",
      "------- ------------------ ------------------ ----- ... ------ ------ -------\n",
      "   1038  149.4796497478579   2.89755292866609 10054 ...    0.0    0.0     0.0\n",
      "   1104  149.5303635331854  2.898832194731732 10054 ...    0.0    0.0     0.0\n",
      "   1132 149.53805773348503 2.8990113410877014 10054 ...    0.0    0.0     0.0\n",
      "   1157 149.54342141209813 2.8990805756311464 10054 ...    0.0    0.0     0.0\n",
      "   1220 149.57478236192875 2.8998946845117337 10054 ...    0.0    0.0     0.0\n",
      "   1324  149.5546476309941  2.899404163434983 10054 ...    0.0    0.0     0.0\n",
      "   3431  149.5727626274059   2.93040155940958 10054 ...    0.0    0.0     0.0\n",
      "  13932 149.47932239748008  3.047279197811408 10054 ...    0.0    0.0     0.0\n",
      "  14788 149.51715997658272 3.0779190096874123 10054 ...    0.0    0.0     0.0\n",
      "  15725 149.55150769405358 3.0875237287161674 10054 ...    0.0    0.0     0.0\n",
      "    ...                ...                ...   ... ...    ...    ...     ...\n",
      "5255531  150.9909013272169  2.055611324580978  9814 ...    0.0    0.0     0.0\n",
      "5255926 151.04916573391205 2.0992504044144176  9814 ...    0.0    0.0     0.0\n",
      "5257419  150.9006924590208 2.3234876658413675  9814 ...    0.0    0.0     0.0\n",
      "5257588  150.9168436623457  2.290968065547909  9814 ...    0.0    0.0     0.0\n",
      "5257814 150.90745338037635   2.35527261457152  9814 ...    0.0    0.0     0.0\n",
      "5258438 150.99947441458156  2.454047998165404  9814 ...    0.0    0.0     0.0\n",
      "5258700  150.8949722449361   2.48083124547246  9814 ...    0.0    0.0     0.0\n",
      "5258710 150.89616083489253  2.478144912775394  9814 ...    0.0    0.0     0.0\n",
      "5259077  150.9003242958745 2.5975914781654104  9814 ...    0.0    0.0     0.0\n",
      "5259435  150.9289402697122 2.6923072390077563  9814 ...    0.0    0.0     0.0\n",
      "5262438 151.00840670003126 3.0097707431212624  9814 ...    0.0    0.0     0.0\n",
      "Length = 4914 rows\n"
     ]
    }
   ],
   "source": [
    "cat.pprint()"
   ]
  },
  {
   "cell_type": "code",
   "execution_count": 44,
   "metadata": {},
   "outputs": [],
   "source": [
    "ugr_drops = cat[cat['r'] < 0.0]"
   ]
  },
  {
   "cell_type": "code",
   "execution_count": 45,
   "metadata": {},
   "outputs": [
    {
     "name": "stdout",
     "output_type": "stream",
     "text": [
      "   ID           RA                DEC         TRACT ... VMAX_r VMAX_i VMAX_Ks\n",
      "------- ------------------ ------------------ ----- ... ------ ------ -------\n",
      "   1038  149.4796497478579   2.89755292866609 10054 ...    0.0    0.0     0.0\n",
      "   1132 149.53805773348503 2.8990113410877014 10054 ...    0.0    0.0     0.0\n",
      "   1157 149.54342141209813 2.8990805756311464 10054 ...    0.0    0.0     0.0\n",
      "   1220 149.57478236192875 2.8998946845117337 10054 ...    0.0    0.0     0.0\n",
      " 135835 149.37825394952222  3.419666271558243 10054 ...    0.0    0.0     0.0\n",
      " 136457 149.37802760709002  3.419185820645544 10054 ...    0.0    0.0     0.0\n",
      " 137379   149.394543415093   3.43965850659574 10054 ...    0.0    0.0     0.0\n",
      " 140958  149.2775033939365   3.47789440273558 10054 ...    0.0    0.0     0.0\n",
      " 153200 149.26092387516627  3.614050174345013 10054 ...    0.0    0.0     0.0\n",
      " 153317  149.2516281063357 3.6077319613005705 10054 ...    0.0    0.0     0.0\n",
      "    ...                ...                ...   ... ...    ...    ...     ...\n",
      "5191934  151.2428141886968  2.354528725432324  9814 ...    0.0    0.0     0.0\n",
      "5193186 151.19038384013987 2.3653734717450345  9814 ...    0.0    0.0     0.0\n",
      "5194827 151.12314980808137  2.382394389446862  9814 ...    0.0    0.0     0.0\n",
      "5194834 151.12291910991553  2.382355152500814  9814 ...    0.0    0.0     0.0\n",
      "5255356  151.0051719787409  2.029196019315997  9814 ...    0.0    0.0     0.0\n",
      "5255493 151.00185962450922  2.052581978898913  9814 ...    0.0    0.0     0.0\n",
      "5255505 150.99688733891776 2.0539668087065523  9814 ...    0.0    0.0     0.0\n",
      "5255506  150.9962997572257   2.05410812734494  9814 ...    0.0    0.0     0.0\n",
      "5257419  150.9006924590208 2.3234876658413675  9814 ...    0.0    0.0     0.0\n",
      "5258438 150.99947441458156  2.454047998165404  9814 ...    0.0    0.0     0.0\n",
      "5259435  150.9289402697122 2.6923072390077563  9814 ...    0.0    0.0     0.0\n",
      "Length = 671 rows\n"
     ]
    }
   ],
   "source": [
    "ugr_drops.pprint()"
   ]
  },
  {
   "cell_type": "code",
   "execution_count": 46,
   "metadata": {},
   "outputs": [
    {
     "data": {
      "text/plain": [
       "Text(0, 0.5, 'Counts per $\\\\Delta z$=0.05')"
      ]
     },
     "execution_count": 46,
     "metadata": {},
     "output_type": "execute_result"
    },
    {
     "data": {
      "image/png": "[encoded data removed]",
      "text/plain": [
       "<Figure size 432x288 with 1 Axes>"
      ]
     },
     "metadata": {
      "needs_background": "light"
     },
     "output_type": "display_data"
    }
   ],
   "source": [
    "_ = pl.hist(ugr_drops['Z_BC03'], bins=np.arange(0.0, 6.0, 0.05))\n",
    "pl.xlabel('ZBC03')\n",
    "pl.ylabel('Counts per $\\Delta z$=0.05')"
   ]
  },
  {
   "cell_type": "code",
   "execution_count": 88,
   "metadata": {},
   "outputs": [],
   "source": [
    "ug_drops = cat[cat['r'] > 0.0]"
   ]
  },
  {
   "cell_type": "code",
   "execution_count": 89,
   "metadata": {},
   "outputs": [
    {
     "name": "stdout",
     "output_type": "stream",
     "text": [
      "   ID           RA                DEC         TRACT ... VMAX_r VMAX_i VMAX_Ks\n",
      "------- ------------------ ------------------ ----- ... ------ ------ -------\n",
      "   1104  149.5303635331854  2.898832194731732 10054 ...    0.0    0.0     0.0\n",
      "   1324  149.5546476309941  2.899404163434983 10054 ...    0.0    0.0     0.0\n",
      "   3431  149.5727626274059   2.93040155940958 10054 ...    0.0    0.0     0.0\n",
      "  13932 149.47932239748008  3.047279197811408 10054 ...    0.0    0.0     0.0\n",
      "  14788 149.51715997658272 3.0779190096874123 10054 ...    0.0    0.0     0.0\n",
      "  15725 149.55150769405358 3.0875237287161674 10054 ...    0.0    0.0     0.0\n",
      "  16366 149.58593678713308 3.0933257068110582 10054 ...    0.0    0.0     0.0\n",
      "  16465  149.5619444747661  3.094946079590013 10054 ...    0.0    0.0     0.0\n",
      "  16555 149.47240242014735 3.0958854812111767 10054 ...    0.0    0.0     0.0\n",
      "  18811  149.4346568936955  3.118136444664425 10054 ...    0.0    0.0     0.0\n",
      "    ...                ...                ...   ... ...    ...    ...     ...\n",
      "5249696 151.00555585193194 1.4218742694752644  9814 ...    0.0    0.0     0.0\n",
      "5250751 151.02495744438966 1.4711843778285416  9814 ...    0.0    0.0     0.0\n",
      "5255357  151.0065070911656   2.02888170035348  9814 ...    0.0    0.0     0.0\n",
      "5255531  150.9909013272169  2.055611324580978  9814 ...    0.0    0.0     0.0\n",
      "5255926 151.04916573391205 2.0992504044144176  9814 ...    0.0    0.0     0.0\n",
      "5257588  150.9168436623457  2.290968065547909  9814 ...    0.0    0.0     0.0\n",
      "5257814 150.90745338037635   2.35527261457152  9814 ...    0.0    0.0     0.0\n",
      "5258700  150.8949722449361   2.48083124547246  9814 ...    0.0    0.0     0.0\n",
      "5258710 150.89616083489253  2.478144912775394  9814 ...    0.0    0.0     0.0\n",
      "5259077  150.9003242958745 2.5975914781654104  9814 ...    0.0    0.0     0.0\n",
      "5262438 151.00840670003126 3.0097707431212624  9814 ...    0.0    0.0     0.0\n",
      "Length = 4243 rows\n"
     ]
    }
   ],
   "source": [
    "ug_drops.pprint()"
   ]
  },
  {
   "cell_type": "code",
   "execution_count": 90,
   "metadata": {},
   "outputs": [
    {
     "data": {
      "text/plain": [
       "Text(0, 0.5, 'r-i')"
      ]
     },
     "execution_count": 90,
     "metadata": {},
     "output_type": "execute_result"
    },
    {
     "data": {
      "image/png": "[encoded data removed]",
      "text/plain": [
       "<Figure size 432x288 with 1 Axes>"
      ]
     },
     "metadata": {
      "needs_background": "light"
     },
     "output_type": "display_data"
    }
   ],
   "source": [
    "pl.plot(ug_drops['Z_BC03'], ug_drops['r'] - ug_drops['i'], marker='.', lw=0.0, markersize=2)\n",
    "pl.axhline(1.0, lw=1., c='k')\n",
    "pl.xlim(0.0, 6.0)\n",
    "pl.ylim(-3., 9.)\n",
    "pl.xlabel('ZC03')\n",
    "pl.ylabel('r-i')"
   ]
  },
  {
   "cell_type": "code",
   "execution_count": 96,
   "metadata": {},
   "outputs": [],
   "source": [
    "ug_drops = ug_drops[(ug_drops['r'] - ug_drops['i']) < 1.0]"
   ]
  },
  {
   "cell_type": "code",
   "execution_count": 97,
   "metadata": {},
   "outputs": [
    {
     "name": "stdout",
     "output_type": "stream",
     "text": [
      "   ID           RA                DEC         TRACT ... VMAX_r VMAX_i VMAX_Ks\n",
      "------- ------------------ ------------------ ----- ... ------ ------ -------\n",
      "  13932 149.47932239748008  3.047279197811408 10054 ...    0.0    0.0     0.0\n",
      "  16465  149.5619444747661  3.094946079590013 10054 ...    0.0    0.0     0.0\n",
      "  20180  149.4544755269151  3.131574793363221 10054 ...    0.0    0.0     0.0\n",
      "  36758 149.44493818013018 3.2925017616535786 10054 ...    0.0    0.0     0.0\n",
      "  54189  149.5204370479579 3.4660222059470955 10054 ...    0.0    0.0     0.0\n",
      "  55069 149.49355091952486 3.4756332647189216 10054 ...    0.0    0.0     0.0\n",
      "  56174 149.58865827124825 3.4881469727924013 10054 ...    0.0    0.0     0.0\n",
      "  56318 149.46742497705026 3.4899061771627213 10054 ...    0.0    0.0     0.0\n",
      "  59995 149.52136635571878  3.531739352353614 10054 ...    0.0    0.0     0.0\n",
      "  63505 149.42175914337665  3.619960216259096 10054 ...    0.0    0.0     0.0\n",
      "    ...                ...                ...   ... ...    ...    ...     ...\n",
      "5215118 151.22630819027853   2.57926543717893  9814 ...    0.0    0.0     0.0\n",
      "5216583 151.13750329760393 2.5932719582713646  9814 ...    0.0    0.0     0.0\n",
      "5228474 151.18164497295584  2.699260007088652  9814 ...    0.0    0.0     0.0\n",
      "5230556 151.15315334965612 2.7188571243866617  9814 ...    0.0    0.0     0.0\n",
      "5235088 151.22645290822115  2.758378454956308  9814 ...    0.0    0.0     0.0\n",
      "5238654 151.09212270050597  2.791486765311364  9814 ...    0.0    0.0     0.0\n",
      "5242017  151.0884788033258  2.820359038888001  9814 ...    0.0    0.0     0.0\n",
      "5257588  150.9168436623457  2.290968065547909  9814 ...    0.0    0.0     0.0\n",
      "5257814 150.90745338037635   2.35527261457152  9814 ...    0.0    0.0     0.0\n",
      "5258710 150.89616083489253  2.478144912775394  9814 ...    0.0    0.0     0.0\n",
      "5259077  150.9003242958745 2.5975914781654104  9814 ...    0.0    0.0     0.0\n",
      "Length = 718 rows\n"
     ]
    }
   ],
   "source": [
    "ug_drops.pprint()"
   ]
  },
  {
   "cell_type": "code",
   "execution_count": 98,
   "metadata": {},
   "outputs": [
    {
     "data": {
      "text/plain": [
       "0.18523676880222842"
      ]
     },
     "execution_count": 98,
     "metadata": {},
     "output_type": "execute_result"
    }
   ],
   "source": [
    "np.mean(ug_drops['Z_BC03'] < 1.5)"
   ]
  },
  {
   "cell_type": "code",
   "execution_count": 99,
   "metadata": {},
   "outputs": [],
   "source": [
    "interlopers = ug_drops[ug_drops['Z_BC03'] < 1.5]"
   ]
  },
  {
   "cell_type": "code",
   "execution_count": 100,
   "metadata": {},
   "outputs": [
    {
     "name": "stdout",
     "output_type": "stream",
     "text": [
      "   ID           RA                DEC         TRACT ... VMAX_r VMAX_i VMAX_Ks\n",
      "------- ------------------ ------------------ ----- ... ------ ------ -------\n",
      "  56318 149.46742497705026 3.4899061771627213 10054 ...    0.0    0.0     0.0\n",
      "  66027 149.55951764056195  3.592809380983006 10054 ...    0.0    0.0     0.0\n",
      "  69696  149.5650655386416  3.640519728190521 10054 ...    0.0    0.0     0.0\n",
      "  80703 149.27600757399966  2.891551550464332 10054 ...    0.0    0.0     0.0\n",
      "  94191 149.34388510476106 3.0310019672605395 10054 ...    0.0    0.0     0.0\n",
      " 117021 149.38196578177445 3.2317154456631108 10054 ...    0.0    0.0     0.0\n",
      " 149944 149.40234253365972  3.603897311065991 10054 ...    0.0    0.0     0.0\n",
      " 158400  149.2655315406757   3.69112552615553 10054 ...    0.0    0.0     0.0\n",
      " 181609 149.16531247755842  3.066995522195112 10054 ...    0.0    0.0     0.0\n",
      " 181821 149.16268246837402  3.062438579920413 10054 ...    0.0    0.0     0.0\n",
      "    ...                ...                ...   ... ...    ...    ...     ...\n",
      "4943587  151.4612146411396  1.855592980071317  9814 ...    0.0    0.0     0.0\n",
      "5000201 151.59305321132288  2.865049710136667  9814 ...    0.0    0.0     0.0\n",
      "5023618 151.41148929620664 1.7813138608727024  9814 ...    0.0    0.0     0.0\n",
      "5038763 151.39377749719358 1.9410930928281025  9814 ...    0.0    0.0     0.0\n",
      "5070896   151.311782406223   2.41409140680374  9814 ...    0.0    0.0     0.0\n",
      "5135626  151.1632099402804   1.73834081096041  9814 ...    0.0    0.0     0.0\n",
      "5215118 151.22630819027853   2.57926543717893  9814 ...    0.0    0.0     0.0\n",
      "5216583 151.13750329760393 2.5932719582713646  9814 ...    0.0    0.0     0.0\n",
      "5238654 151.09212270050597  2.791486765311364  9814 ...    0.0    0.0     0.0\n",
      "5242017  151.0884788033258  2.820359038888001  9814 ...    0.0    0.0     0.0\n",
      "5257814 150.90745338037635   2.35527261457152  9814 ...    0.0    0.0     0.0\n",
      "Length = 133 rows\n"
     ]
    }
   ],
   "source": [
    "interlopers.pprint()"
   ]
  },
  {
   "cell_type": "markdown",
   "metadata": {},
   "source": [
    "# Done."
   ]
  }
 ],
 "metadata": {
  "kernelspec": {
   "display_name": "DESI master",
   "language": "python",
   "name": "desi-master"
  },
  "language_info": {
   "codemirror_mode": {
    "name": "ipython",
    "version": 3
   },
   "file_extension": ".py",
   "mimetype": "text/x-python",
   "name": "python",
   "nbconvert_exporter": "python",
   "pygments_lexer": "ipython3",
   "version": "3.8.3"
  }
 },
 "nbformat": 4,
 "nbformat_minor": 4
}
