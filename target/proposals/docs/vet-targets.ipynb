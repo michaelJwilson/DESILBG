{
 "cells": [
  {
   "cell_type": "code",
   "execution_count": 1,
   "metadata": {},
   "outputs": [
    {
     "name": "stderr",
     "output_type": "stream",
     "text": [
      "WARNING: leap-second auto-update failed due to the following exception: RuntimeError('Cache is locked after 5.06 s. This may indicate an astropy bug or that kill -9 was used. If you want to unlock the cache remove the directory /global/homes/m/mjwilson/.astropy/cache/download/py3/lock. Lock claims to be held by process .') [astropy.time.core]\n"
     ]
    }
   ],
   "source": [
    "import astropy.io.fits as fits\n",
    "import pylab as pl\n",
    "import numpy as np\n",
    "\n",
    "from astropy.table import Table\n",
    "from astropy.coordinates import SkyCoord\n",
    "from astropy import units as u"
   ]
  },
  {
   "cell_type": "code",
   "execution_count": 2,
   "metadata": {},
   "outputs": [],
   "source": [
    "def bx(cat, rmin=19., rmax=24.5):\n",
    "    # https://arxiv.org/pdf/0903.3951.pdf    \n",
    "    isin = np.ones(len(cat), dtype=bool)\n",
    "\n",
    "    cat['u-g'] = cat['u'] - cat['g']\n",
    "    cat['g-r'] = cat['g'] - cat['r']\n",
    "    \n",
    "    # LATIS, https://arxiv.org/pdf/2002.10676.pdf\n",
    "    # 0.5 < u − g < 2.2 and −0.1 < g − r < 1.0 and u − g > 0.50 + 2.3(g − r − 0.35).\n",
    "    isin &= cat['u-g'] >  0.0\n",
    "    isin &= cat['u-g'] <  3.0\n",
    "    isin &= cat['g-r'] > -0.5\n",
    "    isin &= cat['g-r'] <  1.0\n",
    "    isin &= cat['u-g'] >  1.0 + 2.3 * (cat['g-r'] - 0.35)\n",
    "\n",
    "    # isin &= ((cat['g-r'] < 0.25) & (cat['u-g'] < 1.2)) | (cat['u-g'] >= 1.2)\n",
    "    # isin &= ((cat['g-r'] < 0.15) & (cat['u-g'] < 1.0)) | (cat['u-g'] >= 1.0)\n",
    "    \n",
    "    isin  = isin & (cat['r'] > rmin)\n",
    "    isin  = isin & (cat['r'] < rmax)\n",
    "    \n",
    "    isin  = isin & (~liu_udrops(cat, band='r', magmin=rmin, maglim=rmax))\n",
    "\n",
    "    # Catch -99 for ill defined magnitudes\n",
    "    isin = isin & (cat['u'] > 0.0)\n",
    "    isin = isin & (cat['g'] > 0.0)\n",
    "    \n",
    "    return  isin"
   ]
  },
  {
   "cell_type": "code",
   "execution_count": 3,
   "metadata": {},
   "outputs": [],
   "source": [
    "def liu_udrops(clauds, band='r', magmin=0.0, maglim=35.):\n",
    "    '''\n",
    "    u-drop color selection.\n",
    "    '''\n",
    "\n",
    "    # Check these targets have u band imaging available. \n",
    "    # assert  np.all(clauds['FLAG_FIELD_BINARY'][:,1] == True)\n",
    "    \n",
    "    isin = clauds['g'] - clauds['r'] < 1.2\n",
    "    \n",
    "    isin = isin & (clauds['u'] - clauds['g'] > 0.88)\n",
    "    isin = isin & (clauds['u'] - clauds['g'] > 1.99 * (clauds['g'] - clauds['r']) + 0.68)\n",
    "\n",
    "    isin = isin & (clauds[band] < maglim)\n",
    "    isin = isin & (clauds[band] > magmin)\n",
    "    \n",
    "    # Catch -99 for ill defined magnitudes\n",
    "    isin = isin & (clauds['u'] > 0.0)\n",
    "    isin = isin & (clauds['g'] > 0.0)\n",
    "    isin = isin & (clauds['r'] > 0.0)\n",
    "    \n",
    "    return  isin"
   ]
  },
  {
   "cell_type": "code",
   "execution_count": 4,
   "metadata": {},
   "outputs": [],
   "source": [
    "def gdrop(cat, imin=18., imax=25.5):\n",
    "    # https://arxiv.org/pdf/0903.3951.pdf    \n",
    "    isin  = np.ones(len(cat), dtype=bool)\n",
    "\n",
    "    cat['r-i'] = cat['r'] - cat['i']\n",
    "    cat['g-r'] = cat['g'] - cat['r']\n",
    "\n",
    "    # https://arxiv.org/pdf/1704.06004.pdf\n",
    "    isin &= cat['g-r'] >  1.0\n",
    "    isin &= cat['r-i'] <  1.0    \n",
    "    isin &= cat['g-r'] >  1.5 * cat['r-i'] + 0.8\n",
    "    \n",
    "    isin  = isin & (cat['i'] > imin)\n",
    "    isin  = isin & (cat['i'] < imax)\n",
    "    \n",
    "    # Catch -99 for ill defined magnitudes\n",
    "    isin = isin & (cat['g'] > 0.0)\n",
    "    isin = isin & (cat['r'] > 0.0)\n",
    "    isin = isin & (cat['i'] > 0.0)\n",
    "    \n",
    "    # Exclude where we have u imaging\n",
    "    # isin = isin & (cat['FLAG_FIELD_BINARY'][:,1] == False)\n",
    "        \n",
    "    return  isin"
   ]
  },
  {
   "cell_type": "markdown",
   "metadata": {},
   "source": [
    "# Load parent LBGLAE"
   ]
  },
  {
   "cell_type": "code",
   "execution_count": 5,
   "metadata": {},
   "outputs": [],
   "source": [
    "dat = Table.read('/global/cscratch1/sd/mjwilson/secondary/sv1/raw/Mar21/LBG_LBGLAE.fits')"
   ]
  },
  {
   "cell_type": "code",
   "execution_count": 6,
   "metadata": {},
   "outputs": [
    {
     "name": "stdout",
     "output_type": "stream",
     "text": [
      "   ID           RA                DEC         MASK ... H_ERR     KS   KS_ERR\n",
      "------- ------------------ ------------------ ---- ... ------ ------- ------\n",
      "2583147 150.75933271574516  0.983195946873128    0 ... 1000.0 -99.008 1000.0\n",
      " 573916 150.86911633369758  3.426048659419034    0 ... 1000.0 -99.006 1000.0\n",
      "2780988 149.50564681564768   1.85035147374792    0 ...  0.038  22.842  0.031\n",
      " 531718  150.7392966994768 3.0388757335261487    0 ... 1000.0 -99.007 1000.0\n",
      "4284702  150.1982722567504  2.540242923257786    0 ...  0.017  21.643  0.019\n",
      "3304418 148.88704835035935  2.860288849123229    0 ... 1000.0 -99.008 1000.0\n",
      "4867461  149.4769176608476 2.7146748082853858    0 ...   0.08   22.03   0.28\n",
      "5242180 151.10482625165122  2.821128757377072    0 ... 1000.0 -99.009 1000.0\n",
      "2604067 150.77116917897175 1.2011132416614745    0 ... 1000.0 -99.008 1000.0\n",
      "3913049  150.7108549121019  2.544422091021527    0 ...  0.001  18.408  0.002\n",
      "    ...                ...                ...  ... ...    ...     ...    ...\n",
      "3670760 150.88249001157445 1.9255805313351309    0 ... 1000.0 -99.007  -99.0\n",
      "3506443 151.01510178649914 1.7964583841473942    0 ... 1000.0 -99.008 1000.0\n",
      "2592168 150.76850728841964  1.080386397320256    0 ... 1000.0 -99.008 1000.0\n",
      "2529272 151.00843264577267 1.3091367782107406    0 ... 1000.0 -99.009 1000.0\n",
      "2595560 150.72112479452605 1.1141925582643062    0 ... 1000.0 -99.008 1000.0\n",
      "2514611  150.9339516734548 1.1720102721658336    0 ... 1000.0 -99.008 1000.0\n",
      "1561677  150.2937863599055 1.1129627220818596    0 ... 1000.0 -99.006 1000.0\n",
      "2415924 151.07328684076285 1.0665682868063735    0 ... 1000.0 -99.008 1000.0\n",
      "2544751 150.83389832859564 1.4591107511866326    0 ... 1000.0 -99.008 1000.0\n",
      "4191671  150.3176260446553 1.9030844910939728    0 ...  0.047  23.188  0.075\n",
      "4498320  150.1409476367925  2.829422083574351    0 ...  0.075  23.768   0.11\n",
      "Length = 15674 rows\n"
     ]
    }
   ],
   "source": [
    "dat.pprint()"
   ]
  },
  {
   "cell_type": "code",
   "execution_count": 7,
   "metadata": {},
   "outputs": [
    {
     "data": {
      "text/html": [
       "<i>Table length=15674</i>\n",
       "<table id=\"table46912564357296\" class=\"table-striped table-bordered table-condensed\">\n",
       "<thead><tr><th>ID</th><th>RA</th><th>DEC</th><th>MASK</th><th>FLAG_FIELD</th><th>FLAG_FIELD_BINARY [7]</th><th>EB_V</th><th>FUV_err</th><th>NUV_err</th><th>MAG_ABS_FUV</th><th>MAG_ABS_NUV</th><th>MAG_ABS_u</th><th>MAG_ABS_uS</th><th>MAG_ABS_g</th><th>MAG_ABS_r</th><th>MAG_ABS_i</th><th>MAG_ABS_z</th><th>MAG_ABS_y</th><th>MAG_ABS_Yv</th><th>MAG_ABS_J</th><th>MAG_ABS_H</th><th>MAG_ABS_Ks</th><th>Z_SPEC</th><th>Z_BEST</th><th>NBAND_USED</th><th>CHI_BEST</th><th>CHI_STAR</th><th>CHI_QSO</th><th>MOD_BEST</th><th>MOD_STAR</th><th>MOD_QSO</th><th>Z_ML</th><th>Z_ML68_LOW</th><th>Z_ML68_HIGH</th><th>Z_SEC</th><th>Z_QSO</th><th>Z_BC03</th><th>ZPHOT</th><th>MOD_BEST_BC03</th><th>PRIORITY</th><th>TILEID</th><th>SAMPLE</th><th>TARGETID</th><th>SUBPRIORITY</th><th>PMRA</th><th>PMDEC</th><th>REF_EPOCH</th><th>OVERRIDE</th><th>U</th><th>U_ERR</th><th>US</th><th>US_ERR</th><th>G</th><th>G_ERR</th><th>R</th><th>R_ERR</th><th>I</th><th>I_ERR</th><th>Z</th><th>Z_ERR</th><th>Y</th><th>Y_ERR</th><th>YV</th><th>YV_ERR</th><th>J_ERR</th><th>H_ERR</th><th>KS</th><th>KS_ERR</th></tr></thead>\n",
       "<thead><tr><th>int64</th><th>float64</th><th>float64</th><th>int16</th><th>int16</th><th>bool</th><th>float64</th><th>float64</th><th>float64</th><th>float64</th><th>float64</th><th>float64</th><th>float64</th><th>float64</th><th>float64</th><th>float64</th><th>float64</th><th>float64</th><th>float64</th><th>float64</th><th>float64</th><th>float64</th><th>float64</th><th>float64</th><th>int64</th><th>float64</th><th>float64</th><th>float64</th><th>int64</th><th>int64</th><th>int64</th><th>float64</th><th>float64</th><th>float64</th><th>float64</th><th>float64</th><th>float64</th><th>float64</th><th>int64</th><th>int64</th><th>int32</th><th>bytes9</th><th>int64</th><th>float64</th><th>float32</th><th>float32</th><th>float32</th><th>bool</th><th>float64</th><th>float64</th><th>float64</th><th>float64</th><th>float64</th><th>float64</th><th>float64</th><th>float64</th><th>float64</th><th>float64</th><th>float64</th><th>float64</th><th>float64</th><th>float64</th><th>float64</th><th>float64</th><th>float64</th><th>float64</th><th>float64</th><th>float64</th></tr></thead>\n",
       "<tr><td>2583147</td><td>150.75933271574516</td><td>0.983195946873128</td><td>0</td><td>7</td><td>True .. False</td><td>0.020819177342490044</td><td>-99.0</td><td>-99.0</td><td>-13.69</td><td>-13.808</td><td>-14.48</td><td>-14.7</td><td>-15.219</td><td>-15.461</td><td>-15.581</td><td>-15.644</td><td>-15.699</td><td>-15.714</td><td>-15.717</td><td>-15.828</td><td>-15.589</td><td>-99.0</td><td>0.02</td><td>11</td><td>8.99221</td><td>50.9027</td><td>54.8312</td><td>2</td><td>49</td><td>1</td><td>0.0426</td><td>0.0069</td><td>0.0694</td><td>-99.0</td><td>0.04</td><td>0.0426</td><td>0.0426</td><td>2</td><td>10000</td><td>2068</td><td>CLAUDS-BX</td><td>4339</td><td>0.8743910704931016</td><td>0.0</td><td>0.0</td><td>0.0</td><td>False</td><td>22.057</td><td>0.0</td><td>21.957</td><td>0.006</td><td>21.166</td><td>0.001</td><td>20.873</td><td>0.001</td><td>20.758</td><td>0.002</td><td>20.693</td><td>0.002</td><td>20.675</td><td>0.005</td><td>-99.025</td><td>1000.0</td><td>1000.0</td><td>1000.0</td><td>-99.008</td><td>1000.0</td></tr>\n",
       "<tr><td>573916</td><td>150.86911633369758</td><td>3.426048659419034</td><td>0</td><td>7</td><td>True .. False</td><td>0.017170668097478598</td><td>-99.0</td><td>-99.0</td><td>-11.494</td><td>-13.077</td><td>-15.089</td><td>-15.398</td><td>-16.249</td><td>-16.484</td><td>-16.555</td><td>-16.717</td><td>-16.782</td><td>-16.799</td><td>-16.813</td><td>-16.943</td><td>-16.715</td><td>-99.0</td><td>0.0834</td><td>11</td><td>279.852</td><td>105.382</td><td>39.3204</td><td>2</td><td>63</td><td>30</td><td>0.08</td><td>0.0664</td><td>0.0936</td><td>-99.0</td><td>3.08</td><td>0.08</td><td>0.08</td><td>1</td><td>10000</td><td>39966</td><td>CLAUDS-U</td><td>109</td><td>0.307109878015725</td><td>0.0</td><td>0.0</td><td>0.0</td><td>False</td><td>23.183</td><td>0.005</td><td>22.978</td><td>0.012</td><td>21.631</td><td>0.002</td><td>21.278</td><td>0.002</td><td>21.216</td><td>0.002</td><td>21.093</td><td>0.002</td><td>21.007</td><td>0.005</td><td>-99.021</td><td>1000.0</td><td>1000.0</td><td>1000.0</td><td>-99.006</td><td>1000.0</td></tr>\n",
       "<tr><td>2780988</td><td>149.50564681564768</td><td>1.85035147374792</td><td>0</td><td>95</td><td>True .. True</td><td>0.017389397440208332</td><td>-99.0</td><td>-99.0</td><td>-22.063</td><td>-22.078</td><td>-22.229</td><td>-22.387</td><td>-22.964</td><td>-22.988</td><td>-23.023</td><td>-23.097</td><td>-23.148</td><td>-23.158</td><td>-23.136</td><td>-23.207</td><td>-22.948</td><td>-99.0</td><td>3.3102</td><td>11</td><td>12.2932</td><td>353.556</td><td>34.894</td><td>2</td><td>143</td><td>24</td><td>3.2946</td><td>3.2518</td><td>3.328</td><td>-99.0</td><td>3.24</td><td>3.2946</td><td>3.2946</td><td>2</td><td>10000</td><td>11155</td><td>CLAUDS-U</td><td>119</td><td>0.11247313705618422</td><td>0.0</td><td>0.0</td><td>0.0</td><td>False</td><td>28.852</td><td>0.893</td><td>26.3</td><td>0.129</td><td>24.071</td><td>0.01</td><td>23.598</td><td>0.008</td><td>23.558</td><td>0.01</td><td>23.523</td><td>0.014</td><td>23.628</td><td>0.031</td><td>23.624</td><td>0.026</td><td>0.034</td><td>0.038</td><td>22.842</td><td>0.031</td></tr>\n",
       "<tr><td>531718</td><td>150.7392966994768</td><td>3.0388757335261487</td><td>0</td><td>7</td><td>True .. False</td><td>0.0180709168628438</td><td>-99.0</td><td>-99.0</td><td>-13.7</td><td>-14.546</td><td>-15.959</td><td>-16.257</td><td>-17.069</td><td>-17.27</td><td>-17.305</td><td>-17.375</td><td>-17.44</td><td>-17.454</td><td>-17.452</td><td>-17.559</td><td>-17.326</td><td>-99.0</td><td>0.0635</td><td>11</td><td>269.345</td><td>73.1368</td><td>13.3639</td><td>1</td><td>51</td><td>30</td><td>0.06</td><td>0.0464</td><td>0.0736</td><td>-99.0</td><td>3.0</td><td>0.06</td><td>0.06</td><td>1</td><td>10000</td><td>34204</td><td>CLAUDS-U</td><td>118</td><td>0.6347785534909552</td><td>0.0</td><td>0.0</td><td>0.0</td><td>False</td><td>21.481</td><td>0.001</td><td>21.358</td><td>0.002</td><td>20.104</td><td>0.0</td><td>19.828</td><td>0.0</td><td>19.794</td><td>0.0</td><td>19.752</td><td>0.001</td><td>19.697</td><td>0.001</td><td>-99.022</td><td>1000.0</td><td>1000.0</td><td>1000.0</td><td>-99.007</td><td>1000.0</td></tr>\n",
       "<tr><td>4284702</td><td>150.1982722567504</td><td>2.540242923257786</td><td>0</td><td>127</td><td>True .. True</td><td>0.015768861470084283</td><td>-99.0</td><td>-99.0</td><td>-23.224</td><td>-23.356</td><td>-23.632</td><td>-23.719</td><td>-24.03</td><td>-24.1</td><td>-24.183</td><td>-24.282</td><td>-24.332</td><td>-24.343</td><td>-24.374</td><td>-24.435</td><td>-24.16</td><td>-99.0</td><td>3.0909</td><td>11</td><td>19.9142</td><td>130.281</td><td>57.546</td><td>33</td><td>143</td><td>25</td><td>3.0902</td><td>3.0691</td><td>3.111</td><td>-99.0</td><td>3.3</td><td>3.0902</td><td>3.0902</td><td>10</td><td>10000</td><td>11155</td><td>CLAUDS-U</td><td>117</td><td>0.9673266517128524</td><td>0.0</td><td>0.0</td><td>0.0</td><td>False</td><td>25.181</td><td>0.126</td><td>24.395</td><td>0.047</td><td>22.894</td><td>0.012</td><td>22.337</td><td>0.009</td><td>22.201</td><td>0.009</td><td>22.168</td><td>0.014</td><td>22.234</td><td>0.028</td><td>22.383</td><td>0.016</td><td>0.018</td><td>0.017</td><td>21.643</td><td>0.019</td></tr>\n",
       "<tr><td>3304418</td><td>148.88704835035935</td><td>2.860288849123229</td><td>0</td><td>3</td><td>True .. False</td><td>0.02280842908644172</td><td>-99.0</td><td>-99.0</td><td>-17.931</td><td>-18.62</td><td>-19.742</td><td>-19.966</td><td>-20.688</td><td>-21.127</td><td>-21.459</td><td>-21.717</td><td>-21.851</td><td>-21.895</td><td>-22.045</td><td>-22.298</td><td>-22.178</td><td>-99.0</td><td>0.3128</td><td>11</td><td>2.64537</td><td>124.341</td><td>9.10963</td><td>29</td><td>99</td><td>21</td><td>0.3136</td><td>0.2969</td><td>0.3328</td><td>-99.0</td><td>0.32</td><td>0.3136</td><td>0.3136</td><td>9</td><td>10000</td><td>39965</td><td>CLAUDS-U</td><td>116</td><td>0.6120128892578972</td><td>0.0</td><td>0.0</td><td>0.0</td><td>False</td><td>27.419</td><td>1000.0</td><td>27.713</td><td>1000.0</td><td>20.986</td><td>0.002</td><td>20.094</td><td>0.001</td><td>19.735</td><td>0.001</td><td>19.301</td><td>0.001</td><td>19.381</td><td>0.002</td><td>-99.028</td><td>1000.0</td><td>1000.0</td><td>1000.0</td><td>-99.008</td><td>1000.0</td></tr>\n",
       "<tr><td>4867461</td><td>149.4769176608476</td><td>2.7146748082853858</td><td>0</td><td>31</td><td>True .. False</td><td>0.01705866216419284</td><td>-99.0</td><td>-99.0</td><td>-14.62</td><td>-15.061</td><td>-16.502</td><td>-16.643</td><td>-16.823</td><td>-16.934</td><td>-16.528</td><td>-17.053</td><td>-17.562</td><td>-17.567</td><td>-17.289</td><td>-16.969</td><td>-16.715</td><td>-99.0</td><td>0.0874</td><td>11</td><td>93.5901</td><td>106.707</td><td>124.746</td><td>29</td><td>236</td><td>1</td><td>0.084</td><td>0.068</td><td>0.0979</td><td>-99.0</td><td>0.08</td><td>0.084</td><td>0.084</td><td>7</td><td>10000</td><td>11155</td><td>CLAUDS-U</td><td>115</td><td>0.44843538351224776</td><td>0.0</td><td>0.0</td><td>0.0</td><td>False</td><td>22.479</td><td>0.133</td><td>21.577</td><td>0.057</td><td>21.069</td><td>0.025</td><td>20.913</td><td>0.028</td><td>20.6</td><td>0.026</td><td>21.226</td><td>0.072</td><td>20.782</td><td>0.097</td><td>20.448</td><td>0.028</td><td>0.045</td><td>0.08</td><td>22.03</td><td>0.28</td></tr>\n",
       "<tr><td>5242180</td><td>151.10482625165122</td><td>2.821128757377072</td><td>0</td><td>3</td><td>True .. False</td><td>0.025635471581155533</td><td>-99.0</td><td>-99.0</td><td>-22.753</td><td>-22.836</td><td>-23.037</td><td>-23.099</td><td>-23.25</td><td>-23.281</td><td>-23.334</td><td>-23.413</td><td>-23.45</td><td>-23.456</td><td>-23.465</td><td>-23.496</td><td>-23.217</td><td>-99.0</td><td>2.7695</td><td>11</td><td>0.18087</td><td>6.71033</td><td>1.38287</td><td>31</td><td>51</td><td>26</td><td>2.7931</td><td>2.7551</td><td>2.8376</td><td>-99.0</td><td>3.04</td><td>2.7931</td><td>2.7931</td><td>9</td><td>10000</td><td>34204</td><td>CLAUDS-U</td><td>114</td><td>0.6789928078894824</td><td>0.0</td><td>0.0</td><td>0.0</td><td>False</td><td>24.249</td><td>0.034</td><td>26.174</td><td>1000.0</td><td>22.891</td><td>0.01</td><td>22.582</td><td>0.012</td><td>22.579</td><td>0.016</td><td>22.51</td><td>0.021</td><td>22.448</td><td>0.053</td><td>-99.031</td><td>1000.0</td><td>1000.0</td><td>1000.0</td><td>-99.009</td><td>1000.0</td></tr>\n",
       "<tr><td>2604067</td><td>150.77116917897175</td><td>1.2011132416614745</td><td>0</td><td>7</td><td>True .. False</td><td>0.02258328758895531</td><td>-99.0</td><td>-99.0</td><td>-21.649</td><td>-21.745</td><td>-22.608</td><td>-22.853</td><td>-23.392</td><td>-23.48</td><td>-23.531</td><td>-23.605</td><td>-23.662</td><td>-23.671</td><td>-23.649</td><td>-23.724</td><td>-23.475</td><td>-99.0</td><td>3.2563</td><td>11</td><td>2.1445</td><td>3.27164</td><td>2.27454</td><td>27</td><td>74</td><td>29</td><td>3.2581</td><td>3.1317</td><td>3.377</td><td>-99.0</td><td>3.34</td><td>3.2581</td><td>3.2581</td><td>1</td><td>10000</td><td>2068</td><td>CLAUDS-U</td><td>113</td><td>0.03255199342823334</td><td>0.0</td><td>0.0</td><td>0.0</td><td>False</td><td>29.43</td><td>3.908</td><td>26.193</td><td>0.577</td><td>24.906</td><td>0.056</td><td>24.059</td><td>0.04</td><td>23.794</td><td>0.037</td><td>23.745</td><td>0.061</td><td>23.98</td><td>0.178</td><td>-99.027</td><td>1000.0</td><td>1000.0</td><td>1000.0</td><td>-99.008</td><td>1000.0</td></tr>\n",
       "<tr><td>3913049</td><td>150.7108549121019</td><td>2.544422091021527</td><td>0</td><td>95</td><td>True .. True</td><td>0.017805629861202193</td><td>-99.0</td><td>-99.0</td><td>-15.638</td><td>-17.981</td><td>-21.045</td><td>-21.38</td><td>-22.984</td><td>-23.888</td><td>-24.187</td><td>-24.085</td><td>-24.236</td><td>-24.289</td><td>-24.002</td><td>-24.202</td><td>-23.954</td><td>-99.0</td><td>0.6243</td><td>11</td><td>1558.96</td><td>483.948</td><td>1632.92</td><td>2</td><td>217</td><td>28</td><td>-99.0</td><td>-99.0</td><td>-99.0</td><td>-99.0</td><td>2.06</td><td>0.6243</td><td>0.6243</td><td>2</td><td>10000</td><td>34204</td><td>CLAUDS-U</td><td>112</td><td>0.9915196837422892</td><td>0.0</td><td>0.0</td><td>0.0</td><td>False</td><td>24.906</td><td>0.047</td><td>24.579</td><td>0.051</td><td>21.662</td><td>0.002</td><td>20.885</td><td>0.001</td><td>19.352</td><td>0.0</td><td>18.726</td><td>0.0</td><td>18.543</td><td>0.001</td><td>18.569</td><td>0.001</td><td>0.001</td><td>0.001</td><td>18.408</td><td>0.002</td></tr>\n",
       "<tr><td>...</td><td>...</td><td>...</td><td>...</td><td>...</td><td>...</td><td>...</td><td>...</td><td>...</td><td>...</td><td>...</td><td>...</td><td>...</td><td>...</td><td>...</td><td>...</td><td>...</td><td>...</td><td>...</td><td>...</td><td>...</td><td>...</td><td>...</td><td>...</td><td>...</td><td>...</td><td>...</td><td>...</td><td>...</td><td>...</td><td>...</td><td>...</td><td>...</td><td>...</td><td>...</td><td>...</td><td>...</td><td>...</td><td>...</td><td>...</td><td>...</td><td>...</td><td>...</td><td>...</td><td>...</td><td>...</td><td>...</td><td>...</td><td>...</td><td>...</td><td>...</td><td>...</td><td>...</td><td>...</td><td>...</td><td>...</td><td>...</td><td>...</td><td>...</td><td>...</td><td>...</td><td>...</td><td>...</td><td>...</td><td>...</td><td>...</td><td>...</td><td>...</td></tr>\n",
       "<tr><td>3506443</td><td>151.01510178649914</td><td>1.7964583841473942</td><td>0</td><td>7</td><td>True .. False</td><td>0.020669533338635054</td><td>-99.0</td><td>-99.0</td><td>-20.652</td><td>-20.934</td><td>-21.211</td><td>-21.291</td><td>-21.546</td><td>-21.689</td><td>-21.827</td><td>-21.956</td><td>-22.021</td><td>-22.039</td><td>-22.098</td><td>-22.181</td><td>-21.941</td><td>-99.0</td><td>2.4338</td><td>11</td><td>1.41494</td><td>6.67388</td><td>2.74492</td><td>30</td><td>53</td><td>28</td><td>2.3731</td><td>0.0661</td><td>2.521</td><td>0.06</td><td>2.64</td><td>2.3731</td><td>2.3731</td><td>9</td><td>1000</td><td>34204</td><td>CLAUDS-BX</td><td>14011</td><td>0.05586143358348894</td><td>0.0</td><td>0.0</td><td>0.0</td><td>False</td><td>25.487</td><td>0.043</td><td>25.522</td><td>0.116</td><td>24.559</td><td>0.023</td><td>24.261</td><td>0.029</td><td>24.14</td><td>0.031</td><td>23.951</td><td>0.042</td><td>24.089</td><td>0.12</td><td>-99.025</td><td>1000.0</td><td>1000.0</td><td>1000.0</td><td>-99.008</td><td>1000.0</td></tr>\n",
       "<tr><td>2592168</td><td>150.76850728841964</td><td>1.080386397320256</td><td>0</td><td>7</td><td>True .. False</td><td>0.021171598423391072</td><td>-99.0</td><td>-99.0</td><td>-20.693</td><td>-21.041</td><td>-21.575</td><td>-21.692</td><td>-22.052</td><td>-22.249</td><td>-22.426</td><td>-22.583</td><td>-22.665</td><td>-22.688</td><td>-22.769</td><td>-22.891</td><td>-22.666</td><td>-99.0</td><td>2.3305</td><td>11</td><td>0.684877</td><td>18.794</td><td>4.4389</td><td>28</td><td>53</td><td>1</td><td>2.2955</td><td>0.0588</td><td>2.3781</td><td>0.06</td><td>2.5</td><td>2.2955</td><td>2.2955</td><td>9</td><td>1000</td><td>2068</td><td>CLAUDS-BX</td><td>14012</td><td>0.4148238688181298</td><td>0.0</td><td>0.0</td><td>0.0</td><td>False</td><td>25.335</td><td>0.043</td><td>25.032</td><td>0.102</td><td>24.421</td><td>0.019</td><td>24.156</td><td>0.024</td><td>23.96</td><td>0.025</td><td>23.805</td><td>0.034</td><td>23.756</td><td>0.08</td><td>-99.026</td><td>1000.0</td><td>1000.0</td><td>1000.0</td><td>-99.008</td><td>1000.0</td></tr>\n",
       "<tr><td>2529272</td><td>151.00843264577267</td><td>1.3091367782107406</td><td>0</td><td>3</td><td>True .. False</td><td>0.02342023940734588</td><td>-99.0</td><td>-99.0</td><td>-20.73</td><td>-21.226</td><td>-21.771</td><td>-21.87</td><td>-22.229</td><td>-22.483</td><td>-22.704</td><td>-22.884</td><td>-22.976</td><td>-23.005</td><td>-23.113</td><td>-23.248</td><td>-23.048</td><td>-99.0</td><td>2.5297</td><td>10</td><td>0.0962111</td><td>12.7336</td><td>2.03109</td><td>33</td><td>78</td><td>1</td><td>2.5416</td><td>0.0958</td><td>2.6664</td><td>0.08</td><td>0.06</td><td>2.5416</td><td>2.5416</td><td>10</td><td>1000</td><td>2068</td><td>CLAUDS-BX</td><td>14013</td><td>0.089072598268218</td><td>0.0</td><td>0.0</td><td>0.0</td><td>False</td><td>26.112</td><td>0.063</td><td>-99.109</td><td>-99.0</td><td>24.775</td><td>0.023</td><td>24.298</td><td>0.021</td><td>24.047</td><td>0.022</td><td>23.866</td><td>0.031</td><td>23.819</td><td>0.077</td><td>-99.028</td><td>1000.0</td><td>1000.0</td><td>1000.0</td><td>-99.009</td><td>1000.0</td></tr>\n",
       "<tr><td>2595560</td><td>150.72112479452605</td><td>1.1141925582643062</td><td>0</td><td>7</td><td>True .. False</td><td>0.02116700417063683</td><td>-99.0</td><td>-99.0</td><td>-20.521</td><td>-20.866</td><td>-21.41</td><td>-21.537</td><td>-21.922</td><td>-22.129</td><td>-22.311</td><td>-22.469</td><td>-22.553</td><td>-22.577</td><td>-22.661</td><td>-22.783</td><td>-22.554</td><td>-99.0</td><td>2.2875</td><td>11</td><td>0.269056</td><td>21.9044</td><td>1.66645</td><td>30</td><td>49</td><td>1</td><td>2.1683</td><td>0.0443</td><td>2.4004</td><td>0.06</td><td>2.46</td><td>2.1683</td><td>2.1683</td><td>5</td><td>1000</td><td>2068</td><td>CLAUDS-BX</td><td>14014</td><td>0.5131014339362896</td><td>0.0</td><td>0.0</td><td>0.0</td><td>False</td><td>25.237</td><td>0.029</td><td>25.19</td><td>0.151</td><td>24.421</td><td>0.017</td><td>24.155</td><td>0.02</td><td>24.003</td><td>0.022</td><td>23.869</td><td>0.03</td><td>23.814</td><td>0.07</td><td>-99.026</td><td>1000.0</td><td>1000.0</td><td>1000.0</td><td>-99.008</td><td>1000.0</td></tr>\n",
       "<tr><td>2514611</td><td>150.9339516734548</td><td>1.1720102721658336</td><td>0</td><td>7</td><td>True .. False</td><td>0.02206102575292699</td><td>-99.0</td><td>-99.0</td><td>-20.811</td><td>-20.832</td><td>-21.125</td><td>-21.238</td><td>-21.495</td><td>-21.522</td><td>-21.566</td><td>-21.642</td><td>-21.677</td><td>-21.677</td><td>-21.652</td><td>-21.696</td><td>-21.429</td><td>-99.0</td><td>2.299</td><td>11</td><td>1.39511</td><td>38.287</td><td>8.07477</td><td>23</td><td>246</td><td>28</td><td>2.2504</td><td>2.1467</td><td>2.3165</td><td>-99.0</td><td>0.58</td><td>2.2504</td><td>2.2504</td><td>10</td><td>1000</td><td>2068</td><td>CLAUDS-BX</td><td>14015</td><td>0.7030696085057238</td><td>0.0</td><td>0.0</td><td>0.0</td><td>False</td><td>24.506</td><td>0.017</td><td>24.323</td><td>0.059</td><td>24.192</td><td>0.016</td><td>24.176</td><td>0.025</td><td>24.155</td><td>0.03</td><td>24.147</td><td>0.049</td><td>24.054</td><td>0.106</td><td>-99.027</td><td>1000.0</td><td>1000.0</td><td>1000.0</td><td>-99.008</td><td>1000.0</td></tr>\n",
       "<tr><td>1561677</td><td>150.2937863599055</td><td>1.1129627220818596</td><td>0</td><td>7</td><td>True .. False</td><td>0.017156112587554638</td><td>-99.0</td><td>-99.0</td><td>-20.718</td><td>-20.976</td><td>-21.784</td><td>-21.986</td><td>-22.637</td><td>-23.006</td><td>-23.278</td><td>-23.47</td><td>-23.564</td><td>-23.593</td><td>-23.682</td><td>-23.873</td><td>-23.68</td><td>-99.0</td><td>2.2095</td><td>11</td><td>2.74881</td><td>31.3205</td><td>5.88161</td><td>30</td><td>238</td><td>4</td><td>2.2254</td><td>0.1135</td><td>2.3437</td><td>0.08</td><td>2.16</td><td>2.2254</td><td>2.2254</td><td>5</td><td>1000</td><td>2068</td><td>CLAUDS-BX</td><td>14016</td><td>0.1455622710075164</td><td>0.0</td><td>0.0</td><td>0.0</td><td>False</td><td>24.998</td><td>0.024</td><td>24.965</td><td>0.094</td><td>24.288</td><td>0.018</td><td>24.151</td><td>0.027</td><td>23.971</td><td>0.027</td><td>23.817</td><td>0.036</td><td>23.685</td><td>0.086</td><td>-99.021</td><td>1000.0</td><td>1000.0</td><td>1000.0</td><td>-99.006</td><td>1000.0</td></tr>\n",
       "<tr><td>2415924</td><td>151.07328684076285</td><td>1.0665682868063735</td><td>0</td><td>3</td><td>True .. False</td><td>0.021557274563012575</td><td>-99.0</td><td>-99.0</td><td>-21.196</td><td>-21.79</td><td>-22.473</td><td>-22.623</td><td>-23.128</td><td>-23.455</td><td>-23.73</td><td>-23.946</td><td>-24.059</td><td>-24.094</td><td>-24.221</td><td>-24.407</td><td>-24.24</td><td>-99.0</td><td>2.9004</td><td>11</td><td>1.33754</td><td>2.91461</td><td>5.38983</td><td>31</td><td>91</td><td>27</td><td>2.9068</td><td>2.8338</td><td>2.9964</td><td>-99.0</td><td>3.1</td><td>2.9068</td><td>2.9068</td><td>10</td><td>1000</td><td>2068</td><td>CLAUDS-BX</td><td>14017</td><td>0.4989290877626724</td><td>0.0</td><td>0.0</td><td>0.0</td><td>False</td><td>27.089</td><td>0.137</td><td>-99.101</td><td>1000.0</td><td>24.996</td><td>0.037</td><td>24.19</td><td>0.022</td><td>23.871</td><td>0.024</td><td>23.635</td><td>0.028</td><td>23.683</td><td>0.074</td><td>-99.026</td><td>1000.0</td><td>1000.0</td><td>1000.0</td><td>-99.008</td><td>1000.0</td></tr>\n",
       "<tr><td>2544751</td><td>150.83389832859564</td><td>1.4591107511866326</td><td>0</td><td>7</td><td>True .. False</td><td>0.022914176705669226</td><td>-99.0</td><td>-99.0</td><td>-20.663</td><td>-21.044</td><td>-21.82</td><td>-21.967</td><td>-22.417</td><td>-22.659</td><td>-22.868</td><td>-23.043</td><td>-23.132</td><td>-23.156</td><td>-23.23</td><td>-23.376</td><td>-23.185</td><td>-99.0</td><td>2.1594</td><td>11</td><td>8.81609</td><td>73.4922</td><td>8.01255</td><td>32</td><td>49</td><td>26</td><td>2.2102</td><td>2.1455</td><td>2.2902</td><td>-99.0</td><td>2.34</td><td>2.2102</td><td>2.2102</td><td>10</td><td>1000</td><td>2068</td><td>CLAUDS-BX</td><td>14018</td><td>0.5352426532145999</td><td>0.0</td><td>0.0</td><td>0.0</td><td>False</td><td>25.169</td><td>0.028</td><td>24.946</td><td>0.039</td><td>24.336</td><td>0.016</td><td>24.136</td><td>0.021</td><td>23.87</td><td>0.02</td><td>23.698</td><td>0.027</td><td>23.504</td><td>0.054</td><td>-99.028</td><td>1000.0</td><td>1000.0</td><td>1000.0</td><td>-99.008</td><td>1000.0</td></tr>\n",
       "<tr><td>4191671</td><td>150.3176260446553</td><td>1.9030844910939728</td><td>0</td><td>127</td><td>True .. True</td><td>0.016520525744692857</td><td>-99.0</td><td>-99.0</td><td>-20.912</td><td>-21.054</td><td>-21.503</td><td>-21.607</td><td>-22.004</td><td>-21.969</td><td>-22.068</td><td>-22.178</td><td>-22.234</td><td>-22.245</td><td>-22.275</td><td>-22.35</td><td>-22.094</td><td>-99.0</td><td>2.3259</td><td>11</td><td>8.90807</td><td>140.262</td><td>37.3836</td><td>32</td><td>239</td><td>28</td><td>2.3293</td><td>2.2996</td><td>2.3605</td><td>-99.0</td><td>0.74</td><td>2.3293</td><td>2.3293</td><td>10</td><td>1000</td><td>11155</td><td>CLAUDS-BX</td><td>14019</td><td>0.28472539228913163</td><td>0.0</td><td>0.0</td><td>0.0</td><td>False</td><td>24.907</td><td>0.02</td><td>24.8</td><td>0.019</td><td>24.213</td><td>0.011</td><td>24.007</td><td>0.011</td><td>23.984</td><td>0.012</td><td>23.923</td><td>0.018</td><td>24.015</td><td>0.038</td><td>24.133</td><td>0.067</td><td>0.055</td><td>0.047</td><td>23.188</td><td>0.075</td></tr>\n",
       "<tr><td>4498320</td><td>150.1409476367925</td><td>2.829422083574351</td><td>0</td><td>71</td><td>True .. True</td><td>0.015745763522336302</td><td>-99.0</td><td>1.479</td><td>-20.86</td><td>-21.07</td><td>-21.382</td><td>-21.482</td><td>-21.735</td><td>-21.649</td><td>-21.742</td><td>-21.847</td><td>-21.902</td><td>-21.914</td><td>-21.952</td><td>-22.019</td><td>-21.745</td><td>-99.0</td><td>2.6592</td><td>12</td><td>7.70501</td><td>48.3812</td><td>13.8583</td><td>32</td><td>236</td><td>1</td><td>2.6363</td><td>2.5681</td><td>2.6954</td><td>-99.0</td><td>0.04</td><td>2.6363</td><td>2.6363</td><td>7</td><td>1000</td><td>11155</td><td>CLAUDS-BX</td><td>14168</td><td>0.6795929512645633</td><td>0.0</td><td>0.0</td><td>0.0</td><td>False</td><td>25.597</td><td>0.04</td><td>25.515</td><td>0.049</td><td>24.629</td><td>0.013</td><td>24.305</td><td>0.012</td><td>24.248</td><td>0.014</td><td>24.175</td><td>0.02</td><td>24.249</td><td>0.043</td><td>24.412</td><td>0.087</td><td>0.093</td><td>0.075</td><td>23.768</td><td>0.11</td></tr>\n",
       "</table>"
      ],
      "text/plain": [
       "<Table length=15674>\n",
       "   ID           RA                DEC          MASK ...  H_ERR     KS    KS_ERR\n",
       " int64       float64            float64       int16 ... float64 float64 float64\n",
       "------- ------------------ ------------------ ----- ... ------- ------- -------\n",
       "2583147 150.75933271574516  0.983195946873128     0 ...  1000.0 -99.008  1000.0\n",
       " 573916 150.86911633369758  3.426048659419034     0 ...  1000.0 -99.006  1000.0\n",
       "2780988 149.50564681564768   1.85035147374792     0 ...   0.038  22.842   0.031\n",
       " 531718  150.7392966994768 3.0388757335261487     0 ...  1000.0 -99.007  1000.0\n",
       "4284702  150.1982722567504  2.540242923257786     0 ...   0.017  21.643   0.019\n",
       "3304418 148.88704835035935  2.860288849123229     0 ...  1000.0 -99.008  1000.0\n",
       "4867461  149.4769176608476 2.7146748082853858     0 ...    0.08   22.03    0.28\n",
       "5242180 151.10482625165122  2.821128757377072     0 ...  1000.0 -99.009  1000.0\n",
       "2604067 150.77116917897175 1.2011132416614745     0 ...  1000.0 -99.008  1000.0\n",
       "3913049  150.7108549121019  2.544422091021527     0 ...   0.001  18.408   0.002\n",
       "    ...                ...                ...   ... ...     ...     ...     ...\n",
       "3506443 151.01510178649914 1.7964583841473942     0 ...  1000.0 -99.008  1000.0\n",
       "2592168 150.76850728841964  1.080386397320256     0 ...  1000.0 -99.008  1000.0\n",
       "2529272 151.00843264577267 1.3091367782107406     0 ...  1000.0 -99.009  1000.0\n",
       "2595560 150.72112479452605 1.1141925582643062     0 ...  1000.0 -99.008  1000.0\n",
       "2514611  150.9339516734548 1.1720102721658336     0 ...  1000.0 -99.008  1000.0\n",
       "1561677  150.2937863599055 1.1129627220818596     0 ...  1000.0 -99.006  1000.0\n",
       "2415924 151.07328684076285 1.0665682868063735     0 ...  1000.0 -99.008  1000.0\n",
       "2544751 150.83389832859564 1.4591107511866326     0 ...  1000.0 -99.008  1000.0\n",
       "4191671  150.3176260446553 1.9030844910939728     0 ...   0.047  23.188   0.075\n",
       "4498320  150.1409476367925  2.829422083574351     0 ...   0.075  23.768    0.11"
      ]
     },
     "execution_count": 7,
     "metadata": {},
     "output_type": "execute_result"
    }
   ],
   "source": [
    "dat"
   ]
  },
  {
   "cell_type": "markdown",
   "metadata": {},
   "source": [
    "# Exclude duplicates from parent."
   ]
  },
  {
   "cell_type": "code",
   "execution_count": 8,
   "metadata": {},
   "outputs": [],
   "source": [
    "dups = Table.read('/global/cscratch1/sd/mjwilson/DESILBG/tomog/lbglae-matches.fits')"
   ]
  },
  {
   "cell_type": "code",
   "execution_count": 9,
   "metadata": {},
   "outputs": [],
   "source": [
    "exclude = np.isin(dat['ID'], dups['ID'])\n",
    "\n",
    "dat = dat[~exclude]"
   ]
  },
  {
   "cell_type": "code",
   "execution_count": 10,
   "metadata": {},
   "outputs": [
    {
     "data": {
      "text/plain": [
       "True"
      ]
     },
     "execution_count": 10,
     "metadata": {},
     "output_type": "execute_result"
    }
   ],
   "source": [
    "# Check unique targets.\n",
    "np.all(np.unique(dat['ID']) == np.sort(dat['ID']))"
   ]
  },
  {
   "cell_type": "code",
   "execution_count": 11,
   "metadata": {},
   "outputs": [
    {
     "data": {
      "text/plain": [
       "(-1.0, 6.5)"
      ]
     },
     "execution_count": 11,
     "metadata": {},
     "output_type": "execute_result"
    },
    {
     "data": {
      "image/png": "[encoded data removed]",
      "text/plain": [
       "<Figure size 432x288 with 1 Axes>"
      ]
     },
     "metadata": {
      "needs_background": "light"
     },
     "output_type": "display_data"
    }
   ],
   "source": [
    "isin = dat['SAMPLE'] == 'CLAUDS-U'\n",
    "\n",
    "pl.plot(dat['G'][isin] - dat['R'][isin], dat['U'][isin] - dat['R'][isin], marker='.', lw=0.0, markersize=2)\n",
    "\n",
    "pl.xlim(-1., 3.0)\n",
    "pl.ylim(-1., 6.5)"
   ]
  },
  {
   "cell_type": "code",
   "execution_count": 12,
   "metadata": {},
   "outputs": [
    {
     "data": {
      "image/png": "[encoded data removed]",
      "text/plain": [
       "<Figure size 432x288 with 1 Axes>"
      ]
     },
     "metadata": {
      "needs_background": "light"
     },
     "output_type": "display_data"
    }
   ],
   "source": [
    "_ = pl.hist(dat['R'][isin], bins=np.arange(16., 25.5, 0.1))"
   ]
  },
  {
   "cell_type": "code",
   "execution_count": 13,
   "metadata": {},
   "outputs": [
    {
     "data": {
      "text/plain": [
       "(-1.0, 6.5)"
      ]
     },
     "execution_count": 13,
     "metadata": {},
     "output_type": "execute_result"
    },
    {
     "data": {
      "image/png": "[encoded data removed]",
      "text/plain": [
       "<Figure size 432x288 with 1 Axes>"
      ]
     },
     "metadata": {
      "needs_background": "light"
     },
     "output_type": "display_data"
    }
   ],
   "source": [
    "isin = dat['SAMPLE'] == 'CLAUDS-BX'\n",
    "\n",
    "pl.plot(dat['G'][isin] - dat['R'][isin], dat['U'][isin] - dat['R'][isin], marker='.', lw=0.0, markersize=2)\n",
    "\n",
    "pl.xlim(-1., 3.0)\n",
    "pl.ylim(-1., 6.5)"
   ]
  },
  {
   "cell_type": "code",
   "execution_count": 14,
   "metadata": {},
   "outputs": [
    {
     "data": {
      "image/png": "[encoded data removed]",
      "text/plain": [
       "<Figure size 432x288 with 1 Axes>"
      ]
     },
     "metadata": {
      "needs_background": "light"
     },
     "output_type": "display_data"
    }
   ],
   "source": [
    "_ = pl.hist(dat['R'][isin], bins=np.arange(16., 25.5, 0.1))"
   ]
  },
  {
   "cell_type": "code",
   "execution_count": 15,
   "metadata": {},
   "outputs": [
    {
     "data": {
      "text/plain": [
       "<matplotlib.colorbar.Colorbar at 0x2aaad7a9fd00>"
      ]
     },
     "execution_count": 15,
     "metadata": {},
     "output_type": "execute_result"
    },
    {
     "data": {
      "image/png": "[encoded data removed]",
      "text/plain": [
       "<Figure size 432x288 with 2 Axes>"
      ]
     },
     "metadata": {
      "needs_background": "light"
     },
     "output_type": "display_data"
    }
   ],
   "source": [
    "isin = dat['SAMPLE'] == 'CLAUDS-G'\n",
    "\n",
    "pl.scatter(dat['R'][isin] - dat['I'][isin], dat['G'][isin] - dat['R'][isin], marker='.', alpha=0.1, label='', s=1)\n",
    "\n",
    "pl.xlim(-1., 3.0)\n",
    "pl.ylim(-1., 4.5)\n",
    "\n",
    "pl.xlabel(r'$(r-i)$')\n",
    "pl.ylabel(r'$(g-r)$')\n",
    "\n",
    "pl.colorbar()"
   ]
  },
  {
   "cell_type": "code",
   "execution_count": 16,
   "metadata": {},
   "outputs": [
    {
     "data": {
      "image/png": "[encoded data removed]",
      "text/plain": [
       "<Figure size 432x288 with 1 Axes>"
      ]
     },
     "metadata": {
      "needs_background": "light"
     },
     "output_type": "display_data"
    }
   ],
   "source": [
    "_ = pl.hist(dat['I'][isin], bins=np.arange(16., 26., 0.1))"
   ]
  },
  {
   "cell_type": "code",
   "execution_count": 17,
   "metadata": {},
   "outputs": [
    {
     "data": {
      "text/plain": [
       "12597"
      ]
     },
     "execution_count": 17,
     "metadata": {},
     "output_type": "execute_result"
    }
   ],
   "source": [
    "len(dat)"
   ]
  },
  {
   "cell_type": "code",
   "execution_count": 18,
   "metadata": {},
   "outputs": [
    {
     "data": {
      "text/plain": [
       "Text(0.5, 0, 'Z')"
      ]
     },
     "execution_count": 18,
     "metadata": {},
     "output_type": "execute_result"
    },
    {
     "data": {
      "image/png": "[encoded data removed]",
      "text/plain": [
       "<Figure size 432x288 with 1 Axes>"
      ]
     },
     "metadata": {
      "needs_background": "light"
     },
     "output_type": "display_data"
    }
   ],
   "source": [
    "pl.hist(dat['Z_BC03'], bins=np.arange(0.0, 5.0, 0.1), histtype='step')\n",
    "\n",
    "pl.xlabel('Z')"
   ]
  },
  {
   "cell_type": "markdown",
   "metadata": {},
   "source": [
    "# Check final matches parent cat."
   ]
  },
  {
   "cell_type": "code",
   "execution_count": 19,
   "metadata": {},
   "outputs": [
    {
     "name": "stdout",
     "output_type": "stream",
     "text": [
      "        RA                DEC         PMRA PMDEC REF_EPOCH OVERRIDE         U          U_ERR   G    G_ERR   R    R_ERR PHOTO_Z   I    I_ERR\n",
      "------------------ ------------------ ---- ----- --------- -------- ------------------ ----- ------ ----- ------ ----- ------- ------ -----\n",
      " 35.14683498308203 -5.677133465145509  0.0   0.0       0.0    False 27.508825878032372 0.213  23.58 0.045 22.502 0.021  3.5612  1e+20 1e+20\n",
      "  36.6801259954748 -4.458424303863403  0.0   0.0       0.0    False 22.848296015322322 0.005 22.318 0.007 22.511  0.03  0.0879  1e+20 1e+20\n",
      " 34.56350776935839 -4.918475112893407  0.0   0.0       0.0    False 25.088915372146978 0.121 23.029 0.046 22.512 0.052  0.1942  1e+20 1e+20\n",
      " 35.66785353554422 -4.862779895621046  0.0   0.0       0.0    False 23.200695198295424 0.007   22.6 0.007 22.513 0.015   2.524  1e+20 1e+20\n",
      " 35.39549680117322 -5.959109072112367  0.0   0.0       0.0    False 24.645524422119873 0.559 22.867 0.172 22.514 0.181  0.2311  1e+20 1e+20\n",
      " 36.95019910227519 -4.821813627871857  0.0   0.0       0.0    False  28.67563348253894 8.727 23.189 0.141 22.514 0.205  3.3215  1e+20 1e+20\n",
      " 35.21678967195274  -5.78475779472435  0.0   0.0       0.0    False 27.496810438647078 0.088  23.26 0.012 22.521 0.008  3.4395  1e+20 1e+20\n",
      " 37.16342125512937 -5.177479459022176  0.0   0.0       0.0    False 24.370627302606355 0.003 22.866 0.014 22.521  0.01  3.1075  1e+20 1e+20\n",
      "37.175986509794384  -4.03898982168927  0.0   0.0       0.0    False  23.67785260899144 0.025 22.761  0.01 22.521 0.015  0.1291  1e+20 1e+20\n",
      " 37.41104008490633 -4.928691856548027  0.0   0.0       0.0    False 23.344098487295355 0.034 22.462  0.02 22.523 0.036    0.12  1e+20 1e+20\n",
      "               ...                ...  ...   ...       ...      ...                ...   ...    ...   ...    ...   ...     ...    ...   ...\n",
      "150.40340704182836  1.871401902904968  0.0   0.0       0.0    False              25.52 0.029 24.562 0.013 24.252 0.011   1e+20 24.066 0.011\n",
      "151.07286867631015  2.452965048320057  0.0   0.0       0.0    False             25.199 0.135 24.531 0.049 24.346 0.072   1e+20 24.332 0.086\n",
      " 151.0731411275226 1.5719287096866774  0.0   0.0       0.0    False             25.538 0.043 24.554 0.022 24.259 0.025   1e+20  24.09 0.028\n",
      "150.07749273248294  1.845463706675461  0.0   0.0       0.0    False              26.28  0.27 24.794 0.046 24.362 0.047   1e+20 24.022 0.037\n",
      "151.01510178649914 1.7964583841473942  0.0   0.0       0.0    False             25.487 0.043 24.559 0.023 24.261 0.029   1e+20  24.14 0.031\n",
      "150.76850728841964  1.080386397320256  0.0   0.0       0.0    False             25.335 0.043 24.421 0.019 24.156 0.024   1e+20  23.96 0.025\n",
      "150.72112479452605 1.1141925582643062  0.0   0.0       0.0    False             25.237 0.029 24.421 0.017 24.155  0.02   1e+20 24.003 0.022\n",
      " 150.9339516734548 1.1720102721658336  0.0   0.0       0.0    False             24.506 0.017 24.192 0.016 24.176 0.025   1e+20 24.155  0.03\n",
      " 150.2937863599055 1.1129627220818596  0.0   0.0       0.0    False             24.998 0.024 24.288 0.018 24.151 0.027   1e+20 23.971 0.027\n",
      "150.83389832859564 1.4591107511866326  0.0   0.0       0.0    False             25.169 0.028 24.336 0.016 24.136 0.021   1e+20  23.87  0.02\n",
      " 150.1409476367925  2.829422083574351  0.0   0.0       0.0    False             25.597  0.04 24.629 0.013 24.305 0.012   1e+20 24.248 0.014\n",
      "Length = 40891 rows\n"
     ]
    }
   ],
   "source": [
    "final = Table.read('/global/cscratch1/sd/mjwilson/secondary/sv1/indata/LBG_TOMOG.fits')\n",
    "final.pprint(max_width=-1)"
   ]
  },
  {
   "cell_type": "code",
   "execution_count": 20,
   "metadata": {},
   "outputs": [
    {
     "data": {
      "text/plain": [
       "(28294, 12597, 40891, 40891)"
      ]
     },
     "execution_count": 20,
     "metadata": {},
     "output_type": "execute_result"
    }
   ],
   "source": [
    "len(final[:28294]), len(final[28294:]), len(final), len(final[:28294]) + len(final[28294:])"
   ]
  },
  {
   "cell_type": "code",
   "execution_count": 21,
   "metadata": {},
   "outputs": [],
   "source": [
    "my_final = final[28294:]"
   ]
  },
  {
   "cell_type": "code",
   "execution_count": 22,
   "metadata": {},
   "outputs": [
    {
     "data": {
      "text/plain": [
       "True"
      ]
     },
     "execution_count": 22,
     "metadata": {},
     "output_type": "execute_result"
    }
   ],
   "source": [
    "np.all(my_final['RA'] == dat['RA'])"
   ]
  },
  {
   "cell_type": "code",
   "execution_count": 23,
   "metadata": {},
   "outputs": [
    {
     "data": {
      "text/plain": [
       "True"
      ]
     },
     "execution_count": 23,
     "metadata": {},
     "output_type": "execute_result"
    }
   ],
   "source": [
    "np.all(my_final['DEC'] == dat['DEC'])"
   ]
  },
  {
   "cell_type": "code",
   "execution_count": 24,
   "metadata": {},
   "outputs": [],
   "source": [
    "sc_dat = SkyCoord(ra=dat['RA']*u.degree, dec=dat['DEC']*u.degree)\n",
    "sc_fin = SkyCoord(ra=my_final['RA']*u.degree, dec=my_final['DEC']*u.degree)\n",
    "\n",
    "idx, d2d, d3d = sc_fin.match_to_catalog_sky(sc_dat)"
   ]
  },
  {
   "cell_type": "code",
   "execution_count": 25,
   "metadata": {},
   "outputs": [
    {
     "data": {
      "text/plain": [
       "1.0"
      ]
     },
     "execution_count": 25,
     "metadata": {},
     "output_type": "execute_result"
    }
   ],
   "source": [
    "np.mean(d2d.arcsec < 1.)"
   ]
  },
  {
   "cell_type": "code",
   "execution_count": 26,
   "metadata": {},
   "outputs": [
    {
     "data": {
      "text/plain": [
       "array([    0,     1,     2, ..., 12594, 12595, 12596])"
      ]
     },
     "execution_count": 26,
     "metadata": {},
     "output_type": "execute_result"
    }
   ],
   "source": [
    "idx"
   ]
  },
  {
   "cell_type": "markdown",
   "metadata": {},
   "source": [
    "# Check TMGs were preserved"
   ]
  },
  {
   "cell_type": "code",
   "execution_count": 27,
   "metadata": {},
   "outputs": [],
   "source": [
    "final = Table.read('/global/cscratch1/sd/mjwilson/secondary/sv1/indata/LBG_TOMOG.fits')"
   ]
  },
  {
   "cell_type": "code",
   "execution_count": 28,
   "metadata": {},
   "outputs": [],
   "source": [
    "tmgs = Table.read('/global/cfs/cdirs/desi/target/secondary/sv1/indata/LBG_TOMOG.fits')"
   ]
  },
  {
   "cell_type": "code",
   "execution_count": 45,
   "metadata": {},
   "outputs": [
    {
     "name": "stdout",
     "output_type": "stream",
     "text": [
      "        RA                DEC         PMRA PMDEC REF_EPOCH OVERRIDE         U                 U_ERR           G    G_ERR   R    R_ERR PHOTO_Z\n",
      "------------------ ------------------ ---- ----- --------- -------- ------------------ -------------------- ------ ----- ------ ----- -------\n",
      " 35.14683498308203 -5.677133465145509  0.0   0.0       0.0    False 27.508825878032372                0.213  23.58 0.045 22.502 0.021  3.5612\n",
      "  36.6801259954748 -4.458424303863403  0.0   0.0       0.0    False 22.848296015322322                0.005 22.318 0.007 22.511  0.03  0.0879\n",
      " 34.56350776935839 -4.918475112893407  0.0   0.0       0.0    False 25.088915372146978                0.121 23.029 0.046 22.512 0.052  0.1942\n",
      " 35.66785353554422 -4.862779895621046  0.0   0.0       0.0    False 23.200695198295424                0.007   22.6 0.007 22.513 0.015   2.524\n",
      " 35.39549680117322 -5.959109072112367  0.0   0.0       0.0    False 24.645524422119873                0.559 22.867 0.172 22.514 0.181  0.2311\n",
      " 36.95019910227519 -4.821813627871857  0.0   0.0       0.0    False  28.67563348253894                8.727 23.189 0.141 22.514 0.205  3.3215\n",
      " 35.21678967195274  -5.78475779472435  0.0   0.0       0.0    False 27.496810438647078                0.088  23.26 0.012 22.521 0.008  3.4395\n",
      " 37.16342125512937 -5.177479459022176  0.0   0.0       0.0    False 24.370627302606355                0.003 22.866 0.014 22.521  0.01  3.1075\n",
      "37.175986509794384  -4.03898982168927  0.0   0.0       0.0    False  23.67785260899144                0.025 22.761  0.01 22.521 0.015  0.1291\n",
      " 37.41104008490633 -4.928691856548027  0.0   0.0       0.0    False 23.344098487295355                0.034 22.462  0.02 22.523 0.036    0.12\n",
      "               ...                ...  ...   ...       ...      ...                ...                  ...    ...   ...    ...   ...     ...\n",
      "148.76073942524627  2.118587887816744  0.0   0.0       0.0    False 24.831827910153443                0.067 24.391 0.106 24.499  0.11  1.9365\n",
      " 148.6970974357949  2.048122980117283  0.0   0.0       0.0    False 25.038677705896717                0.071 24.461 0.097 24.499 0.082  1.8465\n",
      "148.65488809626666  2.074588332222364  0.0   0.0       0.0    False 27.147178742849597                0.018  24.84 0.022 24.499 0.017  3.2799\n",
      " 151.0344681875021 1.8995891448753648  0.0   0.0       0.0    False  25.25726495137349  0.04285856807985262 24.554 0.031 24.499 0.048  2.2131\n",
      " 150.5515284257011 1.6452463376340147  0.0   0.0       0.0    False 27.790581005342823                1.411 24.799 0.046 24.499 0.044  3.1589\n",
      " 150.5356634667608 2.6142627782433707  0.0   0.0       0.0    False 25.681062646624355 0.026758589264897985 24.716 0.017 24.499 0.018   2.765\n",
      "150.17299689908606 1.6088504865013151  0.0   0.0       0.0    False  25.96519995838341  0.07500130084034566 24.819 0.028 24.499 0.027  0.0837\n",
      "150.16097445570992 2.5311385255672243  0.0   0.0       0.0    False 25.685772719448728  0.03181358275193629 24.715 0.017 24.499 0.017  0.0991\n",
      " 149.8107774301553 1.8064798949764609  0.0   0.0       0.0    False 26.277744177311895   0.0559453246219436 24.835  0.02 24.499 0.019  2.9363\n",
      "151.34139174466242  2.225066427299062  0.0   0.0       0.0    False 26.099562486437407                0.163 24.781 0.115 24.499 0.135   2.606\n",
      "151.17044843092611 1.9824135301065315  0.0   0.0       0.0    False 26.787279590585474   0.3972483443486348 24.957 0.037 24.499 0.037  2.9244\n",
      "Length = 28294 rows\n"
     ]
    }
   ],
   "source": [
    "tmgs.pprint(max_width=-1)"
   ]
  },
  {
   "cell_type": "code",
   "execution_count": 30,
   "metadata": {},
   "outputs": [],
   "source": [
    "final_tmgs = final[:len(tmgs)]"
   ]
  },
  {
   "cell_type": "code",
   "execution_count": 37,
   "metadata": {},
   "outputs": [
    {
     "data": {
      "text/plain": [
       "28294"
      ]
     },
     "execution_count": 37,
     "metadata": {},
     "output_type": "execute_result"
    }
   ],
   "source": [
    "len(final_tmgs)"
   ]
  },
  {
   "cell_type": "code",
   "execution_count": 43,
   "metadata": {},
   "outputs": [
    {
     "data": {
      "text/plain": [
       "12597"
      ]
     },
     "execution_count": 43,
     "metadata": {},
     "output_type": "execute_result"
    }
   ],
   "source": [
    "len(final) - 28294"
   ]
  },
  {
   "cell_type": "code",
   "execution_count": 41,
   "metadata": {},
   "outputs": [
    {
     "data": {
      "text/html": [
       "<i>Table length=28294</i>\n",
       "<table id=\"table46913253486448\" class=\"table-striped table-bordered table-condensed\">\n",
       "<thead><tr><th>RA</th><th>DEC</th><th>PMRA</th><th>PMDEC</th><th>REF_EPOCH</th><th>OVERRIDE</th><th>U</th><th>U_ERR</th><th>G</th><th>G_ERR</th><th>R</th><th>R_ERR</th><th>PHOTO_Z</th><th>I</th><th>I_ERR</th></tr></thead>\n",
       "<thead><tr><th>float64</th><th>float64</th><th>float32</th><th>float32</th><th>float32</th><th>bool</th><th>float64</th><th>float64</th><th>float64</th><th>float64</th><th>float64</th><th>float64</th><th>float64</th><th>float64</th><th>float64</th></tr></thead>\n",
       "<tr><td>35.14683498308203</td><td>-5.677133465145509</td><td>0.0</td><td>0.0</td><td>0.0</td><td>False</td><td>27.508825878032372</td><td>0.213</td><td>23.58</td><td>0.045</td><td>22.502</td><td>0.021</td><td>3.5612</td><td>1e+20</td><td>1e+20</td></tr>\n",
       "<tr><td>36.6801259954748</td><td>-4.458424303863403</td><td>0.0</td><td>0.0</td><td>0.0</td><td>False</td><td>22.848296015322322</td><td>0.005</td><td>22.318</td><td>0.007</td><td>22.511</td><td>0.03</td><td>0.0879</td><td>1e+20</td><td>1e+20</td></tr>\n",
       "<tr><td>34.56350776935839</td><td>-4.918475112893407</td><td>0.0</td><td>0.0</td><td>0.0</td><td>False</td><td>25.088915372146978</td><td>0.121</td><td>23.029</td><td>0.046</td><td>22.512</td><td>0.052</td><td>0.1942</td><td>1e+20</td><td>1e+20</td></tr>\n",
       "<tr><td>35.66785353554422</td><td>-4.862779895621046</td><td>0.0</td><td>0.0</td><td>0.0</td><td>False</td><td>23.200695198295424</td><td>0.007</td><td>22.6</td><td>0.007</td><td>22.513</td><td>0.015</td><td>2.524</td><td>1e+20</td><td>1e+20</td></tr>\n",
       "<tr><td>35.39549680117322</td><td>-5.959109072112367</td><td>0.0</td><td>0.0</td><td>0.0</td><td>False</td><td>24.645524422119873</td><td>0.559</td><td>22.867</td><td>0.172</td><td>22.514</td><td>0.181</td><td>0.2311</td><td>1e+20</td><td>1e+20</td></tr>\n",
       "<tr><td>36.95019910227519</td><td>-4.821813627871857</td><td>0.0</td><td>0.0</td><td>0.0</td><td>False</td><td>28.67563348253894</td><td>8.727</td><td>23.189</td><td>0.141</td><td>22.514</td><td>0.205</td><td>3.3215</td><td>1e+20</td><td>1e+20</td></tr>\n",
       "<tr><td>35.21678967195274</td><td>-5.78475779472435</td><td>0.0</td><td>0.0</td><td>0.0</td><td>False</td><td>27.496810438647078</td><td>0.088</td><td>23.26</td><td>0.012</td><td>22.521</td><td>0.008</td><td>3.4395</td><td>1e+20</td><td>1e+20</td></tr>\n",
       "<tr><td>37.16342125512937</td><td>-5.177479459022176</td><td>0.0</td><td>0.0</td><td>0.0</td><td>False</td><td>24.370627302606355</td><td>0.003</td><td>22.866</td><td>0.014</td><td>22.521</td><td>0.01</td><td>3.1075</td><td>1e+20</td><td>1e+20</td></tr>\n",
       "<tr><td>37.175986509794384</td><td>-4.03898982168927</td><td>0.0</td><td>0.0</td><td>0.0</td><td>False</td><td>23.67785260899144</td><td>0.025</td><td>22.761</td><td>0.01</td><td>22.521</td><td>0.015</td><td>0.1291</td><td>1e+20</td><td>1e+20</td></tr>\n",
       "<tr><td>37.41104008490633</td><td>-4.928691856548027</td><td>0.0</td><td>0.0</td><td>0.0</td><td>False</td><td>23.344098487295355</td><td>0.034</td><td>22.462</td><td>0.02</td><td>22.523</td><td>0.036</td><td>0.12</td><td>1e+20</td><td>1e+20</td></tr>\n",
       "<tr><td>...</td><td>...</td><td>...</td><td>...</td><td>...</td><td>...</td><td>...</td><td>...</td><td>...</td><td>...</td><td>...</td><td>...</td><td>...</td><td>...</td><td>...</td></tr>\n",
       "<tr><td>148.6970974357949</td><td>2.048122980117283</td><td>0.0</td><td>0.0</td><td>0.0</td><td>False</td><td>25.038677705896717</td><td>0.071</td><td>24.461</td><td>0.097</td><td>24.499</td><td>0.082</td><td>1.8465</td><td>1e+20</td><td>1e+20</td></tr>\n",
       "<tr><td>148.65488809626666</td><td>2.074588332222364</td><td>0.0</td><td>0.0</td><td>0.0</td><td>False</td><td>27.147178742849597</td><td>0.018</td><td>24.84</td><td>0.022</td><td>24.499</td><td>0.017</td><td>3.2799</td><td>1e+20</td><td>1e+20</td></tr>\n",
       "<tr><td>151.0344681875021</td><td>1.8995891448753648</td><td>0.0</td><td>0.0</td><td>0.0</td><td>False</td><td>25.25726495137349</td><td>0.04285856807985262</td><td>24.554</td><td>0.031</td><td>24.499</td><td>0.048</td><td>2.2131</td><td>1e+20</td><td>1e+20</td></tr>\n",
       "<tr><td>150.5515284257011</td><td>1.6452463376340147</td><td>0.0</td><td>0.0</td><td>0.0</td><td>False</td><td>27.790581005342823</td><td>1.411</td><td>24.799</td><td>0.046</td><td>24.499</td><td>0.044</td><td>3.1589</td><td>1e+20</td><td>1e+20</td></tr>\n",
       "<tr><td>150.5356634667608</td><td>2.6142627782433707</td><td>0.0</td><td>0.0</td><td>0.0</td><td>False</td><td>25.681062646624355</td><td>0.026758589264897985</td><td>24.716</td><td>0.017</td><td>24.499</td><td>0.018</td><td>2.765</td><td>1e+20</td><td>1e+20</td></tr>\n",
       "<tr><td>150.17299689908606</td><td>1.6088504865013151</td><td>0.0</td><td>0.0</td><td>0.0</td><td>False</td><td>25.96519995838341</td><td>0.07500130084034566</td><td>24.819</td><td>0.028</td><td>24.499</td><td>0.027</td><td>0.0837</td><td>1e+20</td><td>1e+20</td></tr>\n",
       "<tr><td>150.16097445570992</td><td>2.5311385255672243</td><td>0.0</td><td>0.0</td><td>0.0</td><td>False</td><td>25.685772719448728</td><td>0.03181358275193629</td><td>24.715</td><td>0.017</td><td>24.499</td><td>0.017</td><td>0.0991</td><td>1e+20</td><td>1e+20</td></tr>\n",
       "<tr><td>149.8107774301553</td><td>1.8064798949764609</td><td>0.0</td><td>0.0</td><td>0.0</td><td>False</td><td>26.277744177311895</td><td>0.0559453246219436</td><td>24.835</td><td>0.02</td><td>24.499</td><td>0.019</td><td>2.9363</td><td>1e+20</td><td>1e+20</td></tr>\n",
       "<tr><td>151.34139174466242</td><td>2.225066427299062</td><td>0.0</td><td>0.0</td><td>0.0</td><td>False</td><td>26.099562486437407</td><td>0.163</td><td>24.781</td><td>0.115</td><td>24.499</td><td>0.135</td><td>2.606</td><td>1e+20</td><td>1e+20</td></tr>\n",
       "<tr><td>151.17044843092611</td><td>1.9824135301065315</td><td>0.0</td><td>0.0</td><td>0.0</td><td>False</td><td>26.787279590585474</td><td>0.3972483443486348</td><td>24.957</td><td>0.037</td><td>24.499</td><td>0.037</td><td>2.9244</td><td>1e+20</td><td>1e+20</td></tr>\n",
       "</table>"
      ],
      "text/plain": [
       "<Table length=28294>\n",
       "        RA                DEC           PMRA  ... PHOTO_Z    I     I_ERR \n",
       "     float64            float64       float32 ... float64 float64 float64\n",
       "------------------ ------------------ ------- ... ------- ------- -------\n",
       " 35.14683498308203 -5.677133465145509     0.0 ...  3.5612   1e+20   1e+20\n",
       "  36.6801259954748 -4.458424303863403     0.0 ...  0.0879   1e+20   1e+20\n",
       " 34.56350776935839 -4.918475112893407     0.0 ...  0.1942   1e+20   1e+20\n",
       " 35.66785353554422 -4.862779895621046     0.0 ...   2.524   1e+20   1e+20\n",
       " 35.39549680117322 -5.959109072112367     0.0 ...  0.2311   1e+20   1e+20\n",
       " 36.95019910227519 -4.821813627871857     0.0 ...  3.3215   1e+20   1e+20\n",
       " 35.21678967195274  -5.78475779472435     0.0 ...  3.4395   1e+20   1e+20\n",
       " 37.16342125512937 -5.177479459022176     0.0 ...  3.1075   1e+20   1e+20\n",
       "37.175986509794384  -4.03898982168927     0.0 ...  0.1291   1e+20   1e+20\n",
       " 37.41104008490633 -4.928691856548027     0.0 ...    0.12   1e+20   1e+20\n",
       "               ...                ...     ... ...     ...     ...     ...\n",
       " 148.6970974357949  2.048122980117283     0.0 ...  1.8465   1e+20   1e+20\n",
       "148.65488809626666  2.074588332222364     0.0 ...  3.2799   1e+20   1e+20\n",
       " 151.0344681875021 1.8995891448753648     0.0 ...  2.2131   1e+20   1e+20\n",
       " 150.5515284257011 1.6452463376340147     0.0 ...  3.1589   1e+20   1e+20\n",
       " 150.5356634667608 2.6142627782433707     0.0 ...   2.765   1e+20   1e+20\n",
       "150.17299689908606 1.6088504865013151     0.0 ...  0.0837   1e+20   1e+20\n",
       "150.16097445570992 2.5311385255672243     0.0 ...  0.0991   1e+20   1e+20\n",
       " 149.8107774301553 1.8064798949764609     0.0 ...  2.9363   1e+20   1e+20\n",
       "151.34139174466242  2.225066427299062     0.0 ...   2.606   1e+20   1e+20\n",
       "151.17044843092611 1.9824135301065315     0.0 ...  2.9244   1e+20   1e+20"
      ]
     },
     "execution_count": 41,
     "metadata": {},
     "output_type": "execute_result"
    }
   ],
   "source": [
    "final_tmgs"
   ]
  },
  {
   "cell_type": "code",
   "execution_count": 42,
   "metadata": {},
   "outputs": [
    {
     "data": {
      "text/html": [
       "<i>Table length=28294</i>\n",
       "<table id=\"table46913253485632\" class=\"table-striped table-bordered table-condensed\">\n",
       "<thead><tr><th>RA</th><th>DEC</th><th>PMRA</th><th>PMDEC</th><th>REF_EPOCH</th><th>OVERRIDE</th><th>U</th><th>U_ERR</th><th>G</th><th>G_ERR</th><th>R</th><th>R_ERR</th><th>PHOTO_Z</th></tr></thead>\n",
       "<thead><tr><th>float64</th><th>float64</th><th>float32</th><th>float32</th><th>float32</th><th>bool</th><th>float64</th><th>float64</th><th>float64</th><th>float64</th><th>float64</th><th>float64</th><th>float64</th></tr></thead>\n",
       "<tr><td>35.14683498308203</td><td>-5.677133465145509</td><td>0.0</td><td>0.0</td><td>0.0</td><td>False</td><td>27.508825878032372</td><td>0.213</td><td>23.58</td><td>0.045</td><td>22.502</td><td>0.021</td><td>3.5612</td></tr>\n",
       "<tr><td>36.6801259954748</td><td>-4.458424303863403</td><td>0.0</td><td>0.0</td><td>0.0</td><td>False</td><td>22.848296015322322</td><td>0.005</td><td>22.318</td><td>0.007</td><td>22.511</td><td>0.03</td><td>0.0879</td></tr>\n",
       "<tr><td>34.56350776935839</td><td>-4.918475112893407</td><td>0.0</td><td>0.0</td><td>0.0</td><td>False</td><td>25.088915372146978</td><td>0.121</td><td>23.029</td><td>0.046</td><td>22.512</td><td>0.052</td><td>0.1942</td></tr>\n",
       "<tr><td>35.66785353554422</td><td>-4.862779895621046</td><td>0.0</td><td>0.0</td><td>0.0</td><td>False</td><td>23.200695198295424</td><td>0.007</td><td>22.6</td><td>0.007</td><td>22.513</td><td>0.015</td><td>2.524</td></tr>\n",
       "<tr><td>35.39549680117322</td><td>-5.959109072112367</td><td>0.0</td><td>0.0</td><td>0.0</td><td>False</td><td>24.645524422119873</td><td>0.559</td><td>22.867</td><td>0.172</td><td>22.514</td><td>0.181</td><td>0.2311</td></tr>\n",
       "<tr><td>36.95019910227519</td><td>-4.821813627871857</td><td>0.0</td><td>0.0</td><td>0.0</td><td>False</td><td>28.67563348253894</td><td>8.727</td><td>23.189</td><td>0.141</td><td>22.514</td><td>0.205</td><td>3.3215</td></tr>\n",
       "<tr><td>35.21678967195274</td><td>-5.78475779472435</td><td>0.0</td><td>0.0</td><td>0.0</td><td>False</td><td>27.496810438647078</td><td>0.088</td><td>23.26</td><td>0.012</td><td>22.521</td><td>0.008</td><td>3.4395</td></tr>\n",
       "<tr><td>37.16342125512937</td><td>-5.177479459022176</td><td>0.0</td><td>0.0</td><td>0.0</td><td>False</td><td>24.370627302606355</td><td>0.003</td><td>22.866</td><td>0.014</td><td>22.521</td><td>0.01</td><td>3.1075</td></tr>\n",
       "<tr><td>37.175986509794384</td><td>-4.03898982168927</td><td>0.0</td><td>0.0</td><td>0.0</td><td>False</td><td>23.67785260899144</td><td>0.025</td><td>22.761</td><td>0.01</td><td>22.521</td><td>0.015</td><td>0.1291</td></tr>\n",
       "<tr><td>37.41104008490633</td><td>-4.928691856548027</td><td>0.0</td><td>0.0</td><td>0.0</td><td>False</td><td>23.344098487295355</td><td>0.034</td><td>22.462</td><td>0.02</td><td>22.523</td><td>0.036</td><td>0.12</td></tr>\n",
       "<tr><td>...</td><td>...</td><td>...</td><td>...</td><td>...</td><td>...</td><td>...</td><td>...</td><td>...</td><td>...</td><td>...</td><td>...</td><td>...</td></tr>\n",
       "<tr><td>148.6970974357949</td><td>2.048122980117283</td><td>0.0</td><td>0.0</td><td>0.0</td><td>False</td><td>25.038677705896717</td><td>0.071</td><td>24.461</td><td>0.097</td><td>24.499</td><td>0.082</td><td>1.8465</td></tr>\n",
       "<tr><td>148.65488809626666</td><td>2.074588332222364</td><td>0.0</td><td>0.0</td><td>0.0</td><td>False</td><td>27.147178742849597</td><td>0.018</td><td>24.84</td><td>0.022</td><td>24.499</td><td>0.017</td><td>3.2799</td></tr>\n",
       "<tr><td>151.0344681875021</td><td>1.8995891448753648</td><td>0.0</td><td>0.0</td><td>0.0</td><td>False</td><td>25.25726495137349</td><td>0.04285856807985262</td><td>24.554</td><td>0.031</td><td>24.499</td><td>0.048</td><td>2.2131</td></tr>\n",
       "<tr><td>150.5515284257011</td><td>1.6452463376340147</td><td>0.0</td><td>0.0</td><td>0.0</td><td>False</td><td>27.790581005342823</td><td>1.411</td><td>24.799</td><td>0.046</td><td>24.499</td><td>0.044</td><td>3.1589</td></tr>\n",
       "<tr><td>150.5356634667608</td><td>2.6142627782433707</td><td>0.0</td><td>0.0</td><td>0.0</td><td>False</td><td>25.681062646624355</td><td>0.026758589264897985</td><td>24.716</td><td>0.017</td><td>24.499</td><td>0.018</td><td>2.765</td></tr>\n",
       "<tr><td>150.17299689908606</td><td>1.6088504865013151</td><td>0.0</td><td>0.0</td><td>0.0</td><td>False</td><td>25.96519995838341</td><td>0.07500130084034566</td><td>24.819</td><td>0.028</td><td>24.499</td><td>0.027</td><td>0.0837</td></tr>\n",
       "<tr><td>150.16097445570992</td><td>2.5311385255672243</td><td>0.0</td><td>0.0</td><td>0.0</td><td>False</td><td>25.685772719448728</td><td>0.03181358275193629</td><td>24.715</td><td>0.017</td><td>24.499</td><td>0.017</td><td>0.0991</td></tr>\n",
       "<tr><td>149.8107774301553</td><td>1.8064798949764609</td><td>0.0</td><td>0.0</td><td>0.0</td><td>False</td><td>26.277744177311895</td><td>0.0559453246219436</td><td>24.835</td><td>0.02</td><td>24.499</td><td>0.019</td><td>2.9363</td></tr>\n",
       "<tr><td>151.34139174466242</td><td>2.225066427299062</td><td>0.0</td><td>0.0</td><td>0.0</td><td>False</td><td>26.099562486437407</td><td>0.163</td><td>24.781</td><td>0.115</td><td>24.499</td><td>0.135</td><td>2.606</td></tr>\n",
       "<tr><td>151.17044843092611</td><td>1.9824135301065315</td><td>0.0</td><td>0.0</td><td>0.0</td><td>False</td><td>26.787279590585474</td><td>0.3972483443486348</td><td>24.957</td><td>0.037</td><td>24.499</td><td>0.037</td><td>2.9244</td></tr>\n",
       "</table>"
      ],
      "text/plain": [
       "<Table length=28294>\n",
       "        RA                DEC           PMRA  ...    R     R_ERR  PHOTO_Z\n",
       "     float64            float64       float32 ... float64 float64 float64\n",
       "------------------ ------------------ ------- ... ------- ------- -------\n",
       " 35.14683498308203 -5.677133465145509     0.0 ...  22.502   0.021  3.5612\n",
       "  36.6801259954748 -4.458424303863403     0.0 ...  22.511    0.03  0.0879\n",
       " 34.56350776935839 -4.918475112893407     0.0 ...  22.512   0.052  0.1942\n",
       " 35.66785353554422 -4.862779895621046     0.0 ...  22.513   0.015   2.524\n",
       " 35.39549680117322 -5.959109072112367     0.0 ...  22.514   0.181  0.2311\n",
       " 36.95019910227519 -4.821813627871857     0.0 ...  22.514   0.205  3.3215\n",
       " 35.21678967195274  -5.78475779472435     0.0 ...  22.521   0.008  3.4395\n",
       " 37.16342125512937 -5.177479459022176     0.0 ...  22.521    0.01  3.1075\n",
       "37.175986509794384  -4.03898982168927     0.0 ...  22.521   0.015  0.1291\n",
       " 37.41104008490633 -4.928691856548027     0.0 ...  22.523   0.036    0.12\n",
       "               ...                ...     ... ...     ...     ...     ...\n",
       " 148.6970974357949  2.048122980117283     0.0 ...  24.499   0.082  1.8465\n",
       "148.65488809626666  2.074588332222364     0.0 ...  24.499   0.017  3.2799\n",
       " 151.0344681875021 1.8995891448753648     0.0 ...  24.499   0.048  2.2131\n",
       " 150.5515284257011 1.6452463376340147     0.0 ...  24.499   0.044  3.1589\n",
       " 150.5356634667608 2.6142627782433707     0.0 ...  24.499   0.018   2.765\n",
       "150.17299689908606 1.6088504865013151     0.0 ...  24.499   0.027  0.0837\n",
       "150.16097445570992 2.5311385255672243     0.0 ...  24.499   0.017  0.0991\n",
       " 149.8107774301553 1.8064798949764609     0.0 ...  24.499   0.019  2.9363\n",
       "151.34139174466242  2.225066427299062     0.0 ...  24.499   0.135   2.606\n",
       "151.17044843092611 1.9824135301065315     0.0 ...  24.499   0.037  2.9244"
      ]
     },
     "execution_count": 42,
     "metadata": {},
     "output_type": "execute_result"
    }
   ],
   "source": [
    "tmgs"
   ]
  },
  {
   "cell_type": "code",
   "execution_count": 32,
   "metadata": {},
   "outputs": [
    {
     "data": {
      "text/plain": [
       "True"
      ]
     },
     "execution_count": 32,
     "metadata": {},
     "output_type": "execute_result"
    }
   ],
   "source": [
    "np.all(final_tmgs['DEC'] == tmgs['DEC'])"
   ]
  },
  {
   "cell_type": "code",
   "execution_count": 33,
   "metadata": {},
   "outputs": [
    {
     "data": {
      "text/plain": [
       "(-1.0, 7.0)"
      ]
     },
     "execution_count": 33,
     "metadata": {},
     "output_type": "execute_result"
    },
    {
     "data": {
      "image/png": "[encoded data removed]",
      "text/plain": [
       "<Figure size 432x288 with 1 Axes>"
      ]
     },
     "metadata": {
      "needs_background": "light"
     },
     "output_type": "display_data"
    }
   ],
   "source": [
    "pl.plot(final_tmgs['G'] - final_tmgs['R'], final_tmgs['U'] - final_tmgs['G'], marker='.', lw=0.0, c='k', markersize=1)\n",
    "pl.xlim(-1., 1.5)\n",
    "pl.ylim(-1.,  7.)"
   ]
  },
  {
   "cell_type": "markdown",
   "metadata": {},
   "source": [
    "# Done."
   ]
  }
 ],
 "metadata": {
  "kernelspec": {
   "display_name": "DESI master",
   "language": "python",
   "name": "desi-master"
  },
  "language_info": {
   "codemirror_mode": {
    "name": "ipython",
    "version": 3
   },
   "file_extension": ".py",
   "mimetype": "text/x-python",
   "name": "python",
   "nbconvert_exporter": "python",
   "pygments_lexer": "ipython3",
   "version": "3.8.3"
  }
 },
 "nbformat": 4,
 "nbformat_minor": 4
}
