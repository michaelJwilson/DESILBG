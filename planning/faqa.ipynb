{
 "cells": [
  {
   "cell_type": "code",
   "execution_count": 110,
   "metadata": {},
   "outputs": [],
   "source": [
    "import fitsio\n",
    "import astropy.io.fits as fits\n",
    "import pylab as pl\n",
    "import numpy as np\n",
    "\n",
    "from astropy.table import Table, vstack\n",
    "from astropy.coordinates import SkyCoord\n",
    "from astropy import units as u"
   ]
  },
  {
   "cell_type": "code",
   "execution_count": 111,
   "metadata": {},
   "outputs": [],
   "source": [
    "lbgs = Table.read('/global/cscratch1/sd/mjwilson/secondary/sv1/raw/Mar21/LBG_LBGLAE.fits')\n",
    "tmgs = Table.read('/global/cfs/cdirs/desi/target/secondary/sv1/indata/LBG_TOMOG.fits')\n",
    "dups = Table.read('/global/cscratch1/sd/mjwilson/DESILBG/tomog/lbglae-matches.fits')"
   ]
  },
  {
   "cell_type": "code",
   "execution_count": 112,
   "metadata": {},
   "outputs": [],
   "source": [
    "exclude = np.isin(lbgs['ID'], dups['ID'])\n",
    "\n",
    "lbgs = lbgs[~exclude]"
   ]
  },
  {
   "cell_type": "code",
   "execution_count": 113,
   "metadata": {},
   "outputs": [],
   "source": [
    "lbgs['RA']  = lbgs['RA'].data.astype('>f8')\n",
    "lbgs['DEC'] = lbgs['DEC'].data.astype('>f8')"
   ]
  },
  {
   "cell_type": "code",
   "execution_count": 115,
   "metadata": {},
   "outputs": [
    {
     "name": "stdout",
     "output_type": "stream",
     "text": [
      "   ID           RA                DEC         MASK ... H_ERR     KS   KS_ERR\n",
      "------- ------------------ ------------------ ---- ... ------ ------- ------\n",
      "2583147 150.75933271574516  0.983195946873128    0 ... 1000.0 -99.008 1000.0\n",
      " 573916 150.86911633369758  3.426048659419034    0 ... 1000.0 -99.006 1000.0\n",
      " 531718  150.7392966994768 3.0388757335261487    0 ... 1000.0 -99.007 1000.0\n",
      "4284702  150.1982722567504  2.540242923257786    0 ...  0.017  21.643  0.019\n",
      "3304418 148.88704835035935  2.860288849123229    0 ... 1000.0 -99.008 1000.0\n",
      "4867461  149.4769176608476 2.7146748082853858    0 ...   0.08   22.03   0.28\n",
      "5242180 151.10482625165122  2.821128757377072    0 ... 1000.0 -99.009 1000.0\n",
      "2604067 150.77116917897175 1.2011132416614745    0 ... 1000.0 -99.008 1000.0\n",
      "3913049  150.7108549121019  2.544422091021527    0 ...  0.001  18.408  0.002\n",
      "2351926 151.26340822077557 1.2889021572643826    0 ... 1000.0 -99.009 1000.0\n",
      "    ...                ...                ...  ... ...    ...     ...    ...\n",
      "4000565 150.40340704182836  1.871401902904968    0 ...   0.02  22.839  0.021\n",
      "3578124 151.07286867631015  2.452965048320057    0 ... 1000.0 -99.008 1000.0\n",
      "2465357  151.0731411275226 1.5719287096866774    0 ... 1000.0  -99.01 1000.0\n",
      "4365541 150.07749273248294  1.845463706675461    0 ...  0.173  24.897  0.296\n",
      "3506443 151.01510178649914 1.7964583841473942    0 ... 1000.0 -99.008 1000.0\n",
      "2592168 150.76850728841964  1.080386397320256    0 ... 1000.0 -99.008 1000.0\n",
      "2595560 150.72112479452605 1.1141925582643062    0 ... 1000.0 -99.008 1000.0\n",
      "2514611  150.9339516734548 1.1720102721658336    0 ... 1000.0 -99.008 1000.0\n",
      "1561677  150.2937863599055 1.1129627220818596    0 ... 1000.0 -99.006 1000.0\n",
      "2544751 150.83389832859564 1.4591107511866326    0 ... 1000.0 -99.008 1000.0\n",
      "4498320  150.1409476367925  2.829422083574351    0 ...  0.075  23.768   0.11\n",
      "Length = 12597 rows\n"
     ]
    }
   ],
   "source": [
    "lbgs.pprint()"
   ]
  },
  {
   "cell_type": "code",
   "execution_count": 116,
   "metadata": {},
   "outputs": [],
   "source": [
    "dat  = fitsio.read('/global/cscratch1/sd/mjwilson/SCNDCOSMOS/fiberassign-082000.fits.gz')"
   ]
  },
  {
   "cell_type": "code",
   "execution_count": 117,
   "metadata": {},
   "outputs": [
    {
     "data": {
      "text/plain": [
       "array([149.80223123, 149.89306089, 150.00712684, ..., 150.66756626,\n",
       "       150.64278697, 150.77124983])"
      ]
     },
     "execution_count": 117,
     "metadata": {},
     "output_type": "execute_result"
    }
   ],
   "source": [
    "dat['TARGET_RA']"
   ]
  },
  {
   "cell_type": "code",
   "execution_count": 118,
   "metadata": {},
   "outputs": [
    {
     "data": {
      "text/plain": [
       "array([1.03722321, 1.1090335 , 1.12826224, ..., 1.3720464 , 1.29189284,\n",
       "       1.3756248 ])"
      ]
     },
     "execution_count": 118,
     "metadata": {},
     "output_type": "execute_result"
    }
   ],
   "source": [
    "dat['TARGET_DEC']"
   ]
  },
  {
   "cell_type": "code",
   "execution_count": 153,
   "metadata": {},
   "outputs": [],
   "source": [
    "sc_target = SkyCoord(ra=dat['TARGET_RA']*u.degree, dec=dat['TARGET_DEC']*u.degree)\n",
    "\n",
    "sc_tmgs   = SkyCoord(ra=tmgs['RA']*u.degree, dec=tmgs['DEC']*u.degree)\n",
    "sc_lbgs   = SkyCoord(ra=lbgs['RA']*u.degree, dec=lbgs['DEC']*u.degree)"
   ]
  },
  {
   "cell_type": "code",
   "execution_count": 154,
   "metadata": {},
   "outputs": [],
   "source": [
    "idx, d2d, d3d = sc_target.match_to_catalog_sky(sc_tmgs)"
   ]
  },
  {
   "cell_type": "code",
   "execution_count": 155,
   "metadata": {},
   "outputs": [
    {
     "data": {
      "image/png": "[encoded data removed]",
      "text/plain": [
       "<Figure size 432x288 with 1 Axes>"
      ]
     },
     "metadata": {
      "needs_background": "light"
     },
     "output_type": "display_data"
    }
   ],
   "source": [
    "_ = pl.hist(d2d.arcsec, bins=np.arange(0.0, 1., 0.01))"
   ]
  },
  {
   "cell_type": "code",
   "execution_count": 156,
   "metadata": {},
   "outputs": [
    {
     "data": {
      "text/plain": [
       "0.4038"
      ]
     },
     "execution_count": 156,
     "metadata": {},
     "output_type": "execute_result"
    }
   ],
   "source": [
    "np.mean(d2d.arcsec < 0.2)"
   ]
  },
  {
   "cell_type": "code",
   "execution_count": 157,
   "metadata": {},
   "outputs": [],
   "source": [
    "idx = idx[d2d.arcsec < 0.1]"
   ]
  },
  {
   "cell_type": "code",
   "execution_count": 158,
   "metadata": {},
   "outputs": [
    {
     "data": {
      "text/plain": [
       "(array([ 50.,  49.,  12.,   7.,   4.,   2.,   6.,   7.,   2.,   2.,   4.,\n",
       "          1.,   1.,   7.,   4.,  10.,   7.,   2.,  20.,  40.,  58.,  89.,\n",
       "        110., 136., 139., 120., 101., 135., 153., 172., 153., 126.,  94.,\n",
       "         83.,  48.,  16.,   6.,   2.,   4.,   0.,   1.,   0.,   0.,   0.,\n",
       "          0.,   0.,   0.,   0.,   0.]),\n",
       " array([0. , 0.1, 0.2, 0.3, 0.4, 0.5, 0.6, 0.7, 0.8, 0.9, 1. , 1.1, 1.2,\n",
       "        1.3, 1.4, 1.5, 1.6, 1.7, 1.8, 1.9, 2. , 2.1, 2.2, 2.3, 2.4, 2.5,\n",
       "        2.6, 2.7, 2.8, 2.9, 3. , 3.1, 3.2, 3.3, 3.4, 3.5, 3.6, 3.7, 3.8,\n",
       "        3.9, 4. , 4.1, 4.2, 4.3, 4.4, 4.5, 4.6, 4.7, 4.8, 4.9]),\n",
       " <a list of 1 Patch objects>)"
      ]
     },
     "execution_count": 158,
     "metadata": {},
     "output_type": "execute_result"
    },
    {
     "data": {
      "image/png": "[encoded data removed]",
      "text/plain": [
       "<Figure size 432x288 with 1 Axes>"
      ]
     },
     "metadata": {
      "needs_background": "light"
     },
     "output_type": "display_data"
    }
   ],
   "source": [
    "pl.hist(tmgs[idx]['PHOTO_Z'], bins=np.arange(0.0, 5.0, 0.1), histtype='step')"
   ]
  },
  {
   "cell_type": "code",
   "execution_count": 159,
   "metadata": {},
   "outputs": [
    {
     "data": {
      "text/plain": [
       "0.06149193548387097"
      ]
     },
     "execution_count": 159,
     "metadata": {},
     "output_type": "execute_result"
    }
   ],
   "source": [
    "np.mean(tmgs[idx]['PHOTO_Z'] < 0.5)"
   ]
  },
  {
   "cell_type": "code",
   "execution_count": 160,
   "metadata": {},
   "outputs": [],
   "source": [
    "assigned_tmgs = tmgs[idx]"
   ]
  },
  {
   "cell_type": "code",
   "execution_count": 161,
   "metadata": {},
   "outputs": [
    {
     "data": {
      "text/plain": [
       "1984"
      ]
     },
     "execution_count": 161,
     "metadata": {},
     "output_type": "execute_result"
    }
   ],
   "source": [
    "len(assigned_tmgs)"
   ]
  },
  {
   "cell_type": "code",
   "execution_count": 128,
   "metadata": {},
   "outputs": [],
   "source": [
    "idx, d2d, d3d = sc_target.match_to_catalog_sky(sc_lbgs)"
   ]
  },
  {
   "cell_type": "code",
   "execution_count": 129,
   "metadata": {},
   "outputs": [
    {
     "data": {
      "image/png": "[encoded data removed]",
      "text/plain": [
       "<Figure size 432x288 with 1 Axes>"
      ]
     },
     "metadata": {
      "needs_background": "light"
     },
     "output_type": "display_data"
    }
   ],
   "source": [
    "_ = pl.hist(d2d.arcsec, bins=np.arange(0.0, 1., 0.01))"
   ]
  },
  {
   "cell_type": "code",
   "execution_count": 130,
   "metadata": {},
   "outputs": [
    {
     "data": {
      "text/plain": [
       "0.2794"
      ]
     },
     "execution_count": 130,
     "metadata": {},
     "output_type": "execute_result"
    }
   ],
   "source": [
    "np.mean(d2d.arcsec < 0.1)"
   ]
  },
  {
   "cell_type": "code",
   "execution_count": 131,
   "metadata": {},
   "outputs": [],
   "source": [
    "idx = idx[d2d.arcsec < 0.1]"
   ]
  },
  {
   "cell_type": "code",
   "execution_count": 132,
   "metadata": {},
   "outputs": [
    {
     "data": {
      "text/html": [
       "<i>Table length=1397</i>\n",
       "<table id=\"table46913273512240\" class=\"table-striped table-bordered table-condensed\">\n",
       "<thead><tr><th>ID</th><th>RA</th><th>DEC</th><th>MASK</th><th>FLAG_FIELD</th><th>FLAG_FIELD_BINARY [7]</th><th>EB_V</th><th>FUV_err</th><th>NUV_err</th><th>MAG_ABS_FUV</th><th>MAG_ABS_NUV</th><th>MAG_ABS_u</th><th>MAG_ABS_uS</th><th>MAG_ABS_g</th><th>MAG_ABS_r</th><th>MAG_ABS_i</th><th>MAG_ABS_z</th><th>MAG_ABS_y</th><th>MAG_ABS_Yv</th><th>MAG_ABS_J</th><th>MAG_ABS_H</th><th>MAG_ABS_Ks</th><th>Z_SPEC</th><th>Z_BEST</th><th>NBAND_USED</th><th>CHI_BEST</th><th>CHI_STAR</th><th>CHI_QSO</th><th>MOD_BEST</th><th>MOD_STAR</th><th>MOD_QSO</th><th>Z_ML</th><th>Z_ML68_LOW</th><th>Z_ML68_HIGH</th><th>Z_SEC</th><th>Z_QSO</th><th>Z_BC03</th><th>ZPHOT</th><th>MOD_BEST_BC03</th><th>PRIORITY</th><th>TILEID</th><th>SAMPLE</th><th>TARGETID</th><th>SUBPRIORITY</th><th>PMRA</th><th>PMDEC</th><th>REF_EPOCH</th><th>OVERRIDE</th><th>U</th><th>U_ERR</th><th>US</th><th>US_ERR</th><th>G</th><th>G_ERR</th><th>R</th><th>R_ERR</th><th>I</th><th>I_ERR</th><th>Z</th><th>Z_ERR</th><th>Y</th><th>Y_ERR</th><th>YV</th><th>YV_ERR</th><th>J_ERR</th><th>H_ERR</th><th>KS</th><th>KS_ERR</th></tr></thead>\n",
       "<thead><tr><th>int64</th><th>float64</th><th>float64</th><th>int16</th><th>int16</th><th>bool</th><th>float64</th><th>float64</th><th>float64</th><th>float64</th><th>float64</th><th>float64</th><th>float64</th><th>float64</th><th>float64</th><th>float64</th><th>float64</th><th>float64</th><th>float64</th><th>float64</th><th>float64</th><th>float64</th><th>float64</th><th>float64</th><th>int64</th><th>float64</th><th>float64</th><th>float64</th><th>int64</th><th>int64</th><th>int64</th><th>float64</th><th>float64</th><th>float64</th><th>float64</th><th>float64</th><th>float64</th><th>float64</th><th>int64</th><th>int64</th><th>int32</th><th>bytes9</th><th>int64</th><th>float64</th><th>float32</th><th>float32</th><th>float32</th><th>bool</th><th>float64</th><th>float64</th><th>float64</th><th>float64</th><th>float64</th><th>float64</th><th>float64</th><th>float64</th><th>float64</th><th>float64</th><th>float64</th><th>float64</th><th>float64</th><th>float64</th><th>float64</th><th>float64</th><th>float64</th><th>float64</th><th>float64</th><th>float64</th></tr></thead>\n",
       "<tr><td>1626577</td><td>150.20333965943462</td><td>1.1670676432513534</td><td>0</td><td>7</td><td>True .. False</td><td>0.016667136073555272</td><td>-99.0</td><td>-99.0</td><td>-18.473</td><td>-18.73</td><td>-19.199</td><td>-19.406</td><td>-19.732</td><td>-19.622</td><td>-19.724</td><td>-19.837</td><td>-19.905</td><td>-19.924</td><td>-19.934</td><td>-20.035</td><td>-19.793</td><td>-99.0</td><td>0.8163</td><td>11</td><td>4.57988</td><td>60.3342</td><td>3.34039</td><td>31</td><td>61</td><td>28</td><td>0.8148</td><td>0.7623</td><td>0.8775</td><td>-99.0</td><td>0.08</td><td>0.8148</td><td>0.8148</td><td>3</td><td>8000</td><td>2068</td><td>CLAUDS-U</td><td>974</td><td>0.3179086897094785</td><td>0.0</td><td>0.0</td><td>0.0</td><td>False</td><td>26.972</td><td>1000.0</td><td>24.271</td><td>0.097</td><td>23.964</td><td>0.027</td><td>23.856</td><td>0.045</td><td>23.207</td><td>0.029</td><td>23.133</td><td>0.042</td><td>23.366</td><td>0.139</td><td>-99.02</td><td>1000.0</td><td>1000.0</td><td>1000.0</td><td>-99.006</td><td>1000.0</td></tr>\n",
       "<tr><td>1773782</td><td>149.84749220517747</td><td>1.0345852595890423</td><td>0</td><td>7</td><td>True .. False</td><td>0.020885814870131504</td><td>-99.0</td><td>-99.0</td><td>-21.536</td><td>-21.998</td><td>-22.512</td><td>-22.608</td><td>-22.913</td><td>-23.114</td><td>-23.36</td><td>-23.588</td><td>-23.702</td><td>-23.751</td><td>-23.878</td><td>-24.105</td><td>-23.947</td><td>-99.0</td><td>2.7382</td><td>11</td><td>2.02179</td><td>4.52704</td><td>2.90904</td><td>29</td><td>84</td><td>30</td><td>2.7584</td><td>2.6</td><td>2.8752</td><td>0.08</td><td>2.98</td><td>2.7584</td><td>2.7584</td><td>11</td><td>6000</td><td>2068</td><td>CLAUDS-U</td><td>1845</td><td>0.6718347495840757</td><td>0.0</td><td>0.0</td><td>0.0</td><td>False</td><td>25.905</td><td>0.159</td><td>25.018</td><td>0.227</td><td>24.153</td><td>0.045</td><td>23.709</td><td>0.045</td><td>23.449</td><td>0.046</td><td>23.311</td><td>0.061</td><td>23.207</td><td>0.13</td><td>-99.025</td><td>1000.0</td><td>1000.0</td><td>1000.0</td><td>-99.008</td><td>1000.0</td></tr>\n",
       "<tr><td>1784992</td><td>149.90261978234753</td><td>1.1499335152386176</td><td>0</td><td>7</td><td>True .. False</td><td>0.01864022141548257</td><td>-99.0</td><td>-99.0</td><td>-21.001</td><td>-20.816</td><td>-20.752</td><td>-20.858</td><td>-21.042</td><td>-20.992</td><td>-21.0</td><td>-21.069</td><td>-21.114</td><td>-21.126</td><td>-21.1</td><td>-21.158</td><td>-20.879</td><td>-99.0</td><td>2.3693</td><td>11</td><td>2.18259</td><td>2.75779</td><td>15.9973</td><td>33</td><td>244</td><td>28</td><td>2.4695</td><td>2.3629</td><td>2.576</td><td>0.04</td><td>0.72</td><td>2.4695</td><td>2.4695</td><td>1</td><td>2000</td><td>2068</td><td>CLAUDS-BX</td><td>13248</td><td>0.954225043522503</td><td>0.0</td><td>0.0</td><td>0.0</td><td>False</td><td>24.758</td><td>0.022</td><td>24.673</td><td>0.066</td><td>24.226</td><td>0.017</td><td>24.213</td><td>0.025</td><td>24.323</td><td>0.035</td><td>24.209</td><td>0.049</td><td>24.551</td><td>0.16</td><td>-99.023</td><td>1000.0</td><td>1000.0</td><td>1000.0</td><td>-99.007</td><td>1000.0</td></tr>\n",
       "<tr><td>1700336</td><td>150.0806009679944</td><td>1.2277486590696205</td><td>0</td><td>6</td><td>False .. False</td><td>0.017570328467251768</td><td>-99.0</td><td>-99.0</td><td>-20.748</td><td>-21.128</td><td>-21.597</td><td>-21.716</td><td>-22.077</td><td>-22.276</td><td>-22.453</td><td>-22.609</td><td>-22.691</td><td>-22.715</td><td>-22.802</td><td>-22.922</td><td>-22.688</td><td>-99.0</td><td>0.122</td><td>11</td><td>3.69916</td><td>5.73622</td><td>4.31181</td><td>27</td><td>60</td><td>1</td><td>2.292</td><td>0.0849</td><td>2.5845</td><td>2.46</td><td>0.06</td><td>2.292</td><td>2.292</td><td>7</td><td>4000</td><td>2068</td><td>CLAUDS-BX</td><td>12127</td><td>0.6314747428998438</td><td>0.0</td><td>0.0</td><td>0.0</td><td>False</td><td>25.246</td><td>0.101</td><td>26.491</td><td>0.809</td><td>24.362</td><td>0.036</td><td>24.063</td><td>0.057</td><td>23.869</td><td>0.052</td><td>23.753</td><td>0.08</td><td>23.984</td><td>0.244</td><td>-99.021</td><td>1000.0</td><td>1000.0</td><td>1000.0</td><td>-99.006</td><td>1000.0</td></tr>\n",
       "<tr><td>1697057</td><td>150.03164175835445</td><td>1.1689124113546283</td><td>0</td><td>5</td><td>True .. False</td><td>0.016727991802781703</td><td>-99.0</td><td>-99.0</td><td>-21.03</td><td>-21.37</td><td>-22.233</td><td>-22.479</td><td>-23.018</td><td>-23.105</td><td>-23.156</td><td>-23.23</td><td>-23.288</td><td>-23.297</td><td>-23.274</td><td>-23.349</td><td>-23.101</td><td>-99.0</td><td>3.3417</td><td>11</td><td>2.84123</td><td>5.53669</td><td>2.22774</td><td>18</td><td>90</td><td>5</td><td>3.6659</td><td>3.3994</td><td>3.919</td><td>0.36</td><td>3.12</td><td>3.6659</td><td>3.6659</td><td>1</td><td>9000</td><td>2068</td><td>CLAUDS-G</td><td>14606</td><td>0.014389112316248842</td><td>0.0</td><td>0.0</td><td>0.0</td><td>False</td><td>30.784</td><td>1000.0</td><td>30.886</td><td>12.047</td><td>26.42</td><td>0.096</td><td>25.067</td><td>0.054</td><td>24.763</td><td>0.05</td><td>24.521</td><td>0.061</td><td>25.106</td><td>0.283</td><td>-99.02</td><td>1000.0</td><td>1000.0</td><td>1000.0</td><td>-99.006</td><td>1000.0</td></tr>\n",
       "<tr><td>1700294</td><td>150.04563697596413</td><td>1.2289455862310878</td><td>0</td><td>7</td><td>True .. False</td><td>0.017130808096846507</td><td>-99.0</td><td>-99.0</td><td>-21.24</td><td>-21.608</td><td>-21.939</td><td>-22.019</td><td>-22.274</td><td>-22.416</td><td>-22.553</td><td>-22.683</td><td>-22.747</td><td>-22.764</td><td>-22.823</td><td>-22.905</td><td>-22.665</td><td>-99.0</td><td>2.6888</td><td>11</td><td>0.836048</td><td>3.537</td><td>0.661289</td><td>27</td><td>57</td><td>29</td><td>2.6818</td><td>2.5916</td><td>2.759</td><td>0.1</td><td>2.7</td><td>2.6818</td><td>2.6818</td><td>10</td><td>5000</td><td>2068</td><td>CLAUDS-BX</td><td>10038</td><td>0.1453789973828502</td><td>0.0</td><td>0.0</td><td>0.0</td><td>False</td><td>25.692</td><td>0.092</td><td>25.482</td><td>0.194</td><td>24.383</td><td>0.022</td><td>23.908</td><td>0.026</td><td>23.845</td><td>0.029</td><td>23.646</td><td>0.041</td><td>23.626</td><td>0.096</td><td>-99.021</td><td>1000.0</td><td>1000.0</td><td>1000.0</td><td>-99.006</td><td>1000.0</td></tr>\n",
       "<tr><td>1688364</td><td>150.01518443145454</td><td>1.097800252540322</td><td>0</td><td>5</td><td>True .. False</td><td>0.018350221016752936</td><td>-99.0</td><td>-99.0</td><td>-20.328</td><td>-20.763</td><td>-21.365</td><td>-21.529</td><td>-21.956</td><td>-22.127</td><td>-22.277</td><td>-22.398</td><td>-22.454</td><td>-22.462</td><td>-22.459</td><td>-22.541</td><td>-22.297</td><td>-99.0</td><td>3.4702</td><td>9</td><td>0.013773</td><td>0.475247</td><td>0.0245879</td><td>21</td><td>96</td><td>23</td><td>3.5796</td><td>0.4931</td><td>3.995</td><td>0.36</td><td>3.48</td><td>3.5796</td><td>3.5796</td><td>5</td><td>5000</td><td>2068</td><td>CLAUDS-G</td><td>18681</td><td>0.18602107329011353</td><td>0.0</td><td>0.0</td><td>0.0</td><td>False</td><td>-99.088</td><td>-99.0</td><td>-99.086</td><td>-99.0</td><td>27.2</td><td>0.257</td><td>25.73</td><td>0.102</td><td>25.345</td><td>0.094</td><td>25.185</td><td>0.121</td><td>25.173</td><td>0.296</td><td>-99.022</td><td>1000.0</td><td>1000.0</td><td>1000.0</td><td>-99.007</td><td>1000.0</td></tr>\n",
       "<tr><td>1695664</td><td>149.91615107599645</td><td>1.1854004183941942</td><td>0</td><td>7</td><td>True .. False</td><td>0.018082607521284922</td><td>-99.0</td><td>-99.0</td><td>-21.52</td><td>-21.844</td><td>-22.348</td><td>-22.471</td><td>-22.849</td><td>-23.055</td><td>-23.238</td><td>-23.399</td><td>-23.483</td><td>-23.506</td><td>-23.585</td><td>-23.712</td><td>-23.496</td><td>-99.0</td><td>3.2563</td><td>11</td><td>2.98734</td><td>4.61526</td><td>1.25832</td><td>26</td><td>228</td><td>4</td><td>3.2614</td><td>3.1702</td><td>3.3545</td><td>-99.0</td><td>3.1</td><td>3.2614</td><td>3.2614</td><td>10</td><td>4000</td><td>2068</td><td>CLAUDS-U</td><td>3269</td><td>0.09611025066914458</td><td>0.0</td><td>0.0</td><td>0.0</td><td>False</td><td>28.249</td><td>0.501</td><td>28.165</td><td>1.456</td><td>25.185</td><td>0.034</td><td>24.199</td><td>0.021</td><td>23.896</td><td>0.02</td><td>23.789</td><td>0.029</td><td>23.834</td><td>0.071</td><td>-99.022</td><td>1000.0</td><td>1000.0</td><td>1000.0</td><td>-99.007</td><td>1000.0</td></tr>\n",
       "<tr><td>1691492</td><td>149.98224924817288</td><td>1.1340482686605606</td><td>0</td><td>7</td><td>True .. False</td><td>0.017949506684805352</td><td>-99.0</td><td>-99.0</td><td>-20.229</td><td>-20.862</td><td>-22.555</td><td>-22.845</td><td>-23.955</td><td>-24.73</td><td>-25.267</td><td>-25.629</td><td>-25.836</td><td>-25.913</td><td>-26.164</td><td>-26.528</td><td>-26.443</td><td>-99.0</td><td>2.1847</td><td>11</td><td>2.46456</td><td>56.2507</td><td>2.60991</td><td>18</td><td>68</td><td>6</td><td>2.2287</td><td>2.1449</td><td>2.3012</td><td>-99.0</td><td>2.22</td><td>2.2287</td><td>2.2287</td><td>3</td><td>9000</td><td>2068</td><td>CLAUDS-BX</td><td>5996</td><td>0.27403928263211774</td><td>0.0</td><td>0.0</td><td>0.0</td><td>False</td><td>26.171</td><td>0.093</td><td>25.745</td><td>0.167</td><td>24.824</td><td>0.038</td><td>24.393</td><td>0.039</td><td>24.061</td><td>0.037</td><td>23.592</td><td>0.038</td><td>23.237</td><td>0.065</td><td>-99.022</td><td>1000.0</td><td>1000.0</td><td>1000.0</td><td>-99.007</td><td>1000.0</td></tr>\n",
       "<tr><td>1789721</td><td>149.87018797373557</td><td>1.1922644034398078</td><td>0</td><td>7</td><td>True .. False</td><td>0.019537480506898203</td><td>-99.0</td><td>-99.0</td><td>-20.964</td><td>-21.09</td><td>-21.171</td><td>-21.302</td><td>-21.611</td><td>-21.662</td><td>-21.723</td><td>-21.807</td><td>-21.845</td><td>-21.846</td><td>-21.819</td><td>-21.873</td><td>-21.619</td><td>-99.0</td><td>0.0916</td><td>11</td><td>1.08484</td><td>12.9655</td><td>1.76631</td><td>32</td><td>244</td><td>28</td><td>2.1909</td><td>0.087</td><td>2.4311</td><td>2.54</td><td>0.64</td><td>2.1909</td><td>2.1909</td><td>5</td><td>8000</td><td>16917</td><td>CLAUDS-BX</td><td>6450</td><td>0.5167157467515913</td><td>0.0</td><td>0.0</td><td>0.0</td><td>False</td><td>24.406</td><td>0.034</td><td>24.281</td><td>0.094</td><td>23.983</td><td>0.026</td><td>24.018</td><td>0.042</td><td>23.849</td><td>0.044</td><td>23.992</td><td>0.081</td><td>24.008</td><td>0.197</td><td>-99.024</td><td>1000.0</td><td>1000.0</td><td>1000.0</td><td>-99.007</td><td>1000.0</td></tr>\n",
       "<tr><td>...</td><td>...</td><td>...</td><td>...</td><td>...</td><td>...</td><td>...</td><td>...</td><td>...</td><td>...</td><td>...</td><td>...</td><td>...</td><td>...</td><td>...</td><td>...</td><td>...</td><td>...</td><td>...</td><td>...</td><td>...</td><td>...</td><td>...</td><td>...</td><td>...</td><td>...</td><td>...</td><td>...</td><td>...</td><td>...</td><td>...</td><td>...</td><td>...</td><td>...</td><td>...</td><td>...</td><td>...</td><td>...</td><td>...</td><td>...</td><td>...</td><td>...</td><td>...</td><td>...</td><td>...</td><td>...</td><td>...</td><td>...</td><td>...</td><td>...</td><td>...</td><td>...</td><td>...</td><td>...</td><td>...</td><td>...</td><td>...</td><td>...</td><td>...</td><td>...</td><td>...</td><td>...</td><td>...</td><td>...</td><td>...</td><td>...</td><td>...</td><td>...</td></tr>\n",
       "<tr><td>2689897</td><td>150.5992479587699</td><td>1.1879039414114172</td><td>0</td><td>7</td><td>True .. False</td><td>0.02077902291985307</td><td>-99.0</td><td>-99.0</td><td>-20.346</td><td>-20.746</td><td>-21.338</td><td>-21.485</td><td>-21.932</td><td>-22.168</td><td>-22.373</td><td>-22.548</td><td>-22.637</td><td>-22.66</td><td>-22.734</td><td>-22.878</td><td>-22.687</td><td>-99.0</td><td>2.1612</td><td>11</td><td>4.39457</td><td>43.3033</td><td>3.74379</td><td>32</td><td>53</td><td>27</td><td>2.1889</td><td>2.0431</td><td>2.2718</td><td>0.06</td><td>2.3</td><td>2.1889</td><td>2.1889</td><td>5</td><td>10000</td><td>2068</td><td>CLAUDS-BX</td><td>4369</td><td>0.2605909762584321</td><td>0.0</td><td>0.0</td><td>0.0</td><td>False</td><td>25.435</td><td>0.037</td><td>25.094</td><td>0.094</td><td>24.626</td><td>0.019</td><td>24.391</td><td>0.025</td><td>24.144</td><td>0.025</td><td>23.933</td><td>0.032</td><td>23.965</td><td>0.082</td><td>-99.025</td><td>1000.0</td><td>1000.0</td><td>1000.0</td><td>-99.008</td><td>1000.0</td></tr>\n",
       "<tr><td>2699327</td><td>150.59797287792586</td><td>1.2576531508870985</td><td>0</td><td>7</td><td>True .. False</td><td>0.02133980978685171</td><td>-99.0</td><td>-99.0</td><td>-20.514</td><td>-20.822</td><td>-20.974</td><td>-21.073</td><td>-21.379</td><td>-21.552</td><td>-21.714</td><td>-21.861</td><td>-21.937</td><td>-21.958</td><td>-22.038</td><td>-22.147</td><td>-21.912</td><td>-99.0</td><td>2.4199</td><td>11</td><td>2.99393</td><td>8.93276</td><td>5.06644</td><td>33</td><td>53</td><td>28</td><td>2.3377</td><td>0.0606</td><td>2.5162</td><td>0.06</td><td>0.74</td><td>2.3377</td><td>2.3377</td><td>10</td><td>9000</td><td>2068</td><td>CLAUDS-BX</td><td>6105</td><td>0.46078645464222956</td><td>0.0</td><td>0.0</td><td>0.0</td><td>False</td><td>25.586</td><td>0.037</td><td>25.522</td><td>0.138</td><td>24.655</td><td>0.019</td><td>24.357</td><td>0.024</td><td>24.219</td><td>0.025</td><td>24.049</td><td>0.036</td><td>24.345</td><td>0.125</td><td>-99.026</td><td>1000.0</td><td>1000.0</td><td>1000.0</td><td>-99.008</td><td>1000.0</td></tr>\n",
       "<tr><td>2693034</td><td>150.54194677548296</td><td>1.191933142613261</td><td>0</td><td>7</td><td>True .. False</td><td>0.020689006672871307</td><td>-99.0</td><td>-99.0</td><td>-21.888</td><td>-22.143</td><td>-23.012</td><td>-23.217</td><td>-23.913</td><td>-24.326</td><td>-24.626</td><td>-24.85</td><td>-24.979</td><td>-25.025</td><td>-25.149</td><td>-25.38</td><td>-25.215</td><td>-99.0</td><td>2.2474</td><td>11</td><td>1.20229</td><td>40.4985</td><td>1.54305</td><td>28</td><td>49</td><td>21</td><td>2.2376</td><td>2.1887</td><td>2.2768</td><td>-99.0</td><td>2.32</td><td>2.2376</td><td>2.2376</td><td>11</td><td>7000</td><td>2068</td><td>CLAUDS-BX</td><td>7139</td><td>0.7216394069321259</td><td>0.0</td><td>0.0</td><td>0.0</td><td>False</td><td>23.894</td><td>0.041</td><td>23.833</td><td>0.114</td><td>23.134</td><td>0.02</td><td>22.901</td><td>0.025</td><td>22.815</td><td>0.028</td><td>22.469</td><td>0.032</td><td>22.45</td><td>0.078</td><td>-99.025</td><td>1000.0</td><td>1000.0</td><td>1000.0</td><td>-99.008</td><td>1000.0</td></tr>\n",
       "<tr><td>2632001</td><td>150.64754481116464</td><td>1.4492444362561032</td><td>0</td><td>7</td><td>True .. False</td><td>0.021949047114126846</td><td>0.067</td><td>0.071</td><td>-14.644</td><td>-14.98</td><td>-15.774</td><td>-16.005</td><td>-16.621</td><td>-16.805</td><td>-16.97</td><td>-17.026</td><td>-17.088</td><td>-17.104</td><td>-17.115</td><td>-17.232</td><td>-16.995</td><td>-99.0</td><td>0.0889</td><td>13</td><td>15.7733</td><td>173.125</td><td>102.303</td><td>2</td><td>59</td><td>1</td><td>0.0852</td><td>0.0687</td><td>0.0988</td><td>-99.0</td><td>0.06</td><td>0.0852</td><td>0.0852</td><td>2</td><td>10000</td><td>2068</td><td>CLAUDS-BX</td><td>4555</td><td>0.10408506616698043</td><td>0.0</td><td>0.0</td><td>0.0</td><td>False</td><td>22.488</td><td>0.005</td><td>22.391</td><td>0.006</td><td>21.376</td><td>0.002</td><td>21.089</td><td>0.002</td><td>20.925</td><td>0.002</td><td>20.822</td><td>0.003</td><td>20.841</td><td>0.006</td><td>-99.027</td><td>1000.0</td><td>1000.0</td><td>1000.0</td><td>-99.008</td><td>1000.0</td></tr>\n",
       "<tr><td>2697758</td><td>150.5433591989951</td><td>1.2403520654476266</td><td>0</td><td>7</td><td>True .. False</td><td>0.020550089679753497</td><td>-99.0</td><td>-99.0</td><td>-20.753</td><td>-21.011</td><td>-21.446</td><td>-21.527</td><td>-21.782</td><td>-21.925</td><td>-22.062</td><td>-22.192</td><td>-22.257</td><td>-22.274</td><td>-22.333</td><td>-22.417</td><td>-22.177</td><td>-99.0</td><td>2.4845</td><td>11</td><td>0.172473</td><td>2.07909</td><td>0.398614</td><td>30</td><td>53</td><td>28</td><td>2.4626</td><td>0.1064</td><td>2.6413</td><td>0.08</td><td>2.74</td><td>2.4626</td><td>2.4626</td><td>9</td><td>5000</td><td>2068</td><td>CLAUDS-BX</td><td>10418</td><td>0.43697637093389086</td><td>0.0</td><td>0.0</td><td>0.0</td><td>False</td><td>25.615</td><td>0.091</td><td>25.602</td><td>0.291</td><td>24.579</td><td>0.036</td><td>24.31</td><td>0.051</td><td>24.148</td><td>0.05</td><td>24.017</td><td>0.069</td><td>23.935</td><td>0.168</td><td>-99.025</td><td>1000.0</td><td>1000.0</td><td>1000.0</td><td>-99.008</td><td>1000.0</td></tr>\n",
       "<tr><td>2617670</td><td>150.75192694927892</td><td>1.3232632797375476</td><td>0</td><td>7</td><td>True .. False</td><td>0.023086730868908834</td><td>-99.0</td><td>-99.0</td><td>-9.56</td><td>-12.908</td><td>-15.968</td><td>-16.261</td><td>-17.085</td><td>-17.755</td><td>-17.974</td><td>-18.172</td><td>-18.284</td><td>-18.322</td><td>-18.395</td><td>-18.567</td><td>-18.321</td><td>-99.0</td><td>2.6905</td><td>11</td><td>13.5849</td><td>1.84586</td><td>5.56536</td><td>26</td><td>108</td><td>1</td><td>0.3827</td><td>0.3068</td><td>0.446</td><td>0.4</td><td>3.38</td><td>0.3827</td><td>0.3827</td><td>1</td><td>2000</td><td>2068</td><td>CLAUDS-U</td><td>3926</td><td>0.6891345080129622</td><td>0.0</td><td>0.0</td><td>0.0</td><td>False</td><td>28.97</td><td>0.946</td><td>27.938</td><td>0.817</td><td>25.488</td><td>0.038</td><td>24.318</td><td>0.021</td><td>23.708</td><td>0.015</td><td>23.373</td><td>0.016</td><td>23.376</td><td>0.04</td><td>-99.028</td><td>1000.0</td><td>1000.0</td><td>1000.0</td><td>-99.008</td><td>1000.0</td></tr>\n",
       "<tr><td>2610117</td><td>150.68394326644045</td><td>1.2512937483448443</td><td>0</td><td>7</td><td>True .. False</td><td>0.022164209089781246</td><td>-99.0</td><td>-99.0</td><td>-21.229</td><td>-21.389</td><td>-22.278</td><td>-22.502</td><td>-22.986</td><td>-23.053</td><td>-23.095</td><td>-23.167</td><td>-23.223</td><td>-23.232</td><td>-23.208</td><td>-23.279</td><td>-23.026</td><td>-99.0</td><td>2.6622</td><td>11</td><td>1.77124</td><td>3.9154</td><td>2.5727</td><td>26</td><td>49</td><td>1</td><td>2.5596</td><td>0.143</td><td>2.6539</td><td>0.02</td><td>0.04</td><td>2.5596</td><td>2.5596</td><td>1</td><td>6000</td><td>2068</td><td>CLAUDS-BX</td><td>8452</td><td>0.7577728262747813</td><td>0.0</td><td>0.0</td><td>0.0</td><td>False</td><td>25.093</td><td>0.042</td><td>24.948</td><td>0.14</td><td>24.214</td><td>0.022</td><td>23.927</td><td>0.027</td><td>23.861</td><td>0.031</td><td>23.85</td><td>0.049</td><td>23.603</td><td>0.102</td><td>-99.027</td><td>1000.0</td><td>1000.0</td><td>1000.0</td><td>-99.008</td><td>1000.0</td></tr>\n",
       "<tr><td>2701962</td><td>150.5692316031406</td><td>1.2841182728267315</td><td>0</td><td>7</td><td>True .. False</td><td>0.020926391751589904</td><td>-99.0</td><td>-99.0</td><td>-21.045</td><td>-21.054</td><td>-22.013</td><td>-22.228</td><td>-22.989</td><td>-23.384</td><td>-23.616</td><td>-23.797</td><td>-23.904</td><td>-23.939</td><td>-24.0</td><td>-24.164</td><td>-23.92</td><td>-99.0</td><td>2.1968</td><td>11</td><td>8.79494</td><td>99.3387</td><td>2.90709</td><td>22</td><td>248</td><td>28</td><td>2.117</td><td>2.0125</td><td>2.2015</td><td>-99.0</td><td>0.44</td><td>2.117</td><td>2.117</td><td>3</td><td>8000</td><td>2068</td><td>CLAUDS-BX</td><td>6502</td><td>0.41183309364997966</td><td>0.0</td><td>0.0</td><td>0.0</td><td>False</td><td>24.03</td><td>0.014</td><td>24.02</td><td>0.052</td><td>23.822</td><td>0.014</td><td>23.851</td><td>0.022</td><td>23.835</td><td>0.029</td><td>23.715</td><td>0.04</td><td>23.274</td><td>0.07</td><td>-99.025</td><td>1000.0</td><td>1000.0</td><td>1000.0</td><td>-99.008</td><td>1000.0</td></tr>\n",
       "<tr><td>2692640</td><td>150.49862000005686</td><td>1.2099453964710831</td><td>0</td><td>7</td><td>True .. False</td><td>0.020375746308051407</td><td>-99.0</td><td>-99.0</td><td>-9.304</td><td>-12.651</td><td>-15.711</td><td>-16.005</td><td>-16.917</td><td>-17.539</td><td>-17.784</td><td>-17.981</td><td>-18.093</td><td>-18.131</td><td>-18.204</td><td>-18.376</td><td>-18.13</td><td>-99.0</td><td>3.2502</td><td>11</td><td>11.0488</td><td>3.57723</td><td>3.87701</td><td>33</td><td>110</td><td>4</td><td>0.3463</td><td>0.2744</td><td>3.2379</td><td>0.32</td><td>2.96</td><td>0.3463</td><td>0.3463</td><td>1</td><td>3000</td><td>2068</td><td>CLAUDS-U</td><td>3679</td><td>0.4085692524357174</td><td>0.0</td><td>0.0</td><td>0.0</td><td>False</td><td>28.719</td><td>0.705</td><td>27.533</td><td>1.159</td><td>25.351</td><td>0.034</td><td>24.169</td><td>0.019</td><td>23.621</td><td>0.014</td><td>23.323</td><td>0.016</td><td>23.304</td><td>0.043</td><td>-99.025</td><td>1000.0</td><td>1000.0</td><td>1000.0</td><td>-99.007</td><td>1000.0</td></tr>\n",
       "<tr><td>2624385</td><td>150.77124983376132</td><td>1.3756248044425663</td><td>0</td><td>7</td><td>True .. False</td><td>0.0234008826072979</td><td>-99.0</td><td>-99.0</td><td>-20.722</td><td>-20.712</td><td>-21.203</td><td>-21.384</td><td>-21.919</td><td>-22.139</td><td>-22.282</td><td>-22.392</td><td>-22.439</td><td>-22.448</td><td>-22.455</td><td>-22.559</td><td>-22.29</td><td>-99.0</td><td>2.2516</td><td>11</td><td>3.18075</td><td>94.587</td><td>12.2126</td><td>25</td><td>19</td><td>28</td><td>2.1064</td><td>1.9721</td><td>2.2071</td><td>-99.0</td><td>0.44</td><td>2.1064</td><td>2.1064</td><td>9</td><td>1000</td><td>2068</td><td>CLAUDS-BX</td><td>13793</td><td>0.8792095645567997</td><td>0.0</td><td>0.0</td><td>0.0</td><td>False</td><td>24.241</td><td>0.012</td><td>24.238</td><td>0.019</td><td>24.142</td><td>0.013</td><td>24.188</td><td>0.022</td><td>24.178</td><td>0.026</td><td>24.184</td><td>0.043</td><td>24.006</td><td>0.088</td><td>-99.028</td><td>1000.0</td><td>1000.0</td><td>1000.0</td><td>-99.009</td><td>1000.0</td></tr>\n",
       "</table>"
      ],
      "text/plain": [
       "<Table length=1397>\n",
       "   ID           RA                DEC          MASK ...  H_ERR     KS    KS_ERR\n",
       " int64       float64            float64       int16 ... float64 float64 float64\n",
       "------- ------------------ ------------------ ----- ... ------- ------- -------\n",
       "1626577 150.20333965943462 1.1670676432513534     0 ...  1000.0 -99.006  1000.0\n",
       "1773782 149.84749220517747 1.0345852595890423     0 ...  1000.0 -99.008  1000.0\n",
       "1784992 149.90261978234753 1.1499335152386176     0 ...  1000.0 -99.007  1000.0\n",
       "1700336  150.0806009679944 1.2277486590696205     0 ...  1000.0 -99.006  1000.0\n",
       "1697057 150.03164175835445 1.1689124113546283     0 ...  1000.0 -99.006  1000.0\n",
       "1700294 150.04563697596413 1.2289455862310878     0 ...  1000.0 -99.006  1000.0\n",
       "1688364 150.01518443145454  1.097800252540322     0 ...  1000.0 -99.007  1000.0\n",
       "1695664 149.91615107599645 1.1854004183941942     0 ...  1000.0 -99.007  1000.0\n",
       "1691492 149.98224924817288 1.1340482686605606     0 ...  1000.0 -99.007  1000.0\n",
       "1789721 149.87018797373557 1.1922644034398078     0 ...  1000.0 -99.007  1000.0\n",
       "    ...                ...                ...   ... ...     ...     ...     ...\n",
       "2689897  150.5992479587699 1.1879039414114172     0 ...  1000.0 -99.008  1000.0\n",
       "2699327 150.59797287792586 1.2576531508870985     0 ...  1000.0 -99.008  1000.0\n",
       "2693034 150.54194677548296  1.191933142613261     0 ...  1000.0 -99.008  1000.0\n",
       "2632001 150.64754481116464 1.4492444362561032     0 ...  1000.0 -99.008  1000.0\n",
       "2697758  150.5433591989951 1.2403520654476266     0 ...  1000.0 -99.008  1000.0\n",
       "2617670 150.75192694927892 1.3232632797375476     0 ...  1000.0 -99.008  1000.0\n",
       "2610117 150.68394326644045 1.2512937483448443     0 ...  1000.0 -99.008  1000.0\n",
       "2701962  150.5692316031406 1.2841182728267315     0 ...  1000.0 -99.008  1000.0\n",
       "2692640 150.49862000005686 1.2099453964710831     0 ...  1000.0 -99.007  1000.0\n",
       "2624385 150.77124983376132 1.3756248044425663     0 ...  1000.0 -99.009  1000.0"
      ]
     },
     "execution_count": 132,
     "metadata": {},
     "output_type": "execute_result"
    }
   ],
   "source": [
    "lbgs[idx]"
   ]
  },
  {
   "cell_type": "code",
   "execution_count": 133,
   "metadata": {},
   "outputs": [
    {
     "data": {
      "text/plain": [
       "(<Column name='SAMPLE' dtype='bytes9' length=3>\n",
       " CLAUDS-BX\n",
       "  CLAUDS-G\n",
       "  CLAUDS-U,\n",
       " array([504, 602, 291]))"
      ]
     },
     "execution_count": 133,
     "metadata": {},
     "output_type": "execute_result"
    }
   ],
   "source": [
    "# (<Column name='SAMPLE' dtype='bytes9' length=3>\n",
    "#   CLAUDS-BX\n",
    "#   CLAUDS-G\n",
    "#   CLAUDS-U,\n",
    "#   array([500, 602, 302]))\n",
    "np.unique(lbgs[idx]['SAMPLE'], return_counts=True)"
   ]
  },
  {
   "cell_type": "code",
   "execution_count": 135,
   "metadata": {},
   "outputs": [
    {
     "data": {
      "text/plain": [
       "(array([71., 30., 12., 17., 23., 11.,  1.,  4.,  1.,  1.,  2.,  0.,  3.,\n",
       "         3.,  3.,  5.,  1.,  5., 11., 11., 24., 43., 66., 80., 32., 44.,\n",
       "        42., 68., 51., 53., 41., 49., 47., 49., 78., 89., 68., 65., 61.,\n",
       "        38., 31., 13., 26., 14.,  2.,  1.,  1.,  0.,  0.]),\n",
       " array([0. , 0.1, 0.2, 0.3, 0.4, 0.5, 0.6, 0.7, 0.8, 0.9, 1. , 1.1, 1.2,\n",
       "        1.3, 1.4, 1.5, 1.6, 1.7, 1.8, 1.9, 2. , 2.1, 2.2, 2.3, 2.4, 2.5,\n",
       "        2.6, 2.7, 2.8, 2.9, 3. , 3.1, 3.2, 3.3, 3.4, 3.5, 3.6, 3.7, 3.8,\n",
       "        3.9, 4. , 4.1, 4.2, 4.3, 4.4, 4.5, 4.6, 4.7, 4.8, 4.9]),\n",
       " <a list of 1 Patch objects>)"
      ]
     },
     "execution_count": 135,
     "metadata": {},
     "output_type": "execute_result"
    },
    {
     "data": {
      "image/png": "[encoded data removed]",
      "text/plain": [
       "<Figure size 432x288 with 1 Axes>"
      ]
     },
     "metadata": {
      "needs_background": "light"
     },
     "output_type": "display_data"
    }
   ],
   "source": [
    "pl.hist(lbgs[idx]['Z_BC03'], bins=np.arange(0.0, 5.0, 0.1), histtype='step')"
   ]
  },
  {
   "cell_type": "code",
   "execution_count": 152,
   "metadata": {},
   "outputs": [
    {
     "data": {
      "text/plain": [
       "1397"
      ]
     },
     "execution_count": 152,
     "metadata": {},
     "output_type": "execute_result"
    }
   ],
   "source": [
    "len(lbgs[idx])"
   ]
  },
  {
   "cell_type": "code",
   "execution_count": 139,
   "metadata": {},
   "outputs": [
    {
     "data": {
      "text/plain": [
       "0.05368647100930565"
      ]
     },
     "execution_count": 139,
     "metadata": {},
     "output_type": "execute_result"
    }
   ],
   "source": [
    "np.mean(lbgs[idx]['Z_BC03'] < 0.1)"
   ]
  },
  {
   "cell_type": "code",
   "execution_count": 140,
   "metadata": {},
   "outputs": [],
   "source": [
    "assigned_lbgs = lbgs[idx]"
   ]
  },
  {
   "cell_type": "code",
   "execution_count": 141,
   "metadata": {},
   "outputs": [
    {
     "data": {
      "text/html": [
       "<i>Table length=1397</i>\n",
       "<table id=\"table46913280169344\" class=\"table-striped table-bordered table-condensed\">\n",
       "<thead><tr><th>ID</th><th>RA</th><th>DEC</th><th>MASK</th><th>FLAG_FIELD</th><th>FLAG_FIELD_BINARY [7]</th><th>EB_V</th><th>FUV_err</th><th>NUV_err</th><th>MAG_ABS_FUV</th><th>MAG_ABS_NUV</th><th>MAG_ABS_u</th><th>MAG_ABS_uS</th><th>MAG_ABS_g</th><th>MAG_ABS_r</th><th>MAG_ABS_i</th><th>MAG_ABS_z</th><th>MAG_ABS_y</th><th>MAG_ABS_Yv</th><th>MAG_ABS_J</th><th>MAG_ABS_H</th><th>MAG_ABS_Ks</th><th>Z_SPEC</th><th>Z_BEST</th><th>NBAND_USED</th><th>CHI_BEST</th><th>CHI_STAR</th><th>CHI_QSO</th><th>MOD_BEST</th><th>MOD_STAR</th><th>MOD_QSO</th><th>Z_ML</th><th>Z_ML68_LOW</th><th>Z_ML68_HIGH</th><th>Z_SEC</th><th>Z_QSO</th><th>Z_BC03</th><th>ZPHOT</th><th>MOD_BEST_BC03</th><th>PRIORITY</th><th>TILEID</th><th>SAMPLE</th><th>TARGETID</th><th>SUBPRIORITY</th><th>PMRA</th><th>PMDEC</th><th>REF_EPOCH</th><th>OVERRIDE</th><th>U</th><th>U_ERR</th><th>US</th><th>US_ERR</th><th>G</th><th>G_ERR</th><th>R</th><th>R_ERR</th><th>I</th><th>I_ERR</th><th>Z</th><th>Z_ERR</th><th>Y</th><th>Y_ERR</th><th>YV</th><th>YV_ERR</th><th>J_ERR</th><th>H_ERR</th><th>KS</th><th>KS_ERR</th></tr></thead>\n",
       "<thead><tr><th>int64</th><th>float64</th><th>float64</th><th>int16</th><th>int16</th><th>bool</th><th>float64</th><th>float64</th><th>float64</th><th>float64</th><th>float64</th><th>float64</th><th>float64</th><th>float64</th><th>float64</th><th>float64</th><th>float64</th><th>float64</th><th>float64</th><th>float64</th><th>float64</th><th>float64</th><th>float64</th><th>float64</th><th>int64</th><th>float64</th><th>float64</th><th>float64</th><th>int64</th><th>int64</th><th>int64</th><th>float64</th><th>float64</th><th>float64</th><th>float64</th><th>float64</th><th>float64</th><th>float64</th><th>int64</th><th>int64</th><th>int32</th><th>bytes9</th><th>int64</th><th>float64</th><th>float32</th><th>float32</th><th>float32</th><th>bool</th><th>float64</th><th>float64</th><th>float64</th><th>float64</th><th>float64</th><th>float64</th><th>float64</th><th>float64</th><th>float64</th><th>float64</th><th>float64</th><th>float64</th><th>float64</th><th>float64</th><th>float64</th><th>float64</th><th>float64</th><th>float64</th><th>float64</th><th>float64</th></tr></thead>\n",
       "<tr><td>1626577</td><td>150.20333965943462</td><td>1.1670676432513534</td><td>0</td><td>7</td><td>True .. False</td><td>0.016667136073555272</td><td>-99.0</td><td>-99.0</td><td>-18.473</td><td>-18.73</td><td>-19.199</td><td>-19.406</td><td>-19.732</td><td>-19.622</td><td>-19.724</td><td>-19.837</td><td>-19.905</td><td>-19.924</td><td>-19.934</td><td>-20.035</td><td>-19.793</td><td>-99.0</td><td>0.8163</td><td>11</td><td>4.57988</td><td>60.3342</td><td>3.34039</td><td>31</td><td>61</td><td>28</td><td>0.8148</td><td>0.7623</td><td>0.8775</td><td>-99.0</td><td>0.08</td><td>0.8148</td><td>0.8148</td><td>3</td><td>8000</td><td>2068</td><td>CLAUDS-U</td><td>974</td><td>0.3179086897094785</td><td>0.0</td><td>0.0</td><td>0.0</td><td>False</td><td>26.972</td><td>1000.0</td><td>24.271</td><td>0.097</td><td>23.964</td><td>0.027</td><td>23.856</td><td>0.045</td><td>23.207</td><td>0.029</td><td>23.133</td><td>0.042</td><td>23.366</td><td>0.139</td><td>-99.02</td><td>1000.0</td><td>1000.0</td><td>1000.0</td><td>-99.006</td><td>1000.0</td></tr>\n",
       "<tr><td>1773782</td><td>149.84749220517747</td><td>1.0345852595890423</td><td>0</td><td>7</td><td>True .. False</td><td>0.020885814870131504</td><td>-99.0</td><td>-99.0</td><td>-21.536</td><td>-21.998</td><td>-22.512</td><td>-22.608</td><td>-22.913</td><td>-23.114</td><td>-23.36</td><td>-23.588</td><td>-23.702</td><td>-23.751</td><td>-23.878</td><td>-24.105</td><td>-23.947</td><td>-99.0</td><td>2.7382</td><td>11</td><td>2.02179</td><td>4.52704</td><td>2.90904</td><td>29</td><td>84</td><td>30</td><td>2.7584</td><td>2.6</td><td>2.8752</td><td>0.08</td><td>2.98</td><td>2.7584</td><td>2.7584</td><td>11</td><td>6000</td><td>2068</td><td>CLAUDS-U</td><td>1845</td><td>0.6718347495840757</td><td>0.0</td><td>0.0</td><td>0.0</td><td>False</td><td>25.905</td><td>0.159</td><td>25.018</td><td>0.227</td><td>24.153</td><td>0.045</td><td>23.709</td><td>0.045</td><td>23.449</td><td>0.046</td><td>23.311</td><td>0.061</td><td>23.207</td><td>0.13</td><td>-99.025</td><td>1000.0</td><td>1000.0</td><td>1000.0</td><td>-99.008</td><td>1000.0</td></tr>\n",
       "<tr><td>1784992</td><td>149.90261978234753</td><td>1.1499335152386176</td><td>0</td><td>7</td><td>True .. False</td><td>0.01864022141548257</td><td>-99.0</td><td>-99.0</td><td>-21.001</td><td>-20.816</td><td>-20.752</td><td>-20.858</td><td>-21.042</td><td>-20.992</td><td>-21.0</td><td>-21.069</td><td>-21.114</td><td>-21.126</td><td>-21.1</td><td>-21.158</td><td>-20.879</td><td>-99.0</td><td>2.3693</td><td>11</td><td>2.18259</td><td>2.75779</td><td>15.9973</td><td>33</td><td>244</td><td>28</td><td>2.4695</td><td>2.3629</td><td>2.576</td><td>0.04</td><td>0.72</td><td>2.4695</td><td>2.4695</td><td>1</td><td>2000</td><td>2068</td><td>CLAUDS-BX</td><td>13248</td><td>0.954225043522503</td><td>0.0</td><td>0.0</td><td>0.0</td><td>False</td><td>24.758</td><td>0.022</td><td>24.673</td><td>0.066</td><td>24.226</td><td>0.017</td><td>24.213</td><td>0.025</td><td>24.323</td><td>0.035</td><td>24.209</td><td>0.049</td><td>24.551</td><td>0.16</td><td>-99.023</td><td>1000.0</td><td>1000.0</td><td>1000.0</td><td>-99.007</td><td>1000.0</td></tr>\n",
       "<tr><td>1700336</td><td>150.0806009679944</td><td>1.2277486590696205</td><td>0</td><td>6</td><td>False .. False</td><td>0.017570328467251768</td><td>-99.0</td><td>-99.0</td><td>-20.748</td><td>-21.128</td><td>-21.597</td><td>-21.716</td><td>-22.077</td><td>-22.276</td><td>-22.453</td><td>-22.609</td><td>-22.691</td><td>-22.715</td><td>-22.802</td><td>-22.922</td><td>-22.688</td><td>-99.0</td><td>0.122</td><td>11</td><td>3.69916</td><td>5.73622</td><td>4.31181</td><td>27</td><td>60</td><td>1</td><td>2.292</td><td>0.0849</td><td>2.5845</td><td>2.46</td><td>0.06</td><td>2.292</td><td>2.292</td><td>7</td><td>4000</td><td>2068</td><td>CLAUDS-BX</td><td>12127</td><td>0.6314747428998438</td><td>0.0</td><td>0.0</td><td>0.0</td><td>False</td><td>25.246</td><td>0.101</td><td>26.491</td><td>0.809</td><td>24.362</td><td>0.036</td><td>24.063</td><td>0.057</td><td>23.869</td><td>0.052</td><td>23.753</td><td>0.08</td><td>23.984</td><td>0.244</td><td>-99.021</td><td>1000.0</td><td>1000.0</td><td>1000.0</td><td>-99.006</td><td>1000.0</td></tr>\n",
       "<tr><td>1697057</td><td>150.03164175835445</td><td>1.1689124113546283</td><td>0</td><td>5</td><td>True .. False</td><td>0.016727991802781703</td><td>-99.0</td><td>-99.0</td><td>-21.03</td><td>-21.37</td><td>-22.233</td><td>-22.479</td><td>-23.018</td><td>-23.105</td><td>-23.156</td><td>-23.23</td><td>-23.288</td><td>-23.297</td><td>-23.274</td><td>-23.349</td><td>-23.101</td><td>-99.0</td><td>3.3417</td><td>11</td><td>2.84123</td><td>5.53669</td><td>2.22774</td><td>18</td><td>90</td><td>5</td><td>3.6659</td><td>3.3994</td><td>3.919</td><td>0.36</td><td>3.12</td><td>3.6659</td><td>3.6659</td><td>1</td><td>9000</td><td>2068</td><td>CLAUDS-G</td><td>14606</td><td>0.014389112316248842</td><td>0.0</td><td>0.0</td><td>0.0</td><td>False</td><td>30.784</td><td>1000.0</td><td>30.886</td><td>12.047</td><td>26.42</td><td>0.096</td><td>25.067</td><td>0.054</td><td>24.763</td><td>0.05</td><td>24.521</td><td>0.061</td><td>25.106</td><td>0.283</td><td>-99.02</td><td>1000.0</td><td>1000.0</td><td>1000.0</td><td>-99.006</td><td>1000.0</td></tr>\n",
       "<tr><td>1700294</td><td>150.04563697596413</td><td>1.2289455862310878</td><td>0</td><td>7</td><td>True .. False</td><td>0.017130808096846507</td><td>-99.0</td><td>-99.0</td><td>-21.24</td><td>-21.608</td><td>-21.939</td><td>-22.019</td><td>-22.274</td><td>-22.416</td><td>-22.553</td><td>-22.683</td><td>-22.747</td><td>-22.764</td><td>-22.823</td><td>-22.905</td><td>-22.665</td><td>-99.0</td><td>2.6888</td><td>11</td><td>0.836048</td><td>3.537</td><td>0.661289</td><td>27</td><td>57</td><td>29</td><td>2.6818</td><td>2.5916</td><td>2.759</td><td>0.1</td><td>2.7</td><td>2.6818</td><td>2.6818</td><td>10</td><td>5000</td><td>2068</td><td>CLAUDS-BX</td><td>10038</td><td>0.1453789973828502</td><td>0.0</td><td>0.0</td><td>0.0</td><td>False</td><td>25.692</td><td>0.092</td><td>25.482</td><td>0.194</td><td>24.383</td><td>0.022</td><td>23.908</td><td>0.026</td><td>23.845</td><td>0.029</td><td>23.646</td><td>0.041</td><td>23.626</td><td>0.096</td><td>-99.021</td><td>1000.0</td><td>1000.0</td><td>1000.0</td><td>-99.006</td><td>1000.0</td></tr>\n",
       "<tr><td>1688364</td><td>150.01518443145454</td><td>1.097800252540322</td><td>0</td><td>5</td><td>True .. False</td><td>0.018350221016752936</td><td>-99.0</td><td>-99.0</td><td>-20.328</td><td>-20.763</td><td>-21.365</td><td>-21.529</td><td>-21.956</td><td>-22.127</td><td>-22.277</td><td>-22.398</td><td>-22.454</td><td>-22.462</td><td>-22.459</td><td>-22.541</td><td>-22.297</td><td>-99.0</td><td>3.4702</td><td>9</td><td>0.013773</td><td>0.475247</td><td>0.0245879</td><td>21</td><td>96</td><td>23</td><td>3.5796</td><td>0.4931</td><td>3.995</td><td>0.36</td><td>3.48</td><td>3.5796</td><td>3.5796</td><td>5</td><td>5000</td><td>2068</td><td>CLAUDS-G</td><td>18681</td><td>0.18602107329011353</td><td>0.0</td><td>0.0</td><td>0.0</td><td>False</td><td>-99.088</td><td>-99.0</td><td>-99.086</td><td>-99.0</td><td>27.2</td><td>0.257</td><td>25.73</td><td>0.102</td><td>25.345</td><td>0.094</td><td>25.185</td><td>0.121</td><td>25.173</td><td>0.296</td><td>-99.022</td><td>1000.0</td><td>1000.0</td><td>1000.0</td><td>-99.007</td><td>1000.0</td></tr>\n",
       "<tr><td>1695664</td><td>149.91615107599645</td><td>1.1854004183941942</td><td>0</td><td>7</td><td>True .. False</td><td>0.018082607521284922</td><td>-99.0</td><td>-99.0</td><td>-21.52</td><td>-21.844</td><td>-22.348</td><td>-22.471</td><td>-22.849</td><td>-23.055</td><td>-23.238</td><td>-23.399</td><td>-23.483</td><td>-23.506</td><td>-23.585</td><td>-23.712</td><td>-23.496</td><td>-99.0</td><td>3.2563</td><td>11</td><td>2.98734</td><td>4.61526</td><td>1.25832</td><td>26</td><td>228</td><td>4</td><td>3.2614</td><td>3.1702</td><td>3.3545</td><td>-99.0</td><td>3.1</td><td>3.2614</td><td>3.2614</td><td>10</td><td>4000</td><td>2068</td><td>CLAUDS-U</td><td>3269</td><td>0.09611025066914458</td><td>0.0</td><td>0.0</td><td>0.0</td><td>False</td><td>28.249</td><td>0.501</td><td>28.165</td><td>1.456</td><td>25.185</td><td>0.034</td><td>24.199</td><td>0.021</td><td>23.896</td><td>0.02</td><td>23.789</td><td>0.029</td><td>23.834</td><td>0.071</td><td>-99.022</td><td>1000.0</td><td>1000.0</td><td>1000.0</td><td>-99.007</td><td>1000.0</td></tr>\n",
       "<tr><td>1691492</td><td>149.98224924817288</td><td>1.1340482686605606</td><td>0</td><td>7</td><td>True .. False</td><td>0.017949506684805352</td><td>-99.0</td><td>-99.0</td><td>-20.229</td><td>-20.862</td><td>-22.555</td><td>-22.845</td><td>-23.955</td><td>-24.73</td><td>-25.267</td><td>-25.629</td><td>-25.836</td><td>-25.913</td><td>-26.164</td><td>-26.528</td><td>-26.443</td><td>-99.0</td><td>2.1847</td><td>11</td><td>2.46456</td><td>56.2507</td><td>2.60991</td><td>18</td><td>68</td><td>6</td><td>2.2287</td><td>2.1449</td><td>2.3012</td><td>-99.0</td><td>2.22</td><td>2.2287</td><td>2.2287</td><td>3</td><td>9000</td><td>2068</td><td>CLAUDS-BX</td><td>5996</td><td>0.27403928263211774</td><td>0.0</td><td>0.0</td><td>0.0</td><td>False</td><td>26.171</td><td>0.093</td><td>25.745</td><td>0.167</td><td>24.824</td><td>0.038</td><td>24.393</td><td>0.039</td><td>24.061</td><td>0.037</td><td>23.592</td><td>0.038</td><td>23.237</td><td>0.065</td><td>-99.022</td><td>1000.0</td><td>1000.0</td><td>1000.0</td><td>-99.007</td><td>1000.0</td></tr>\n",
       "<tr><td>1789721</td><td>149.87018797373557</td><td>1.1922644034398078</td><td>0</td><td>7</td><td>True .. False</td><td>0.019537480506898203</td><td>-99.0</td><td>-99.0</td><td>-20.964</td><td>-21.09</td><td>-21.171</td><td>-21.302</td><td>-21.611</td><td>-21.662</td><td>-21.723</td><td>-21.807</td><td>-21.845</td><td>-21.846</td><td>-21.819</td><td>-21.873</td><td>-21.619</td><td>-99.0</td><td>0.0916</td><td>11</td><td>1.08484</td><td>12.9655</td><td>1.76631</td><td>32</td><td>244</td><td>28</td><td>2.1909</td><td>0.087</td><td>2.4311</td><td>2.54</td><td>0.64</td><td>2.1909</td><td>2.1909</td><td>5</td><td>8000</td><td>16917</td><td>CLAUDS-BX</td><td>6450</td><td>0.5167157467515913</td><td>0.0</td><td>0.0</td><td>0.0</td><td>False</td><td>24.406</td><td>0.034</td><td>24.281</td><td>0.094</td><td>23.983</td><td>0.026</td><td>24.018</td><td>0.042</td><td>23.849</td><td>0.044</td><td>23.992</td><td>0.081</td><td>24.008</td><td>0.197</td><td>-99.024</td><td>1000.0</td><td>1000.0</td><td>1000.0</td><td>-99.007</td><td>1000.0</td></tr>\n",
       "<tr><td>...</td><td>...</td><td>...</td><td>...</td><td>...</td><td>...</td><td>...</td><td>...</td><td>...</td><td>...</td><td>...</td><td>...</td><td>...</td><td>...</td><td>...</td><td>...</td><td>...</td><td>...</td><td>...</td><td>...</td><td>...</td><td>...</td><td>...</td><td>...</td><td>...</td><td>...</td><td>...</td><td>...</td><td>...</td><td>...</td><td>...</td><td>...</td><td>...</td><td>...</td><td>...</td><td>...</td><td>...</td><td>...</td><td>...</td><td>...</td><td>...</td><td>...</td><td>...</td><td>...</td><td>...</td><td>...</td><td>...</td><td>...</td><td>...</td><td>...</td><td>...</td><td>...</td><td>...</td><td>...</td><td>...</td><td>...</td><td>...</td><td>...</td><td>...</td><td>...</td><td>...</td><td>...</td><td>...</td><td>...</td><td>...</td><td>...</td><td>...</td><td>...</td></tr>\n",
       "<tr><td>2689897</td><td>150.5992479587699</td><td>1.1879039414114172</td><td>0</td><td>7</td><td>True .. False</td><td>0.02077902291985307</td><td>-99.0</td><td>-99.0</td><td>-20.346</td><td>-20.746</td><td>-21.338</td><td>-21.485</td><td>-21.932</td><td>-22.168</td><td>-22.373</td><td>-22.548</td><td>-22.637</td><td>-22.66</td><td>-22.734</td><td>-22.878</td><td>-22.687</td><td>-99.0</td><td>2.1612</td><td>11</td><td>4.39457</td><td>43.3033</td><td>3.74379</td><td>32</td><td>53</td><td>27</td><td>2.1889</td><td>2.0431</td><td>2.2718</td><td>0.06</td><td>2.3</td><td>2.1889</td><td>2.1889</td><td>5</td><td>10000</td><td>2068</td><td>CLAUDS-BX</td><td>4369</td><td>0.2605909762584321</td><td>0.0</td><td>0.0</td><td>0.0</td><td>False</td><td>25.435</td><td>0.037</td><td>25.094</td><td>0.094</td><td>24.626</td><td>0.019</td><td>24.391</td><td>0.025</td><td>24.144</td><td>0.025</td><td>23.933</td><td>0.032</td><td>23.965</td><td>0.082</td><td>-99.025</td><td>1000.0</td><td>1000.0</td><td>1000.0</td><td>-99.008</td><td>1000.0</td></tr>\n",
       "<tr><td>2699327</td><td>150.59797287792586</td><td>1.2576531508870985</td><td>0</td><td>7</td><td>True .. False</td><td>0.02133980978685171</td><td>-99.0</td><td>-99.0</td><td>-20.514</td><td>-20.822</td><td>-20.974</td><td>-21.073</td><td>-21.379</td><td>-21.552</td><td>-21.714</td><td>-21.861</td><td>-21.937</td><td>-21.958</td><td>-22.038</td><td>-22.147</td><td>-21.912</td><td>-99.0</td><td>2.4199</td><td>11</td><td>2.99393</td><td>8.93276</td><td>5.06644</td><td>33</td><td>53</td><td>28</td><td>2.3377</td><td>0.0606</td><td>2.5162</td><td>0.06</td><td>0.74</td><td>2.3377</td><td>2.3377</td><td>10</td><td>9000</td><td>2068</td><td>CLAUDS-BX</td><td>6105</td><td>0.46078645464222956</td><td>0.0</td><td>0.0</td><td>0.0</td><td>False</td><td>25.586</td><td>0.037</td><td>25.522</td><td>0.138</td><td>24.655</td><td>0.019</td><td>24.357</td><td>0.024</td><td>24.219</td><td>0.025</td><td>24.049</td><td>0.036</td><td>24.345</td><td>0.125</td><td>-99.026</td><td>1000.0</td><td>1000.0</td><td>1000.0</td><td>-99.008</td><td>1000.0</td></tr>\n",
       "<tr><td>2693034</td><td>150.54194677548296</td><td>1.191933142613261</td><td>0</td><td>7</td><td>True .. False</td><td>0.020689006672871307</td><td>-99.0</td><td>-99.0</td><td>-21.888</td><td>-22.143</td><td>-23.012</td><td>-23.217</td><td>-23.913</td><td>-24.326</td><td>-24.626</td><td>-24.85</td><td>-24.979</td><td>-25.025</td><td>-25.149</td><td>-25.38</td><td>-25.215</td><td>-99.0</td><td>2.2474</td><td>11</td><td>1.20229</td><td>40.4985</td><td>1.54305</td><td>28</td><td>49</td><td>21</td><td>2.2376</td><td>2.1887</td><td>2.2768</td><td>-99.0</td><td>2.32</td><td>2.2376</td><td>2.2376</td><td>11</td><td>7000</td><td>2068</td><td>CLAUDS-BX</td><td>7139</td><td>0.7216394069321259</td><td>0.0</td><td>0.0</td><td>0.0</td><td>False</td><td>23.894</td><td>0.041</td><td>23.833</td><td>0.114</td><td>23.134</td><td>0.02</td><td>22.901</td><td>0.025</td><td>22.815</td><td>0.028</td><td>22.469</td><td>0.032</td><td>22.45</td><td>0.078</td><td>-99.025</td><td>1000.0</td><td>1000.0</td><td>1000.0</td><td>-99.008</td><td>1000.0</td></tr>\n",
       "<tr><td>2632001</td><td>150.64754481116464</td><td>1.4492444362561032</td><td>0</td><td>7</td><td>True .. False</td><td>0.021949047114126846</td><td>0.067</td><td>0.071</td><td>-14.644</td><td>-14.98</td><td>-15.774</td><td>-16.005</td><td>-16.621</td><td>-16.805</td><td>-16.97</td><td>-17.026</td><td>-17.088</td><td>-17.104</td><td>-17.115</td><td>-17.232</td><td>-16.995</td><td>-99.0</td><td>0.0889</td><td>13</td><td>15.7733</td><td>173.125</td><td>102.303</td><td>2</td><td>59</td><td>1</td><td>0.0852</td><td>0.0687</td><td>0.0988</td><td>-99.0</td><td>0.06</td><td>0.0852</td><td>0.0852</td><td>2</td><td>10000</td><td>2068</td><td>CLAUDS-BX</td><td>4555</td><td>0.10408506616698043</td><td>0.0</td><td>0.0</td><td>0.0</td><td>False</td><td>22.488</td><td>0.005</td><td>22.391</td><td>0.006</td><td>21.376</td><td>0.002</td><td>21.089</td><td>0.002</td><td>20.925</td><td>0.002</td><td>20.822</td><td>0.003</td><td>20.841</td><td>0.006</td><td>-99.027</td><td>1000.0</td><td>1000.0</td><td>1000.0</td><td>-99.008</td><td>1000.0</td></tr>\n",
       "<tr><td>2697758</td><td>150.5433591989951</td><td>1.2403520654476266</td><td>0</td><td>7</td><td>True .. False</td><td>0.020550089679753497</td><td>-99.0</td><td>-99.0</td><td>-20.753</td><td>-21.011</td><td>-21.446</td><td>-21.527</td><td>-21.782</td><td>-21.925</td><td>-22.062</td><td>-22.192</td><td>-22.257</td><td>-22.274</td><td>-22.333</td><td>-22.417</td><td>-22.177</td><td>-99.0</td><td>2.4845</td><td>11</td><td>0.172473</td><td>2.07909</td><td>0.398614</td><td>30</td><td>53</td><td>28</td><td>2.4626</td><td>0.1064</td><td>2.6413</td><td>0.08</td><td>2.74</td><td>2.4626</td><td>2.4626</td><td>9</td><td>5000</td><td>2068</td><td>CLAUDS-BX</td><td>10418</td><td>0.43697637093389086</td><td>0.0</td><td>0.0</td><td>0.0</td><td>False</td><td>25.615</td><td>0.091</td><td>25.602</td><td>0.291</td><td>24.579</td><td>0.036</td><td>24.31</td><td>0.051</td><td>24.148</td><td>0.05</td><td>24.017</td><td>0.069</td><td>23.935</td><td>0.168</td><td>-99.025</td><td>1000.0</td><td>1000.0</td><td>1000.0</td><td>-99.008</td><td>1000.0</td></tr>\n",
       "<tr><td>2617670</td><td>150.75192694927892</td><td>1.3232632797375476</td><td>0</td><td>7</td><td>True .. False</td><td>0.023086730868908834</td><td>-99.0</td><td>-99.0</td><td>-9.56</td><td>-12.908</td><td>-15.968</td><td>-16.261</td><td>-17.085</td><td>-17.755</td><td>-17.974</td><td>-18.172</td><td>-18.284</td><td>-18.322</td><td>-18.395</td><td>-18.567</td><td>-18.321</td><td>-99.0</td><td>2.6905</td><td>11</td><td>13.5849</td><td>1.84586</td><td>5.56536</td><td>26</td><td>108</td><td>1</td><td>0.3827</td><td>0.3068</td><td>0.446</td><td>0.4</td><td>3.38</td><td>0.3827</td><td>0.3827</td><td>1</td><td>2000</td><td>2068</td><td>CLAUDS-U</td><td>3926</td><td>0.6891345080129622</td><td>0.0</td><td>0.0</td><td>0.0</td><td>False</td><td>28.97</td><td>0.946</td><td>27.938</td><td>0.817</td><td>25.488</td><td>0.038</td><td>24.318</td><td>0.021</td><td>23.708</td><td>0.015</td><td>23.373</td><td>0.016</td><td>23.376</td><td>0.04</td><td>-99.028</td><td>1000.0</td><td>1000.0</td><td>1000.0</td><td>-99.008</td><td>1000.0</td></tr>\n",
       "<tr><td>2610117</td><td>150.68394326644045</td><td>1.2512937483448443</td><td>0</td><td>7</td><td>True .. False</td><td>0.022164209089781246</td><td>-99.0</td><td>-99.0</td><td>-21.229</td><td>-21.389</td><td>-22.278</td><td>-22.502</td><td>-22.986</td><td>-23.053</td><td>-23.095</td><td>-23.167</td><td>-23.223</td><td>-23.232</td><td>-23.208</td><td>-23.279</td><td>-23.026</td><td>-99.0</td><td>2.6622</td><td>11</td><td>1.77124</td><td>3.9154</td><td>2.5727</td><td>26</td><td>49</td><td>1</td><td>2.5596</td><td>0.143</td><td>2.6539</td><td>0.02</td><td>0.04</td><td>2.5596</td><td>2.5596</td><td>1</td><td>6000</td><td>2068</td><td>CLAUDS-BX</td><td>8452</td><td>0.7577728262747813</td><td>0.0</td><td>0.0</td><td>0.0</td><td>False</td><td>25.093</td><td>0.042</td><td>24.948</td><td>0.14</td><td>24.214</td><td>0.022</td><td>23.927</td><td>0.027</td><td>23.861</td><td>0.031</td><td>23.85</td><td>0.049</td><td>23.603</td><td>0.102</td><td>-99.027</td><td>1000.0</td><td>1000.0</td><td>1000.0</td><td>-99.008</td><td>1000.0</td></tr>\n",
       "<tr><td>2701962</td><td>150.5692316031406</td><td>1.2841182728267315</td><td>0</td><td>7</td><td>True .. False</td><td>0.020926391751589904</td><td>-99.0</td><td>-99.0</td><td>-21.045</td><td>-21.054</td><td>-22.013</td><td>-22.228</td><td>-22.989</td><td>-23.384</td><td>-23.616</td><td>-23.797</td><td>-23.904</td><td>-23.939</td><td>-24.0</td><td>-24.164</td><td>-23.92</td><td>-99.0</td><td>2.1968</td><td>11</td><td>8.79494</td><td>99.3387</td><td>2.90709</td><td>22</td><td>248</td><td>28</td><td>2.117</td><td>2.0125</td><td>2.2015</td><td>-99.0</td><td>0.44</td><td>2.117</td><td>2.117</td><td>3</td><td>8000</td><td>2068</td><td>CLAUDS-BX</td><td>6502</td><td>0.41183309364997966</td><td>0.0</td><td>0.0</td><td>0.0</td><td>False</td><td>24.03</td><td>0.014</td><td>24.02</td><td>0.052</td><td>23.822</td><td>0.014</td><td>23.851</td><td>0.022</td><td>23.835</td><td>0.029</td><td>23.715</td><td>0.04</td><td>23.274</td><td>0.07</td><td>-99.025</td><td>1000.0</td><td>1000.0</td><td>1000.0</td><td>-99.008</td><td>1000.0</td></tr>\n",
       "<tr><td>2692640</td><td>150.49862000005686</td><td>1.2099453964710831</td><td>0</td><td>7</td><td>True .. False</td><td>0.020375746308051407</td><td>-99.0</td><td>-99.0</td><td>-9.304</td><td>-12.651</td><td>-15.711</td><td>-16.005</td><td>-16.917</td><td>-17.539</td><td>-17.784</td><td>-17.981</td><td>-18.093</td><td>-18.131</td><td>-18.204</td><td>-18.376</td><td>-18.13</td><td>-99.0</td><td>3.2502</td><td>11</td><td>11.0488</td><td>3.57723</td><td>3.87701</td><td>33</td><td>110</td><td>4</td><td>0.3463</td><td>0.2744</td><td>3.2379</td><td>0.32</td><td>2.96</td><td>0.3463</td><td>0.3463</td><td>1</td><td>3000</td><td>2068</td><td>CLAUDS-U</td><td>3679</td><td>0.4085692524357174</td><td>0.0</td><td>0.0</td><td>0.0</td><td>False</td><td>28.719</td><td>0.705</td><td>27.533</td><td>1.159</td><td>25.351</td><td>0.034</td><td>24.169</td><td>0.019</td><td>23.621</td><td>0.014</td><td>23.323</td><td>0.016</td><td>23.304</td><td>0.043</td><td>-99.025</td><td>1000.0</td><td>1000.0</td><td>1000.0</td><td>-99.007</td><td>1000.0</td></tr>\n",
       "<tr><td>2624385</td><td>150.77124983376132</td><td>1.3756248044425663</td><td>0</td><td>7</td><td>True .. False</td><td>0.0234008826072979</td><td>-99.0</td><td>-99.0</td><td>-20.722</td><td>-20.712</td><td>-21.203</td><td>-21.384</td><td>-21.919</td><td>-22.139</td><td>-22.282</td><td>-22.392</td><td>-22.439</td><td>-22.448</td><td>-22.455</td><td>-22.559</td><td>-22.29</td><td>-99.0</td><td>2.2516</td><td>11</td><td>3.18075</td><td>94.587</td><td>12.2126</td><td>25</td><td>19</td><td>28</td><td>2.1064</td><td>1.9721</td><td>2.2071</td><td>-99.0</td><td>0.44</td><td>2.1064</td><td>2.1064</td><td>9</td><td>1000</td><td>2068</td><td>CLAUDS-BX</td><td>13793</td><td>0.8792095645567997</td><td>0.0</td><td>0.0</td><td>0.0</td><td>False</td><td>24.241</td><td>0.012</td><td>24.238</td><td>0.019</td><td>24.142</td><td>0.013</td><td>24.188</td><td>0.022</td><td>24.178</td><td>0.026</td><td>24.184</td><td>0.043</td><td>24.006</td><td>0.088</td><td>-99.028</td><td>1000.0</td><td>1000.0</td><td>1000.0</td><td>-99.009</td><td>1000.0</td></tr>\n",
       "</table>"
      ],
      "text/plain": [
       "<Table length=1397>\n",
       "   ID           RA                DEC          MASK ...  H_ERR     KS    KS_ERR\n",
       " int64       float64            float64       int16 ... float64 float64 float64\n",
       "------- ------------------ ------------------ ----- ... ------- ------- -------\n",
       "1626577 150.20333965943462 1.1670676432513534     0 ...  1000.0 -99.006  1000.0\n",
       "1773782 149.84749220517747 1.0345852595890423     0 ...  1000.0 -99.008  1000.0\n",
       "1784992 149.90261978234753 1.1499335152386176     0 ...  1000.0 -99.007  1000.0\n",
       "1700336  150.0806009679944 1.2277486590696205     0 ...  1000.0 -99.006  1000.0\n",
       "1697057 150.03164175835445 1.1689124113546283     0 ...  1000.0 -99.006  1000.0\n",
       "1700294 150.04563697596413 1.2289455862310878     0 ...  1000.0 -99.006  1000.0\n",
       "1688364 150.01518443145454  1.097800252540322     0 ...  1000.0 -99.007  1000.0\n",
       "1695664 149.91615107599645 1.1854004183941942     0 ...  1000.0 -99.007  1000.0\n",
       "1691492 149.98224924817288 1.1340482686605606     0 ...  1000.0 -99.007  1000.0\n",
       "1789721 149.87018797373557 1.1922644034398078     0 ...  1000.0 -99.007  1000.0\n",
       "    ...                ...                ...   ... ...     ...     ...     ...\n",
       "2689897  150.5992479587699 1.1879039414114172     0 ...  1000.0 -99.008  1000.0\n",
       "2699327 150.59797287792586 1.2576531508870985     0 ...  1000.0 -99.008  1000.0\n",
       "2693034 150.54194677548296  1.191933142613261     0 ...  1000.0 -99.008  1000.0\n",
       "2632001 150.64754481116464 1.4492444362561032     0 ...  1000.0 -99.008  1000.0\n",
       "2697758  150.5433591989951 1.2403520654476266     0 ...  1000.0 -99.008  1000.0\n",
       "2617670 150.75192694927892 1.3232632797375476     0 ...  1000.0 -99.008  1000.0\n",
       "2610117 150.68394326644045 1.2512937483448443     0 ...  1000.0 -99.008  1000.0\n",
       "2701962  150.5692316031406 1.2841182728267315     0 ...  1000.0 -99.008  1000.0\n",
       "2692640 150.49862000005686 1.2099453964710831     0 ...  1000.0 -99.007  1000.0\n",
       "2624385 150.77124983376132 1.3756248044425663     0 ...  1000.0 -99.009  1000.0"
      ]
     },
     "execution_count": 141,
     "metadata": {},
     "output_type": "execute_result"
    }
   ],
   "source": [
    "assigned_lbgs"
   ]
  },
  {
   "cell_type": "code",
   "execution_count": 142,
   "metadata": {},
   "outputs": [
    {
     "data": {
      "text/plain": [
       "array([2.3161, 2.0206, 2.9195, ..., 2.754 , 3.0335, 2.1015])"
      ]
     },
     "execution_count": 142,
     "metadata": {},
     "output_type": "execute_result"
    }
   ],
   "source": [
    "assigned_tmgs['PHOTO_Z'].data"
   ]
  },
  {
   "cell_type": "code",
   "execution_count": 143,
   "metadata": {},
   "outputs": [
    {
     "data": {
      "text/plain": [
       "array([0.8148, 2.7584, 2.4695, ..., 2.117 , 0.3463, 2.1064])"
      ]
     },
     "execution_count": 143,
     "metadata": {},
     "output_type": "execute_result"
    }
   ],
   "source": [
    "assigned_lbgs['Z_BC03'].data"
   ]
  },
  {
   "cell_type": "code",
   "execution_count": 144,
   "metadata": {},
   "outputs": [],
   "source": [
    "all_drops = np.concatenate((assigned_tmgs['PHOTO_Z'].data, assigned_lbgs['Z_BC03'].data))"
   ]
  },
  {
   "cell_type": "code",
   "execution_count": 146,
   "metadata": {},
   "outputs": [
    {
     "data": {
      "text/plain": [
       "(array([121.,  79.,  24.,  24.,  27.,  13.,   7.,  11.,   3.,   3.,   6.,\n",
       "          1.,   4.,  10.,   7.,  15.,   8.,   7.,  31.,  51.,  82., 132.,\n",
       "        176., 216., 171., 164., 143., 203., 204., 225., 194., 175., 141.,\n",
       "        132., 126., 105.,  74.,  67.,  65.,  38.,  32.,  13.,  26.,  14.,\n",
       "          2.,   1.,   1.,   0.,   0.]),\n",
       " array([0. , 0.1, 0.2, 0.3, 0.4, 0.5, 0.6, 0.7, 0.8, 0.9, 1. , 1.1, 1.2,\n",
       "        1.3, 1.4, 1.5, 1.6, 1.7, 1.8, 1.9, 2. , 2.1, 2.2, 2.3, 2.4, 2.5,\n",
       "        2.6, 2.7, 2.8, 2.9, 3. , 3.1, 3.2, 3.3, 3.4, 3.5, 3.6, 3.7, 3.8,\n",
       "        3.9, 4. , 4.1, 4.2, 4.3, 4.4, 4.5, 4.6, 4.7, 4.8, 4.9]),\n",
       " <a list of 1 Patch objects>)"
      ]
     },
     "execution_count": 146,
     "metadata": {},
     "output_type": "execute_result"
    },
    {
     "data": {
      "image/png": "[encoded data removed]",
      "text/plain": [
       "<Figure size 432x288 with 1 Axes>"
      ]
     },
     "metadata": {
      "needs_background": "light"
     },
     "output_type": "display_data"
    }
   ],
   "source": [
    "pl.hist(all_drops, bins=np.arange(0.0, 5.0, 0.1), histtype='step')"
   ]
  },
  {
   "cell_type": "code",
   "execution_count": 147,
   "metadata": {},
   "outputs": [
    {
     "data": {
      "text/plain": [
       "0.08251996450754215"
      ]
     },
     "execution_count": 147,
     "metadata": {},
     "output_type": "execute_result"
    }
   ],
   "source": [
    "np.mean(all_drops < 0.5)"
   ]
  },
  {
   "cell_type": "code",
   "execution_count": 181,
   "metadata": {},
   "outputs": [
    {
     "data": {
      "text/plain": [
       "3381"
      ]
     },
     "execution_count": 181,
     "metadata": {},
     "output_type": "execute_result"
    }
   ],
   "source": [
    "len(all_drops)"
   ]
  },
  {
   "cell_type": "code",
   "execution_count": 148,
   "metadata": {},
   "outputs": [
    {
     "data": {
      "text/plain": [
       "441"
      ]
     },
     "execution_count": 148,
     "metadata": {},
     "output_type": "execute_result"
    }
   ],
   "source": [
    "np.count_nonzero(all_drops > 3.5)"
   ]
  },
  {
   "cell_type": "code",
   "execution_count": 162,
   "metadata": {},
   "outputs": [
    {
     "data": {
      "text/plain": [
       "(1984, 1397, 3381)"
      ]
     },
     "execution_count": 162,
     "metadata": {},
     "output_type": "execute_result"
    }
   ],
   "source": [
    "# 1985, 1404\n",
    "len(assigned_tmgs), len(assigned_lbgs), len(assigned_tmgs) + len(assigned_lbgs)"
   ]
  },
  {
   "cell_type": "code",
   "execution_count": 163,
   "metadata": {},
   "outputs": [
    {
     "name": "stdout",
     "output_type": "stream",
     "text": [
      "   ID           RA                DEC         MASK ... H_ERR     KS   KS_ERR\n",
      "------- ------------------ ------------------ ---- ... ------ ------- ------\n",
      "1626577 150.20333965943462 1.1670676432513534    0 ... 1000.0 -99.006 1000.0\n",
      "1773782 149.84749220517747 1.0345852595890423    0 ... 1000.0 -99.008 1000.0\n",
      "1784992 149.90261978234753 1.1499335152386176    0 ... 1000.0 -99.007 1000.0\n",
      "1700336  150.0806009679944 1.2277486590696205    0 ... 1000.0 -99.006 1000.0\n",
      "1697057 150.03164175835445 1.1689124113546283    0 ... 1000.0 -99.006 1000.0\n",
      "1700294 150.04563697596413 1.2289455862310878    0 ... 1000.0 -99.006 1000.0\n",
      "1688364 150.01518443145454  1.097800252540322    0 ... 1000.0 -99.007 1000.0\n",
      "1695664 149.91615107599645 1.1854004183941942    0 ... 1000.0 -99.007 1000.0\n",
      "1691492 149.98224924817288 1.1340482686605606    0 ... 1000.0 -99.007 1000.0\n",
      "1789721 149.87018797373557 1.1922644034398078    0 ... 1000.0 -99.007 1000.0\n",
      "    ...                ...                ...  ... ...    ...     ...    ...\n",
      "2722223 150.63263141835336  1.479885893120817    0 ... 1000.0 -99.008 1000.0\n",
      "2689897  150.5992479587699 1.1879039414114172    0 ... 1000.0 -99.008 1000.0\n",
      "2699327 150.59797287792586 1.2576531508870985    0 ... 1000.0 -99.008 1000.0\n",
      "2693034 150.54194677548296  1.191933142613261    0 ... 1000.0 -99.008 1000.0\n",
      "2632001 150.64754481116464 1.4492444362561032    0 ... 1000.0 -99.008 1000.0\n",
      "2697758  150.5433591989951 1.2403520654476266    0 ... 1000.0 -99.008 1000.0\n",
      "2617670 150.75192694927892 1.3232632797375476    0 ... 1000.0 -99.008 1000.0\n",
      "2610117 150.68394326644045 1.2512937483448443    0 ... 1000.0 -99.008 1000.0\n",
      "2701962  150.5692316031406 1.2841182728267315    0 ... 1000.0 -99.008 1000.0\n",
      "2692640 150.49862000005686 1.2099453964710831    0 ... 1000.0 -99.007 1000.0\n",
      "2624385 150.77124983376132 1.3756248044425663    0 ... 1000.0 -99.009 1000.0\n",
      "Length = 1397 rows\n"
     ]
    }
   ],
   "source": [
    "assigned_lbgs.pprint()"
   ]
  },
  {
   "cell_type": "code",
   "execution_count": 175,
   "metadata": {},
   "outputs": [],
   "source": [
    "assigned_gdrops = assigned_lbgs[assigned_lbgs['SAMPLE'] == 'CLAUDS-G']\n",
    "# assigned_gdrops"
   ]
  },
  {
   "cell_type": "code",
   "execution_count": 176,
   "metadata": {},
   "outputs": [
    {
     "data": {
      "text/plain": [
       "Text(0.5, 0, 'I')"
      ]
     },
     "execution_count": 176,
     "metadata": {},
     "output_type": "execute_result"
    },
    {
     "data": {
      "image/png": "[encoded data removed]",
      "text/plain": [
       "<Figure size 432x288 with 1 Axes>"
      ]
     },
     "metadata": {
      "needs_background": "light"
     },
     "output_type": "display_data"
    }
   ],
   "source": [
    "_ = pl.hist(assigned_gdrops['I'], bins=np.arange(20.0, 26.0, 0.1), histtype='step', label='g-drops')\n",
    "pl.xlabel('I')"
   ]
  },
  {
   "cell_type": "code",
   "execution_count": 177,
   "metadata": {},
   "outputs": [
    {
     "data": {
      "text/html": [
       "<i>Table length=291</i>\n",
       "<table id=\"table46913276433312\" class=\"table-striped table-bordered table-condensed\">\n",
       "<thead><tr><th>ID</th><th>RA</th><th>DEC</th><th>MASK</th><th>FLAG_FIELD</th><th>FLAG_FIELD_BINARY [7]</th><th>EB_V</th><th>FUV_err</th><th>NUV_err</th><th>MAG_ABS_FUV</th><th>MAG_ABS_NUV</th><th>MAG_ABS_u</th><th>MAG_ABS_uS</th><th>MAG_ABS_g</th><th>MAG_ABS_r</th><th>MAG_ABS_i</th><th>MAG_ABS_z</th><th>MAG_ABS_y</th><th>MAG_ABS_Yv</th><th>MAG_ABS_J</th><th>MAG_ABS_H</th><th>MAG_ABS_Ks</th><th>Z_SPEC</th><th>Z_BEST</th><th>NBAND_USED</th><th>CHI_BEST</th><th>CHI_STAR</th><th>CHI_QSO</th><th>MOD_BEST</th><th>MOD_STAR</th><th>MOD_QSO</th><th>Z_ML</th><th>Z_ML68_LOW</th><th>Z_ML68_HIGH</th><th>Z_SEC</th><th>Z_QSO</th><th>Z_BC03</th><th>ZPHOT</th><th>MOD_BEST_BC03</th><th>PRIORITY</th><th>TILEID</th><th>SAMPLE</th><th>TARGETID</th><th>SUBPRIORITY</th><th>PMRA</th><th>PMDEC</th><th>REF_EPOCH</th><th>OVERRIDE</th><th>U</th><th>U_ERR</th><th>US</th><th>US_ERR</th><th>G</th><th>G_ERR</th><th>R</th><th>R_ERR</th><th>I</th><th>I_ERR</th><th>Z</th><th>Z_ERR</th><th>Y</th><th>Y_ERR</th><th>YV</th><th>YV_ERR</th><th>J_ERR</th><th>H_ERR</th><th>KS</th><th>KS_ERR</th></tr></thead>\n",
       "<thead><tr><th>int64</th><th>float64</th><th>float64</th><th>int16</th><th>int16</th><th>bool</th><th>float64</th><th>float64</th><th>float64</th><th>float64</th><th>float64</th><th>float64</th><th>float64</th><th>float64</th><th>float64</th><th>float64</th><th>float64</th><th>float64</th><th>float64</th><th>float64</th><th>float64</th><th>float64</th><th>float64</th><th>float64</th><th>int64</th><th>float64</th><th>float64</th><th>float64</th><th>int64</th><th>int64</th><th>int64</th><th>float64</th><th>float64</th><th>float64</th><th>float64</th><th>float64</th><th>float64</th><th>float64</th><th>int64</th><th>int64</th><th>int32</th><th>bytes9</th><th>int64</th><th>float64</th><th>float32</th><th>float32</th><th>float32</th><th>bool</th><th>float64</th><th>float64</th><th>float64</th><th>float64</th><th>float64</th><th>float64</th><th>float64</th><th>float64</th><th>float64</th><th>float64</th><th>float64</th><th>float64</th><th>float64</th><th>float64</th><th>float64</th><th>float64</th><th>float64</th><th>float64</th><th>float64</th><th>float64</th></tr></thead>\n",
       "<tr><td>1626577</td><td>150.20333965943462</td><td>1.1670676432513534</td><td>0</td><td>7</td><td>True .. False</td><td>0.016667136073555272</td><td>-99.0</td><td>-99.0</td><td>-18.473</td><td>-18.73</td><td>-19.199</td><td>-19.406</td><td>-19.732</td><td>-19.622</td><td>-19.724</td><td>-19.837</td><td>-19.905</td><td>-19.924</td><td>-19.934</td><td>-20.035</td><td>-19.793</td><td>-99.0</td><td>0.8163</td><td>11</td><td>4.57988</td><td>60.3342</td><td>3.34039</td><td>31</td><td>61</td><td>28</td><td>0.8148</td><td>0.7623</td><td>0.8775</td><td>-99.0</td><td>0.08</td><td>0.8148</td><td>0.8148</td><td>3</td><td>8000</td><td>2068</td><td>CLAUDS-U</td><td>974</td><td>0.3179086897094785</td><td>0.0</td><td>0.0</td><td>0.0</td><td>False</td><td>26.972</td><td>1000.0</td><td>24.271</td><td>0.097</td><td>23.964</td><td>0.027</td><td>23.856</td><td>0.045</td><td>23.207</td><td>0.029</td><td>23.133</td><td>0.042</td><td>23.366</td><td>0.139</td><td>-99.02</td><td>1000.0</td><td>1000.0</td><td>1000.0</td><td>-99.006</td><td>1000.0</td></tr>\n",
       "<tr><td>1773782</td><td>149.84749220517747</td><td>1.0345852595890423</td><td>0</td><td>7</td><td>True .. False</td><td>0.020885814870131504</td><td>-99.0</td><td>-99.0</td><td>-21.536</td><td>-21.998</td><td>-22.512</td><td>-22.608</td><td>-22.913</td><td>-23.114</td><td>-23.36</td><td>-23.588</td><td>-23.702</td><td>-23.751</td><td>-23.878</td><td>-24.105</td><td>-23.947</td><td>-99.0</td><td>2.7382</td><td>11</td><td>2.02179</td><td>4.52704</td><td>2.90904</td><td>29</td><td>84</td><td>30</td><td>2.7584</td><td>2.6</td><td>2.8752</td><td>0.08</td><td>2.98</td><td>2.7584</td><td>2.7584</td><td>11</td><td>6000</td><td>2068</td><td>CLAUDS-U</td><td>1845</td><td>0.6718347495840757</td><td>0.0</td><td>0.0</td><td>0.0</td><td>False</td><td>25.905</td><td>0.159</td><td>25.018</td><td>0.227</td><td>24.153</td><td>0.045</td><td>23.709</td><td>0.045</td><td>23.449</td><td>0.046</td><td>23.311</td><td>0.061</td><td>23.207</td><td>0.13</td><td>-99.025</td><td>1000.0</td><td>1000.0</td><td>1000.0</td><td>-99.008</td><td>1000.0</td></tr>\n",
       "<tr><td>1695664</td><td>149.91615107599645</td><td>1.1854004183941942</td><td>0</td><td>7</td><td>True .. False</td><td>0.018082607521284922</td><td>-99.0</td><td>-99.0</td><td>-21.52</td><td>-21.844</td><td>-22.348</td><td>-22.471</td><td>-22.849</td><td>-23.055</td><td>-23.238</td><td>-23.399</td><td>-23.483</td><td>-23.506</td><td>-23.585</td><td>-23.712</td><td>-23.496</td><td>-99.0</td><td>3.2563</td><td>11</td><td>2.98734</td><td>4.61526</td><td>1.25832</td><td>26</td><td>228</td><td>4</td><td>3.2614</td><td>3.1702</td><td>3.3545</td><td>-99.0</td><td>3.1</td><td>3.2614</td><td>3.2614</td><td>10</td><td>4000</td><td>2068</td><td>CLAUDS-U</td><td>3269</td><td>0.09611025066914458</td><td>0.0</td><td>0.0</td><td>0.0</td><td>False</td><td>28.249</td><td>0.501</td><td>28.165</td><td>1.456</td><td>25.185</td><td>0.034</td><td>24.199</td><td>0.021</td><td>23.896</td><td>0.02</td><td>23.789</td><td>0.029</td><td>23.834</td><td>0.071</td><td>-99.022</td><td>1000.0</td><td>1000.0</td><td>1000.0</td><td>-99.007</td><td>1000.0</td></tr>\n",
       "<tr><td>1629299</td><td>150.1248619526239</td><td>1.2109779377271168</td><td>0</td><td>6</td><td>False .. False</td><td>0.017613921698515472</td><td>-99.0</td><td>-99.0</td><td>-21.099</td><td>-21.281</td><td>-22.084</td><td>-22.307</td><td>-22.792</td><td>-22.858</td><td>-22.901</td><td>-22.973</td><td>-23.029</td><td>-23.037</td><td>-23.013</td><td>-23.084</td><td>-22.831</td><td>-99.0</td><td>2.9153</td><td>11</td><td>1.2417</td><td>1.3057</td><td>1.09524</td><td>27</td><td>144</td><td>4</td><td>2.902</td><td>2.767</td><td>3.0349</td><td>0.12</td><td>2.88</td><td>2.902</td><td>2.902</td><td>1</td><td>9000</td><td>2068</td><td>CLAUDS-U</td><td>315</td><td>0.6488592555655966</td><td>0.0</td><td>0.0</td><td>0.0</td><td>False</td><td>26.581</td><td>0.284</td><td>25.831</td><td>0.266</td><td>24.841</td><td>0.035</td><td>24.317</td><td>0.044</td><td>24.179</td><td>0.044</td><td>24.172</td><td>0.072</td><td>24.141</td><td>0.178</td><td>-99.021</td><td>1000.0</td><td>1000.0</td><td>1000.0</td><td>-99.006</td><td>1000.0</td></tr>\n",
       "<tr><td>1763799</td><td>149.89853271645643</td><td>0.9263147031676852</td><td>0</td><td>6</td><td>False .. False</td><td>0.02010409066329891</td><td>-99.0</td><td>-99.0</td><td>-13.854</td><td>-13.809</td><td>-14.354</td><td>-14.545</td><td>-15.096</td><td>-15.416</td><td>-15.593</td><td>-15.62</td><td>-15.673</td><td>-15.685</td><td>-15.703</td><td>-15.819</td><td>-15.551</td><td>-99.0</td><td>0.0588</td><td>11</td><td>46.6515</td><td>74.6873</td><td>70.7641</td><td>24</td><td>60</td><td>28</td><td>0.0621</td><td>0.0184</td><td>0.144</td><td>-99.0</td><td>0.7</td><td>0.0621</td><td>0.0621</td><td>9</td><td>9000</td><td>2068</td><td>CLAUDS-U</td><td>489</td><td>0.8665516822753557</td><td>0.0</td><td>0.0</td><td>0.0</td><td>False</td><td>32.899</td><td>1000.0</td><td>22.989</td><td>0.012</td><td>22.162</td><td>0.004</td><td>21.777</td><td>0.003</td><td>21.606</td><td>0.004</td><td>21.505</td><td>0.005</td><td>21.537</td><td>0.012</td><td>-99.024</td><td>1000.0</td><td>1000.0</td><td>1000.0</td><td>-99.007</td><td>1000.0</td></tr>\n",
       "<tr><td>1621845</td><td>150.20386323026736</td><td>1.1340218124864685</td><td>0</td><td>7</td><td>True .. False</td><td>0.01638917671021277</td><td>-99.0</td><td>-99.0</td><td>-16.967</td><td>-18.12</td><td>-19.437</td><td>-19.665</td><td>-20.494</td><td>-21.019</td><td>-21.463</td><td>-21.759</td><td>-21.924</td><td>-21.984</td><td>-22.149</td><td>-22.409</td><td>-22.242</td><td>-99.0</td><td>0.7599</td><td>11</td><td>1.32789</td><td>103.245</td><td>9.73142</td><td>21</td><td>224</td><td>7</td><td>0.7668</td><td>0.746</td><td>0.7877</td><td>-99.0</td><td>0.7</td><td>0.7668</td><td>0.7668</td><td>6</td><td>8000</td><td>2068</td><td>CLAUDS-U</td><td>886</td><td>0.14933089347382866</td><td>0.0</td><td>0.0</td><td>0.0</td><td>False</td><td>30.17</td><td>1000.0</td><td>24.861</td><td>0.065</td><td>24.305</td><td>0.017</td><td>23.494</td><td>0.012</td><td>22.564</td><td>0.007</td><td>22.147</td><td>0.007</td><td>22.041</td><td>0.016</td><td>-99.02</td><td>1000.0</td><td>1000.0</td><td>1000.0</td><td>-99.006</td><td>1000.0</td></tr>\n",
       "<tr><td>1710560</td><td>149.92322689419132</td><td>1.3342614588149893</td><td>0</td><td>7</td><td>True .. False</td><td>0.017015225528964374</td><td>-99.0</td><td>-99.0</td><td>-21.516</td><td>-21.687</td><td>-22.292</td><td>-22.468</td><td>-22.964</td><td>-23.187</td><td>-23.367</td><td>-23.515</td><td>-23.588</td><td>-23.604</td><td>-23.64</td><td>-23.772</td><td>-23.568</td><td>-99.0</td><td>3.1689</td><td>11</td><td>2.69391</td><td>7.54697</td><td>2.30915</td><td>27</td><td>74</td><td>29</td><td>3.1932</td><td>3.1214</td><td>3.2919</td><td>-99.0</td><td>3.32</td><td>3.1932</td><td>3.1932</td><td>5</td><td>2000</td><td>16917</td><td>CLAUDS-U</td><td>4033</td><td>0.692873095836107</td><td>0.0</td><td>0.0</td><td>0.0</td><td>False</td><td>27.607</td><td>0.32</td><td>27.215</td><td>0.42</td><td>25.003</td><td>0.027</td><td>24.13</td><td>0.02</td><td>23.932</td><td>0.019</td><td>23.887</td><td>0.031</td><td>23.967</td><td>0.063</td><td>-99.021</td><td>1000.0</td><td>1000.0</td><td>1000.0</td><td>-99.006</td><td>1000.0</td></tr>\n",
       "<tr><td>1702493</td><td>149.95796876346284</td><td>1.2520757158421585</td><td>0</td><td>7</td><td>True .. False</td><td>0.017181168471373694</td><td>-99.0</td><td>-99.0</td><td>-21.996</td><td>-22.363</td><td>-22.619</td><td>-22.707</td><td>-22.946</td><td>-23.061</td><td>-23.234</td><td>-23.413</td><td>-23.503</td><td>-23.539</td><td>-23.619</td><td>-23.791</td><td>-23.591</td><td>-99.0</td><td>3.4941</td><td>10</td><td>1.53438</td><td>23.9305</td><td>2.53844</td><td>23</td><td>79</td><td>27</td><td>3.4475</td><td>3.377</td><td>3.5218</td><td>-99.0</td><td>3.46</td><td>3.4475</td><td>3.4475</td><td>3</td><td>9000</td><td>2068</td><td>CLAUDS-U</td><td>478</td><td>0.220688285846658</td><td>0.0</td><td>0.0</td><td>0.0</td><td>False</td><td>29.876</td><td>2.697</td><td>-99.08</td><td>-99.0</td><td>24.971</td><td>0.032</td><td>23.837</td><td>0.019</td><td>23.682</td><td>0.02</td><td>23.557</td><td>0.029</td><td>23.405</td><td>0.061</td><td>-99.021</td><td>1000.0</td><td>1000.0</td><td>1000.0</td><td>-99.006</td><td>1000.0</td></tr>\n",
       "<tr><td>1792869</td><td>149.8692724502926</td><td>1.2316802416308528</td><td>0</td><td>7</td><td>True .. False</td><td>0.01953752901463332</td><td>-99.0</td><td>-99.0</td><td>-22.123</td><td>-22.603</td><td>-23.123</td><td>-23.222</td><td>-23.581</td><td>-23.835</td><td>-24.056</td><td>-24.236</td><td>-24.328</td><td>-24.357</td><td>-24.465</td><td>-24.6</td><td>-24.4</td><td>-99.0</td><td>2.8564</td><td>11</td><td>6.31265</td><td>7.08834</td><td>6.47978</td><td>33</td><td>83</td><td>2</td><td>2.9023</td><td>2.7976</td><td>3.014</td><td>-99.0</td><td>2.96</td><td>2.9023</td><td>2.9023</td><td>10</td><td>10000</td><td>16917</td><td>CLAUDS-U</td><td>148</td><td>0.8413494011209904</td><td>0.0</td><td>0.0</td><td>0.0</td><td>False</td><td>26.184</td><td>0.246</td><td>24.722</td><td>0.181</td><td>24.0</td><td>0.033</td><td>23.264</td><td>0.026</td><td>23.034</td><td>0.027</td><td>22.809</td><td>0.036</td><td>22.81</td><td>0.081</td><td>-99.024</td><td>1000.0</td><td>1000.0</td><td>1000.0</td><td>-99.007</td><td>1000.0</td></tr>\n",
       "<tr><td>4146881</td><td>150.20479916285078</td><td>1.593013257814658</td><td>0</td><td>71</td><td>True .. True</td><td>0.017025284547193313</td><td>-99.0</td><td>-99.0</td><td>-21.065</td><td>-21.181</td><td>-21.832</td><td>-21.94</td><td>-22.222</td><td>-22.318</td><td>-22.416</td><td>-22.523</td><td>-22.579</td><td>-22.591</td><td>-22.626</td><td>-22.695</td><td>-22.427</td><td>-99.0</td><td>2.8901</td><td>10</td><td>12.6932</td><td>30.8086</td><td>9.5924</td><td>33</td><td>63</td><td>30</td><td>2.8658</td><td>2.8062</td><td>2.9214</td><td>-99.0</td><td>3.14</td><td>2.8658</td><td>2.8658</td><td>5</td><td>5000</td><td>2068</td><td>CLAUDS-U</td><td>2539</td><td>0.3822751011550338</td><td>0.0</td><td>0.0</td><td>0.0</td><td>False</td><td>26.346</td><td>0.106</td><td>26.169</td><td>0.153</td><td>24.658</td><td>0.019</td><td>24.322</td><td>0.019</td><td>24.217</td><td>0.02</td><td>24.214</td><td>0.031</td><td>23.898</td><td>0.046</td><td>-99.021</td><td>-99.0</td><td>0.849</td><td>1.124</td><td>23.6</td><td>0.566</td></tr>\n",
       "<tr><td>...</td><td>...</td><td>...</td><td>...</td><td>...</td><td>...</td><td>...</td><td>...</td><td>...</td><td>...</td><td>...</td><td>...</td><td>...</td><td>...</td><td>...</td><td>...</td><td>...</td><td>...</td><td>...</td><td>...</td><td>...</td><td>...</td><td>...</td><td>...</td><td>...</td><td>...</td><td>...</td><td>...</td><td>...</td><td>...</td><td>...</td><td>...</td><td>...</td><td>...</td><td>...</td><td>...</td><td>...</td><td>...</td><td>...</td><td>...</td><td>...</td><td>...</td><td>...</td><td>...</td><td>...</td><td>...</td><td>...</td><td>...</td><td>...</td><td>...</td><td>...</td><td>...</td><td>...</td><td>...</td><td>...</td><td>...</td><td>...</td><td>...</td><td>...</td><td>...</td><td>...</td><td>...</td><td>...</td><td>...</td><td>...</td><td>...</td><td>...</td><td>...</td></tr>\n",
       "<tr><td>2441984</td><td>151.02143103019137</td><td>1.3296346965717354</td><td>0</td><td>3</td><td>True .. False</td><td>0.023203028573785645</td><td>-99.0</td><td>-99.0</td><td>-21.572</td><td>-21.631</td><td>-21.793</td><td>-21.898</td><td>-22.114</td><td>-22.106</td><td>-22.131</td><td>-22.192</td><td>-22.218</td><td>-22.214</td><td>-22.17</td><td>-22.187</td><td>-21.898</td><td>-99.0</td><td>3.1402</td><td>11</td><td>0.714106</td><td>33.7361</td><td>2.74624</td><td>19</td><td>62</td><td>30</td><td>3.1896</td><td>3.13</td><td>3.252</td><td>-99.0</td><td>3.36</td><td>3.1896</td><td>3.1896</td><td>5</td><td>3000</td><td>2068</td><td>CLAUDS-U</td><td>3503</td><td>0.9162702623180637</td><td>0.0</td><td>0.0</td><td>0.0</td><td>False</td><td>27.896</td><td>0.386</td><td>-99.108</td><td>1000.0</td><td>24.574</td><td>0.023</td><td>24.053</td><td>0.022</td><td>23.932</td><td>0.024</td><td>23.887</td><td>0.035</td><td>24.021</td><td>0.101</td><td>-99.028</td><td>1000.0</td><td>1000.0</td><td>1000.0</td><td>-99.008</td><td>1000.0</td></tr>\n",
       "<tr><td>4213280</td><td>150.2642516474595</td><td>2.057816992708668</td><td>0</td><td>127</td><td>True .. True</td><td>0.01476279848549287</td><td>-99.0</td><td>-99.0</td><td>-21.477</td><td>-21.685</td><td>-22.163</td><td>-22.27</td><td>-22.332</td><td>-22.428</td><td>-22.525</td><td>-22.633</td><td>-22.689</td><td>-22.7</td><td>-22.735</td><td>-22.805</td><td>-22.536</td><td>-99.0</td><td>3.3797</td><td>11</td><td>11.278</td><td>108.933</td><td>39.9354</td><td>33</td><td>228</td><td>29</td><td>3.393</td><td>3.3648</td><td>3.427</td><td>-99.0</td><td>3.4</td><td>3.393</td><td>3.393</td><td>7</td><td>2000</td><td>11155</td><td>CLAUDS-U</td><td>3826</td><td>0.5957340579281475</td><td>0.0</td><td>0.0</td><td>0.0</td><td>False</td><td>31.251</td><td>6.5</td><td>29.758</td><td>1.313</td><td>25.323</td><td>0.021</td><td>24.305</td><td>0.011</td><td>24.113</td><td>0.01</td><td>24.023</td><td>0.016</td><td>24.06</td><td>0.032</td><td>24.293</td><td>0.062</td><td>0.079</td><td>0.056</td><td>23.514</td><td>0.075</td></tr>\n",
       "<tr><td>3962487</td><td>150.40792458361148</td><td>1.5852258522938203</td><td>0</td><td>71</td><td>True .. True</td><td>0.017354362156590974</td><td>-99.0</td><td>4.714</td><td>-21.453</td><td>-21.555</td><td>-21.278</td><td>-21.318</td><td>-21.312</td><td>-21.176</td><td>-21.167</td><td>-21.243</td><td>-21.274</td><td>-21.287</td><td>-21.266</td><td>-21.335</td><td>-21.059</td><td>-99.0</td><td>3.2682</td><td>9</td><td>156.078</td><td>24.786</td><td>10000000000.0</td><td>33</td><td>51</td><td>-999</td><td>3.2789</td><td>3.2553</td><td>3.3264</td><td>-99.0</td><td>-99.0</td><td>3.2789</td><td>3.2789</td><td>11</td><td>3000</td><td>2068</td><td>CLAUDS-U</td><td>3716</td><td>0.4813408636121027</td><td>0.0</td><td>0.0</td><td>0.0</td><td>False</td><td>26.416</td><td>0.097</td><td>25.625</td><td>0.084</td><td>24.567</td><td>0.014</td><td>24.166</td><td>0.012</td><td>24.134</td><td>0.014</td><td>24.147</td><td>0.023</td><td>24.131</td><td>0.042</td><td>27.261</td><td>1000.0</td><td>-99.0</td><td>-99.0</td><td>24.682</td><td>0.0</td></tr>\n",
       "<tr><td>4005027</td><td>150.3500416982757</td><td>1.904366525700928</td><td>0</td><td>127</td><td>True .. True</td><td>0.01646084510217832</td><td>-99.0</td><td>-99.0</td><td>-22.317</td><td>-22.555</td><td>-22.672</td><td>-22.805</td><td>-23.416</td><td>-23.475</td><td>-23.54</td><td>-23.618</td><td>-23.651</td><td>-23.651</td><td>-23.615</td><td>-23.659</td><td>-23.388</td><td>3.475</td><td>3.3098</td><td>11</td><td>29.8124</td><td>222.899</td><td>44.6266</td><td>32</td><td>229</td><td>28</td><td>3.3281</td><td>3.2932</td><td>3.3829</td><td>-99.0</td><td>3.4</td><td>3.475</td><td>3.3281</td><td>10</td><td>7000</td><td>11155</td><td>CLAUDS-U</td><td>1032</td><td>0.814175789784704</td><td>0.0</td><td>0.0</td><td>0.0</td><td>False</td><td>27.475</td><td>0.193</td><td>27.334</td><td>0.187</td><td>24.368</td><td>0.012</td><td>23.518</td><td>0.007</td><td>23.382</td><td>0.007</td><td>23.357</td><td>0.01</td><td>23.355</td><td>0.021</td><td>23.392</td><td>0.034</td><td>0.038</td><td>0.05</td><td>22.471</td><td>0.039</td></tr>\n",
       "<tr><td>2489803</td><td>150.8740717400497</td><td>0.9321420206015706</td><td>0</td><td>7</td><td>True .. False</td><td>0.02027485256346434</td><td>-99.0</td><td>-99.0</td><td>-14.096</td><td>-14.225</td><td>-15.089</td><td>-15.283</td><td>-15.871</td><td>-16.152</td><td>-16.186</td><td>-16.334</td><td>-16.404</td><td>-16.423</td><td>-16.468</td><td>-16.613</td><td>-16.384</td><td>-99.0</td><td>0.1608</td><td>11</td><td>2.90564</td><td>4.70634</td><td>3.6496</td><td>2</td><td>68</td><td>4</td><td>0.2211</td><td>0.0763</td><td>2.8066</td><td>2.8</td><td>0.18</td><td>0.2211</td><td>0.2211</td><td>9</td><td>6000</td><td>2068</td><td>CLAUDS-U</td><td>1687</td><td>0.12725776966798397</td><td>0.0</td><td>0.0</td><td>0.0</td><td>False</td><td>30.632</td><td>1000.0</td><td>25.618</td><td>0.152</td><td>24.593</td><td>0.028</td><td>24.014</td><td>0.02</td><td>23.808</td><td>0.023</td><td>23.588</td><td>0.03</td><td>23.778</td><td>0.089</td><td>-99.025</td><td>1000.0</td><td>1000.0</td><td>1000.0</td><td>-99.007</td><td>1000.0</td></tr>\n",
       "<tr><td>2552059</td><td>150.95587637340762</td><td>1.5324896437982214</td><td>0</td><td>7</td><td>True .. False</td><td>0.023456062695141458</td><td>-99.0</td><td>-99.0</td><td>-21.484</td><td>-21.655</td><td>-21.983</td><td>-22.099</td><td>-22.405</td><td>-22.511</td><td>-22.619</td><td>-22.735</td><td>-22.794</td><td>-22.806</td><td>-22.835</td><td>-22.917</td><td>-22.67</td><td>-99.0</td><td>3.1598</td><td>11</td><td>0.597983</td><td>14.8641</td><td>1.51463</td><td>26</td><td>65</td><td>28</td><td>3.1576</td><td>3.0906</td><td>3.2157</td><td>-99.0</td><td>3.34</td><td>3.1576</td><td>3.1576</td><td>7</td><td>7000</td><td>2068</td><td>CLAUDS-U</td><td>1047</td><td>0.04243962537171575</td><td>0.0</td><td>0.0</td><td>0.0</td><td>False</td><td>27.835</td><td>0.284</td><td>26.981</td><td>0.338</td><td>24.808</td><td>0.023</td><td>24.128</td><td>0.018</td><td>23.959</td><td>0.02</td><td>23.911</td><td>0.031</td><td>23.974</td><td>0.079</td><td>-99.028</td><td>1000.0</td><td>1000.0</td><td>1000.0</td><td>-99.009</td><td>1000.0</td></tr>\n",
       "<tr><td>2578363</td><td>150.75229078800018</td><td>0.934298068642876</td><td>0</td><td>7</td><td>True .. False</td><td>0.021465253272627424</td><td>-99.0</td><td>-99.0</td><td>-14.333</td><td>-15.178</td><td>-16.621</td><td>-16.919</td><td>-17.639</td><td>-17.336</td><td>-17.351</td><td>-17.445</td><td>-17.51</td><td>-17.523</td><td>-17.522</td><td>-17.629</td><td>-17.396</td><td>-99.0</td><td>0.08</td><td>11</td><td>88.3458</td><td>67.3986</td><td>20.5243</td><td>1</td><td>51</td><td>6</td><td>0.0763</td><td>0.0555</td><td>0.0957</td><td>-99.0</td><td>2.92</td><td>0.0763</td><td>0.0763</td><td>1</td><td>10000</td><td>2068</td><td>CLAUDS-U</td><td>58</td><td>0.704016625427042</td><td>0.0</td><td>0.0</td><td>0.0</td><td>False</td><td>25.2</td><td>2.602</td><td>22.201</td><td>0.57</td><td>20.097</td><td>0.04</td><td>20.3</td><td>0.08</td><td>20.473</td><td>0.174</td><td>20.201</td><td>0.141</td><td>19.862</td><td>0.215</td><td>-99.026</td><td>1000.0</td><td>1000.0</td><td>1000.0</td><td>-99.008</td><td>1000.0</td></tr>\n",
       "<tr><td>2545490</td><td>150.88834663889872</td><td>1.46774180482506</td><td>0</td><td>7</td><td>True .. False</td><td>0.022539849763255626</td><td>-99.0</td><td>-99.0</td><td>-21.502</td><td>-22.047</td><td>-22.804</td><td>-22.919</td><td>-23.325</td><td>-23.612</td><td>-23.863</td><td>-24.066</td><td>-24.173</td><td>-24.208</td><td>-24.345</td><td>-24.517</td><td>-24.325</td><td>-99.0</td><td>2.9298</td><td>11</td><td>3.95373</td><td>12.231</td><td>2.98906</td><td>31</td><td>88</td><td>24</td><td>2.9407</td><td>2.872</td><td>3.0085</td><td>-99.0</td><td>2.96</td><td>2.9407</td><td>2.9407</td><td>7</td><td>4000</td><td>2068</td><td>CLAUDS-U</td><td>3171</td><td>0.2557818809462168</td><td>0.0</td><td>0.0</td><td>0.0</td><td>False</td><td>27.186</td><td>0.189</td><td>26.559</td><td>0.171</td><td>24.675</td><td>0.021</td><td>23.924</td><td>0.017</td><td>23.648</td><td>0.016</td><td>23.398</td><td>0.02</td><td>23.236</td><td>0.044</td><td>-99.027</td><td>1000.0</td><td>1000.0</td><td>1000.0</td><td>-99.008</td><td>1000.0</td></tr>\n",
       "<tr><td>2617670</td><td>150.75192694927892</td><td>1.3232632797375476</td><td>0</td><td>7</td><td>True .. False</td><td>0.023086730868908834</td><td>-99.0</td><td>-99.0</td><td>-9.56</td><td>-12.908</td><td>-15.968</td><td>-16.261</td><td>-17.085</td><td>-17.755</td><td>-17.974</td><td>-18.172</td><td>-18.284</td><td>-18.322</td><td>-18.395</td><td>-18.567</td><td>-18.321</td><td>-99.0</td><td>2.6905</td><td>11</td><td>13.5849</td><td>1.84586</td><td>5.56536</td><td>26</td><td>108</td><td>1</td><td>0.3827</td><td>0.3068</td><td>0.446</td><td>0.4</td><td>3.38</td><td>0.3827</td><td>0.3827</td><td>1</td><td>2000</td><td>2068</td><td>CLAUDS-U</td><td>3926</td><td>0.6891345080129622</td><td>0.0</td><td>0.0</td><td>0.0</td><td>False</td><td>28.97</td><td>0.946</td><td>27.938</td><td>0.817</td><td>25.488</td><td>0.038</td><td>24.318</td><td>0.021</td><td>23.708</td><td>0.015</td><td>23.373</td><td>0.016</td><td>23.376</td><td>0.04</td><td>-99.028</td><td>1000.0</td><td>1000.0</td><td>1000.0</td><td>-99.008</td><td>1000.0</td></tr>\n",
       "<tr><td>2692640</td><td>150.49862000005686</td><td>1.2099453964710831</td><td>0</td><td>7</td><td>True .. False</td><td>0.020375746308051407</td><td>-99.0</td><td>-99.0</td><td>-9.304</td><td>-12.651</td><td>-15.711</td><td>-16.005</td><td>-16.917</td><td>-17.539</td><td>-17.784</td><td>-17.981</td><td>-18.093</td><td>-18.131</td><td>-18.204</td><td>-18.376</td><td>-18.13</td><td>-99.0</td><td>3.2502</td><td>11</td><td>11.0488</td><td>3.57723</td><td>3.87701</td><td>33</td><td>110</td><td>4</td><td>0.3463</td><td>0.2744</td><td>3.2379</td><td>0.32</td><td>2.96</td><td>0.3463</td><td>0.3463</td><td>1</td><td>3000</td><td>2068</td><td>CLAUDS-U</td><td>3679</td><td>0.4085692524357174</td><td>0.0</td><td>0.0</td><td>0.0</td><td>False</td><td>28.719</td><td>0.705</td><td>27.533</td><td>1.159</td><td>25.351</td><td>0.034</td><td>24.169</td><td>0.019</td><td>23.621</td><td>0.014</td><td>23.323</td><td>0.016</td><td>23.304</td><td>0.043</td><td>-99.025</td><td>1000.0</td><td>1000.0</td><td>1000.0</td><td>-99.007</td><td>1000.0</td></tr>\n",
       "</table>"
      ],
      "text/plain": [
       "<Table length=291>\n",
       "   ID           RA                DEC          MASK ...  H_ERR     KS    KS_ERR\n",
       " int64       float64            float64       int16 ... float64 float64 float64\n",
       "------- ------------------ ------------------ ----- ... ------- ------- -------\n",
       "1626577 150.20333965943462 1.1670676432513534     0 ...  1000.0 -99.006  1000.0\n",
       "1773782 149.84749220517747 1.0345852595890423     0 ...  1000.0 -99.008  1000.0\n",
       "1695664 149.91615107599645 1.1854004183941942     0 ...  1000.0 -99.007  1000.0\n",
       "1629299  150.1248619526239 1.2109779377271168     0 ...  1000.0 -99.006  1000.0\n",
       "1763799 149.89853271645643 0.9263147031676852     0 ...  1000.0 -99.007  1000.0\n",
       "1621845 150.20386323026736 1.1340218124864685     0 ...  1000.0 -99.006  1000.0\n",
       "1710560 149.92322689419132 1.3342614588149893     0 ...  1000.0 -99.006  1000.0\n",
       "1702493 149.95796876346284 1.2520757158421585     0 ...  1000.0 -99.006  1000.0\n",
       "1792869  149.8692724502926 1.2316802416308528     0 ...  1000.0 -99.007  1000.0\n",
       "4146881 150.20479916285078  1.593013257814658     0 ...   1.124    23.6   0.566\n",
       "    ...                ...                ...   ... ...     ...     ...     ...\n",
       "2441984 151.02143103019137 1.3296346965717354     0 ...  1000.0 -99.008  1000.0\n",
       "4213280  150.2642516474595  2.057816992708668     0 ...   0.056  23.514   0.075\n",
       "3962487 150.40792458361148 1.5852258522938203     0 ...   -99.0  24.682     0.0\n",
       "4005027  150.3500416982757  1.904366525700928     0 ...    0.05  22.471   0.039\n",
       "2489803  150.8740717400497 0.9321420206015706     0 ...  1000.0 -99.007  1000.0\n",
       "2552059 150.95587637340762 1.5324896437982214     0 ...  1000.0 -99.009  1000.0\n",
       "2578363 150.75229078800018  0.934298068642876     0 ...  1000.0 -99.008  1000.0\n",
       "2545490 150.88834663889872   1.46774180482506     0 ...  1000.0 -99.008  1000.0\n",
       "2617670 150.75192694927892 1.3232632797375476     0 ...  1000.0 -99.008  1000.0\n",
       "2692640 150.49862000005686 1.2099453964710831     0 ...  1000.0 -99.007  1000.0"
      ]
     },
     "execution_count": 177,
     "metadata": {},
     "output_type": "execute_result"
    }
   ],
   "source": [
    "assigned_udrops = assigned_lbgs[assigned_lbgs['SAMPLE'] == 'CLAUDS-U']\n",
    "assigned_udrops"
   ]
  },
  {
   "cell_type": "code",
   "execution_count": 178,
   "metadata": {},
   "outputs": [
    {
     "data": {
      "text/plain": [
       "Text(0.5, 0, 'R')"
      ]
     },
     "execution_count": 178,
     "metadata": {},
     "output_type": "execute_result"
    },
    {
     "data": {
      "image/png": "[encoded data removed]",
      "text/plain": [
       "<Figure size 432x288 with 1 Axes>"
      ]
     },
     "metadata": {
      "needs_background": "light"
     },
     "output_type": "display_data"
    }
   ],
   "source": [
    "_ = pl.hist(assigned_udrops['R'], bins=np.arange(20.0, 26.0, 0.1), histtype='step', label='u-drops')\n",
    "pl.xlabel('R')"
   ]
  },
  {
   "cell_type": "code",
   "execution_count": 179,
   "metadata": {},
   "outputs": [
    {
     "data": {
      "text/html": [
       "<i>Table length=504</i>\n",
       "<table id=\"table46913272923232\" class=\"table-striped table-bordered table-condensed\">\n",
       "<thead><tr><th>ID</th><th>RA</th><th>DEC</th><th>MASK</th><th>FLAG_FIELD</th><th>FLAG_FIELD_BINARY [7]</th><th>EB_V</th><th>FUV_err</th><th>NUV_err</th><th>MAG_ABS_FUV</th><th>MAG_ABS_NUV</th><th>MAG_ABS_u</th><th>MAG_ABS_uS</th><th>MAG_ABS_g</th><th>MAG_ABS_r</th><th>MAG_ABS_i</th><th>MAG_ABS_z</th><th>MAG_ABS_y</th><th>MAG_ABS_Yv</th><th>MAG_ABS_J</th><th>MAG_ABS_H</th><th>MAG_ABS_Ks</th><th>Z_SPEC</th><th>Z_BEST</th><th>NBAND_USED</th><th>CHI_BEST</th><th>CHI_STAR</th><th>CHI_QSO</th><th>MOD_BEST</th><th>MOD_STAR</th><th>MOD_QSO</th><th>Z_ML</th><th>Z_ML68_LOW</th><th>Z_ML68_HIGH</th><th>Z_SEC</th><th>Z_QSO</th><th>Z_BC03</th><th>ZPHOT</th><th>MOD_BEST_BC03</th><th>PRIORITY</th><th>TILEID</th><th>SAMPLE</th><th>TARGETID</th><th>SUBPRIORITY</th><th>PMRA</th><th>PMDEC</th><th>REF_EPOCH</th><th>OVERRIDE</th><th>U</th><th>U_ERR</th><th>US</th><th>US_ERR</th><th>G</th><th>G_ERR</th><th>R</th><th>R_ERR</th><th>I</th><th>I_ERR</th><th>Z</th><th>Z_ERR</th><th>Y</th><th>Y_ERR</th><th>YV</th><th>YV_ERR</th><th>J_ERR</th><th>H_ERR</th><th>KS</th><th>KS_ERR</th></tr></thead>\n",
       "<thead><tr><th>int64</th><th>float64</th><th>float64</th><th>int16</th><th>int16</th><th>bool</th><th>float64</th><th>float64</th><th>float64</th><th>float64</th><th>float64</th><th>float64</th><th>float64</th><th>float64</th><th>float64</th><th>float64</th><th>float64</th><th>float64</th><th>float64</th><th>float64</th><th>float64</th><th>float64</th><th>float64</th><th>float64</th><th>int64</th><th>float64</th><th>float64</th><th>float64</th><th>int64</th><th>int64</th><th>int64</th><th>float64</th><th>float64</th><th>float64</th><th>float64</th><th>float64</th><th>float64</th><th>float64</th><th>int64</th><th>int64</th><th>int32</th><th>bytes9</th><th>int64</th><th>float64</th><th>float32</th><th>float32</th><th>float32</th><th>bool</th><th>float64</th><th>float64</th><th>float64</th><th>float64</th><th>float64</th><th>float64</th><th>float64</th><th>float64</th><th>float64</th><th>float64</th><th>float64</th><th>float64</th><th>float64</th><th>float64</th><th>float64</th><th>float64</th><th>float64</th><th>float64</th><th>float64</th><th>float64</th></tr></thead>\n",
       "<tr><td>1784992</td><td>149.90261978234753</td><td>1.1499335152386176</td><td>0</td><td>7</td><td>True .. False</td><td>0.01864022141548257</td><td>-99.0</td><td>-99.0</td><td>-21.001</td><td>-20.816</td><td>-20.752</td><td>-20.858</td><td>-21.042</td><td>-20.992</td><td>-21.0</td><td>-21.069</td><td>-21.114</td><td>-21.126</td><td>-21.1</td><td>-21.158</td><td>-20.879</td><td>-99.0</td><td>2.3693</td><td>11</td><td>2.18259</td><td>2.75779</td><td>15.9973</td><td>33</td><td>244</td><td>28</td><td>2.4695</td><td>2.3629</td><td>2.576</td><td>0.04</td><td>0.72</td><td>2.4695</td><td>2.4695</td><td>1</td><td>2000</td><td>2068</td><td>CLAUDS-BX</td><td>13248</td><td>0.954225043522503</td><td>0.0</td><td>0.0</td><td>0.0</td><td>False</td><td>24.758</td><td>0.022</td><td>24.673</td><td>0.066</td><td>24.226</td><td>0.017</td><td>24.213</td><td>0.025</td><td>24.323</td><td>0.035</td><td>24.209</td><td>0.049</td><td>24.551</td><td>0.16</td><td>-99.023</td><td>1000.0</td><td>1000.0</td><td>1000.0</td><td>-99.007</td><td>1000.0</td></tr>\n",
       "<tr><td>1700336</td><td>150.0806009679944</td><td>1.2277486590696205</td><td>0</td><td>6</td><td>False .. False</td><td>0.017570328467251768</td><td>-99.0</td><td>-99.0</td><td>-20.748</td><td>-21.128</td><td>-21.597</td><td>-21.716</td><td>-22.077</td><td>-22.276</td><td>-22.453</td><td>-22.609</td><td>-22.691</td><td>-22.715</td><td>-22.802</td><td>-22.922</td><td>-22.688</td><td>-99.0</td><td>0.122</td><td>11</td><td>3.69916</td><td>5.73622</td><td>4.31181</td><td>27</td><td>60</td><td>1</td><td>2.292</td><td>0.0849</td><td>2.5845</td><td>2.46</td><td>0.06</td><td>2.292</td><td>2.292</td><td>7</td><td>4000</td><td>2068</td><td>CLAUDS-BX</td><td>12127</td><td>0.6314747428998438</td><td>0.0</td><td>0.0</td><td>0.0</td><td>False</td><td>25.246</td><td>0.101</td><td>26.491</td><td>0.809</td><td>24.362</td><td>0.036</td><td>24.063</td><td>0.057</td><td>23.869</td><td>0.052</td><td>23.753</td><td>0.08</td><td>23.984</td><td>0.244</td><td>-99.021</td><td>1000.0</td><td>1000.0</td><td>1000.0</td><td>-99.006</td><td>1000.0</td></tr>\n",
       "<tr><td>1700294</td><td>150.04563697596413</td><td>1.2289455862310878</td><td>0</td><td>7</td><td>True .. False</td><td>0.017130808096846507</td><td>-99.0</td><td>-99.0</td><td>-21.24</td><td>-21.608</td><td>-21.939</td><td>-22.019</td><td>-22.274</td><td>-22.416</td><td>-22.553</td><td>-22.683</td><td>-22.747</td><td>-22.764</td><td>-22.823</td><td>-22.905</td><td>-22.665</td><td>-99.0</td><td>2.6888</td><td>11</td><td>0.836048</td><td>3.537</td><td>0.661289</td><td>27</td><td>57</td><td>29</td><td>2.6818</td><td>2.5916</td><td>2.759</td><td>0.1</td><td>2.7</td><td>2.6818</td><td>2.6818</td><td>10</td><td>5000</td><td>2068</td><td>CLAUDS-BX</td><td>10038</td><td>0.1453789973828502</td><td>0.0</td><td>0.0</td><td>0.0</td><td>False</td><td>25.692</td><td>0.092</td><td>25.482</td><td>0.194</td><td>24.383</td><td>0.022</td><td>23.908</td><td>0.026</td><td>23.845</td><td>0.029</td><td>23.646</td><td>0.041</td><td>23.626</td><td>0.096</td><td>-99.021</td><td>1000.0</td><td>1000.0</td><td>1000.0</td><td>-99.006</td><td>1000.0</td></tr>\n",
       "<tr><td>1691492</td><td>149.98224924817288</td><td>1.1340482686605606</td><td>0</td><td>7</td><td>True .. False</td><td>0.017949506684805352</td><td>-99.0</td><td>-99.0</td><td>-20.229</td><td>-20.862</td><td>-22.555</td><td>-22.845</td><td>-23.955</td><td>-24.73</td><td>-25.267</td><td>-25.629</td><td>-25.836</td><td>-25.913</td><td>-26.164</td><td>-26.528</td><td>-26.443</td><td>-99.0</td><td>2.1847</td><td>11</td><td>2.46456</td><td>56.2507</td><td>2.60991</td><td>18</td><td>68</td><td>6</td><td>2.2287</td><td>2.1449</td><td>2.3012</td><td>-99.0</td><td>2.22</td><td>2.2287</td><td>2.2287</td><td>3</td><td>9000</td><td>2068</td><td>CLAUDS-BX</td><td>5996</td><td>0.27403928263211774</td><td>0.0</td><td>0.0</td><td>0.0</td><td>False</td><td>26.171</td><td>0.093</td><td>25.745</td><td>0.167</td><td>24.824</td><td>0.038</td><td>24.393</td><td>0.039</td><td>24.061</td><td>0.037</td><td>23.592</td><td>0.038</td><td>23.237</td><td>0.065</td><td>-99.022</td><td>1000.0</td><td>1000.0</td><td>1000.0</td><td>-99.007</td><td>1000.0</td></tr>\n",
       "<tr><td>1789721</td><td>149.87018797373557</td><td>1.1922644034398078</td><td>0</td><td>7</td><td>True .. False</td><td>0.019537480506898203</td><td>-99.0</td><td>-99.0</td><td>-20.964</td><td>-21.09</td><td>-21.171</td><td>-21.302</td><td>-21.611</td><td>-21.662</td><td>-21.723</td><td>-21.807</td><td>-21.845</td><td>-21.846</td><td>-21.819</td><td>-21.873</td><td>-21.619</td><td>-99.0</td><td>0.0916</td><td>11</td><td>1.08484</td><td>12.9655</td><td>1.76631</td><td>32</td><td>244</td><td>28</td><td>2.1909</td><td>0.087</td><td>2.4311</td><td>2.54</td><td>0.64</td><td>2.1909</td><td>2.1909</td><td>5</td><td>8000</td><td>16917</td><td>CLAUDS-BX</td><td>6450</td><td>0.5167157467515913</td><td>0.0</td><td>0.0</td><td>0.0</td><td>False</td><td>24.406</td><td>0.034</td><td>24.281</td><td>0.094</td><td>23.983</td><td>0.026</td><td>24.018</td><td>0.042</td><td>23.849</td><td>0.044</td><td>23.992</td><td>0.081</td><td>24.008</td><td>0.197</td><td>-99.024</td><td>1000.0</td><td>1000.0</td><td>1000.0</td><td>-99.007</td><td>1000.0</td></tr>\n",
       "<tr><td>1625026</td><td>150.164805292854</td><td>1.1931465688615388</td><td>0</td><td>6</td><td>False .. False</td><td>0.01743890455538895</td><td>-99.0</td><td>-99.0</td><td>-19.367</td><td>-20.701</td><td>-22.366</td><td>-22.621</td><td>-23.556</td><td>-24.272</td><td>-24.803</td><td>-25.146</td><td>-25.337</td><td>-25.407</td><td>-25.61</td><td>-25.908</td><td>-25.761</td><td>-99.0</td><td>1.6058</td><td>11</td><td>2.86434</td><td>77.9104</td><td>7.61721</td><td>21</td><td>225</td><td>4</td><td>1.5968</td><td>1.5494</td><td>1.6395</td><td>-99.0</td><td>1.56</td><td>1.5968</td><td>1.5968</td><td>4</td><td>6000</td><td>2068</td><td>CLAUDS-BX</td><td>8280</td><td>0.8117063117679902</td><td>0.0</td><td>0.0</td><td>0.0</td><td>False</td><td>26.107</td><td>0.803</td><td>25.498</td><td>0.258</td><td>24.196</td><td>0.027</td><td>23.499</td><td>0.027</td><td>22.769</td><td>0.017</td><td>22.336</td><td>0.018</td><td>21.867</td><td>0.029</td><td>-99.021</td><td>1000.0</td><td>1000.0</td><td>1000.0</td><td>-99.006</td><td>1000.0</td></tr>\n",
       "<tr><td>1697590</td><td>149.92597670745903</td><td>1.1638667570180492</td><td>0</td><td>7</td><td>True .. False</td><td>0.017988292704874335</td><td>-99.0</td><td>-99.0</td><td>-20.724</td><td>-21.239</td><td>-21.944</td><td>-22.044</td><td>-22.403</td><td>-22.656</td><td>-22.877</td><td>-23.057</td><td>-23.149</td><td>-23.178</td><td>-23.287</td><td>-23.422</td><td>-23.221</td><td>-99.0</td><td>2.5963</td><td>11</td><td>0.3384</td><td>13.4009</td><td>0.767854</td><td>28</td><td>68</td><td>20</td><td>2.5947</td><td>2.5067</td><td>2.6724</td><td>-99.0</td><td>2.64</td><td>2.5947</td><td>2.5947</td><td>10</td><td>2000</td><td>2068</td><td>CLAUDS-BX</td><td>13184</td><td>0.23614898646867288</td><td>0.0</td><td>0.0</td><td>0.0</td><td>False</td><td>26.321</td><td>0.094</td><td>26.008</td><td>0.24</td><td>24.86</td><td>0.033</td><td>24.319</td><td>0.033</td><td>24.231</td><td>0.035</td><td>23.906</td><td>0.041</td><td>23.697</td><td>0.087</td><td>-99.022</td><td>1000.0</td><td>1000.0</td><td>1000.0</td><td>-99.007</td><td>1000.0</td></tr>\n",
       "<tr><td>1613943</td><td>150.24436084174206</td><td>1.0368945318432392</td><td>0</td><td>6</td><td>False .. False</td><td>0.01703608142469477</td><td>-99.0</td><td>-99.0</td><td>-20.919</td><td>-21.211</td><td>-21.397</td><td>-21.477</td><td>-21.732</td><td>-21.875</td><td>-22.013</td><td>-22.143</td><td>-22.207</td><td>-22.225</td><td>-22.284</td><td>-22.367</td><td>-22.127</td><td>-99.0</td><td>2.1464</td><td>11</td><td>5.05923</td><td>46.3997</td><td>6.23406</td><td>32</td><td>238</td><td>29</td><td>2.1652</td><td>2.0958</td><td>2.2256</td><td>-99.0</td><td>2.24</td><td>2.1652</td><td>2.1652</td><td>9</td><td>6000</td><td>2068</td><td>CLAUDS-BX</td><td>8422</td><td>0.5895417258122809</td><td>0.0</td><td>0.0</td><td>0.0</td><td>False</td><td>24.687</td><td>0.018</td><td>24.617</td><td>0.072</td><td>24.015</td><td>0.019</td><td>23.876</td><td>0.026</td><td>23.66</td><td>0.028</td><td>23.441</td><td>0.033</td><td>23.705</td><td>0.103</td><td>-99.021</td><td>1000.0</td><td>1000.0</td><td>1000.0</td><td>-99.006</td><td>1000.0</td></tr>\n",
       "<tr><td>1681005</td><td>149.9584681373025</td><td>0.9544834779598536</td><td>0</td><td>6</td><td>False .. False</td><td>0.019695052893564772</td><td>-99.0</td><td>-99.0</td><td>-20.768</td><td>-20.836</td><td>-20.952</td><td>-21.039</td><td>-21.263</td><td>-21.334</td><td>-21.418</td><td>-21.517</td><td>-21.568</td><td>-21.578</td><td>-21.61</td><td>-21.672</td><td>-21.397</td><td>-99.0</td><td>2.4043</td><td>11</td><td>2.64186</td><td>8.47657</td><td>2.86194</td><td>31</td><td>43</td><td>26</td><td>2.4159</td><td>0.1259</td><td>2.5257</td><td>0.12</td><td>2.64</td><td>2.4159</td><td>2.4159</td><td>9</td><td>2000</td><td>2068</td><td>CLAUDS-BX</td><td>13538</td><td>0.5196415733335867</td><td>0.0</td><td>0.0</td><td>0.0</td><td>False</td><td>25.155</td><td>0.05</td><td>25.312</td><td>0.09</td><td>24.456</td><td>0.033</td><td>24.313</td><td>0.039</td><td>24.275</td><td>0.046</td><td>24.086</td><td>0.053</td><td>24.343</td><td>0.167</td><td>-99.024</td><td>1000.0</td><td>1000.0</td><td>1000.0</td><td>-99.007</td><td>1000.0</td></tr>\n",
       "<tr><td>4338658</td><td>150.13210789972914</td><td>1.6473893608778196</td><td>0</td><td>95</td><td>True .. True</td><td>0.016335946547032906</td><td>-99.0</td><td>-99.0</td><td>-20.987</td><td>-21.13</td><td>-21.812</td><td>-22.014</td><td>-22.686</td><td>-22.912</td><td>-23.141</td><td>-23.317</td><td>-23.419</td><td>-23.453</td><td>-23.531</td><td>-23.715</td><td>-23.515</td><td>-99.0</td><td>2.758</td><td>11</td><td>9.17089</td><td>337.545</td><td>59.3018</td><td>1</td><td>237</td><td>7</td><td>2.6795</td><td>2.5809</td><td>2.7684</td><td>-99.0</td><td>2.52</td><td>2.6795</td><td>2.6795</td><td>3</td><td>4000</td><td>11155</td><td>CLAUDS-BX</td><td>11738</td><td>0.6130522832084303</td><td>0.0</td><td>0.0</td><td>0.0</td><td>False</td><td>25.411</td><td>0.034</td><td>25.227</td><td>0.039</td><td>24.519</td><td>0.013</td><td>24.366</td><td>0.015</td><td>24.286</td><td>0.016</td><td>24.188</td><td>0.023</td><td>24.189</td><td>0.046</td><td>24.417</td><td>0.041</td><td>0.034</td><td>0.017</td><td>22.578</td><td>0.018</td></tr>\n",
       "<tr><td>...</td><td>...</td><td>...</td><td>...</td><td>...</td><td>...</td><td>...</td><td>...</td><td>...</td><td>...</td><td>...</td><td>...</td><td>...</td><td>...</td><td>...</td><td>...</td><td>...</td><td>...</td><td>...</td><td>...</td><td>...</td><td>...</td><td>...</td><td>...</td><td>...</td><td>...</td><td>...</td><td>...</td><td>...</td><td>...</td><td>...</td><td>...</td><td>...</td><td>...</td><td>...</td><td>...</td><td>...</td><td>...</td><td>...</td><td>...</td><td>...</td><td>...</td><td>...</td><td>...</td><td>...</td><td>...</td><td>...</td><td>...</td><td>...</td><td>...</td><td>...</td><td>...</td><td>...</td><td>...</td><td>...</td><td>...</td><td>...</td><td>...</td><td>...</td><td>...</td><td>...</td><td>...</td><td>...</td><td>...</td><td>...</td><td>...</td><td>...</td><td>...</td></tr>\n",
       "<tr><td>2703666</td><td>150.59907610375097</td><td>1.3005166002691375</td><td>0</td><td>7</td><td>True .. False</td><td>0.02181965182975179</td><td>-99.0</td><td>-99.0</td><td>-22.156</td><td>-22.32</td><td>-22.7</td><td>-22.819</td><td>-23.085</td><td>-23.132</td><td>-23.218</td><td>-23.328</td><td>-23.391</td><td>-23.41</td><td>-23.417</td><td>-23.512</td><td>-23.261</td><td>-99.0</td><td>2.5308</td><td>11</td><td>2.2926</td><td>24.4702</td><td>14.0789</td><td>25</td><td>238</td><td>28</td><td>2.4481</td><td>0.075</td><td>2.5386</td><td>0.06</td><td>0.7</td><td>2.4481</td><td>2.4481</td><td>3</td><td>8000</td><td>2068</td><td>CLAUDS-BX</td><td>6213</td><td>0.8650748506503224</td><td>0.0</td><td>0.0</td><td>0.0</td><td>False</td><td>23.826</td><td>0.016</td><td>23.835</td><td>0.068</td><td>23.115</td><td>0.011</td><td>22.924</td><td>0.013</td><td>22.814</td><td>0.014</td><td>22.83</td><td>0.024</td><td>22.677</td><td>0.05</td><td>-99.026</td><td>1000.0</td><td>1000.0</td><td>1000.0</td><td>-99.008</td><td>1000.0</td></tr>\n",
       "<tr><td>2722223</td><td>150.63263141835336</td><td>1.479885893120817</td><td>0</td><td>7</td><td>True .. False</td><td>0.02158558042800876</td><td>-99.0</td><td>-99.0</td><td>-20.624</td><td>-21.016</td><td>-21.827</td><td>-22.05</td><td>-22.812</td><td>-23.261</td><td>-23.573</td><td>-23.799</td><td>-23.929</td><td>-23.975</td><td>-24.103</td><td>-24.339</td><td>-24.178</td><td>-99.0</td><td>1.9994</td><td>11</td><td>7.59792</td><td>231.236</td><td>13.4498</td><td>30</td><td>238</td><td>22</td><td>2.0145</td><td>1.9667</td><td>2.0661</td><td>-99.0</td><td>2.22</td><td>2.0145</td><td>2.0145</td><td>3</td><td>2000</td><td>2068</td><td>CLAUDS-BX</td><td>13290</td><td>0.7241631505140952</td><td>0.0</td><td>0.0</td><td>0.0</td><td>False</td><td>24.652</td><td>0.018</td><td>24.508</td><td>0.025</td><td>24.108</td><td>0.012</td><td>23.976</td><td>0.018</td><td>23.692</td><td>0.015</td><td>23.437</td><td>0.019</td><td>23.373</td><td>0.039</td><td>-99.026</td><td>1000.0</td><td>1000.0</td><td>1000.0</td><td>-99.008</td><td>1000.0</td></tr>\n",
       "<tr><td>2689897</td><td>150.5992479587699</td><td>1.1879039414114172</td><td>0</td><td>7</td><td>True .. False</td><td>0.02077902291985307</td><td>-99.0</td><td>-99.0</td><td>-20.346</td><td>-20.746</td><td>-21.338</td><td>-21.485</td><td>-21.932</td><td>-22.168</td><td>-22.373</td><td>-22.548</td><td>-22.637</td><td>-22.66</td><td>-22.734</td><td>-22.878</td><td>-22.687</td><td>-99.0</td><td>2.1612</td><td>11</td><td>4.39457</td><td>43.3033</td><td>3.74379</td><td>32</td><td>53</td><td>27</td><td>2.1889</td><td>2.0431</td><td>2.2718</td><td>0.06</td><td>2.3</td><td>2.1889</td><td>2.1889</td><td>5</td><td>10000</td><td>2068</td><td>CLAUDS-BX</td><td>4369</td><td>0.2605909762584321</td><td>0.0</td><td>0.0</td><td>0.0</td><td>False</td><td>25.435</td><td>0.037</td><td>25.094</td><td>0.094</td><td>24.626</td><td>0.019</td><td>24.391</td><td>0.025</td><td>24.144</td><td>0.025</td><td>23.933</td><td>0.032</td><td>23.965</td><td>0.082</td><td>-99.025</td><td>1000.0</td><td>1000.0</td><td>1000.0</td><td>-99.008</td><td>1000.0</td></tr>\n",
       "<tr><td>2699327</td><td>150.59797287792586</td><td>1.2576531508870985</td><td>0</td><td>7</td><td>True .. False</td><td>0.02133980978685171</td><td>-99.0</td><td>-99.0</td><td>-20.514</td><td>-20.822</td><td>-20.974</td><td>-21.073</td><td>-21.379</td><td>-21.552</td><td>-21.714</td><td>-21.861</td><td>-21.937</td><td>-21.958</td><td>-22.038</td><td>-22.147</td><td>-21.912</td><td>-99.0</td><td>2.4199</td><td>11</td><td>2.99393</td><td>8.93276</td><td>5.06644</td><td>33</td><td>53</td><td>28</td><td>2.3377</td><td>0.0606</td><td>2.5162</td><td>0.06</td><td>0.74</td><td>2.3377</td><td>2.3377</td><td>10</td><td>9000</td><td>2068</td><td>CLAUDS-BX</td><td>6105</td><td>0.46078645464222956</td><td>0.0</td><td>0.0</td><td>0.0</td><td>False</td><td>25.586</td><td>0.037</td><td>25.522</td><td>0.138</td><td>24.655</td><td>0.019</td><td>24.357</td><td>0.024</td><td>24.219</td><td>0.025</td><td>24.049</td><td>0.036</td><td>24.345</td><td>0.125</td><td>-99.026</td><td>1000.0</td><td>1000.0</td><td>1000.0</td><td>-99.008</td><td>1000.0</td></tr>\n",
       "<tr><td>2693034</td><td>150.54194677548296</td><td>1.191933142613261</td><td>0</td><td>7</td><td>True .. False</td><td>0.020689006672871307</td><td>-99.0</td><td>-99.0</td><td>-21.888</td><td>-22.143</td><td>-23.012</td><td>-23.217</td><td>-23.913</td><td>-24.326</td><td>-24.626</td><td>-24.85</td><td>-24.979</td><td>-25.025</td><td>-25.149</td><td>-25.38</td><td>-25.215</td><td>-99.0</td><td>2.2474</td><td>11</td><td>1.20229</td><td>40.4985</td><td>1.54305</td><td>28</td><td>49</td><td>21</td><td>2.2376</td><td>2.1887</td><td>2.2768</td><td>-99.0</td><td>2.32</td><td>2.2376</td><td>2.2376</td><td>11</td><td>7000</td><td>2068</td><td>CLAUDS-BX</td><td>7139</td><td>0.7216394069321259</td><td>0.0</td><td>0.0</td><td>0.0</td><td>False</td><td>23.894</td><td>0.041</td><td>23.833</td><td>0.114</td><td>23.134</td><td>0.02</td><td>22.901</td><td>0.025</td><td>22.815</td><td>0.028</td><td>22.469</td><td>0.032</td><td>22.45</td><td>0.078</td><td>-99.025</td><td>1000.0</td><td>1000.0</td><td>1000.0</td><td>-99.008</td><td>1000.0</td></tr>\n",
       "<tr><td>2632001</td><td>150.64754481116464</td><td>1.4492444362561032</td><td>0</td><td>7</td><td>True .. False</td><td>0.021949047114126846</td><td>0.067</td><td>0.071</td><td>-14.644</td><td>-14.98</td><td>-15.774</td><td>-16.005</td><td>-16.621</td><td>-16.805</td><td>-16.97</td><td>-17.026</td><td>-17.088</td><td>-17.104</td><td>-17.115</td><td>-17.232</td><td>-16.995</td><td>-99.0</td><td>0.0889</td><td>13</td><td>15.7733</td><td>173.125</td><td>102.303</td><td>2</td><td>59</td><td>1</td><td>0.0852</td><td>0.0687</td><td>0.0988</td><td>-99.0</td><td>0.06</td><td>0.0852</td><td>0.0852</td><td>2</td><td>10000</td><td>2068</td><td>CLAUDS-BX</td><td>4555</td><td>0.10408506616698043</td><td>0.0</td><td>0.0</td><td>0.0</td><td>False</td><td>22.488</td><td>0.005</td><td>22.391</td><td>0.006</td><td>21.376</td><td>0.002</td><td>21.089</td><td>0.002</td><td>20.925</td><td>0.002</td><td>20.822</td><td>0.003</td><td>20.841</td><td>0.006</td><td>-99.027</td><td>1000.0</td><td>1000.0</td><td>1000.0</td><td>-99.008</td><td>1000.0</td></tr>\n",
       "<tr><td>2697758</td><td>150.5433591989951</td><td>1.2403520654476266</td><td>0</td><td>7</td><td>True .. False</td><td>0.020550089679753497</td><td>-99.0</td><td>-99.0</td><td>-20.753</td><td>-21.011</td><td>-21.446</td><td>-21.527</td><td>-21.782</td><td>-21.925</td><td>-22.062</td><td>-22.192</td><td>-22.257</td><td>-22.274</td><td>-22.333</td><td>-22.417</td><td>-22.177</td><td>-99.0</td><td>2.4845</td><td>11</td><td>0.172473</td><td>2.07909</td><td>0.398614</td><td>30</td><td>53</td><td>28</td><td>2.4626</td><td>0.1064</td><td>2.6413</td><td>0.08</td><td>2.74</td><td>2.4626</td><td>2.4626</td><td>9</td><td>5000</td><td>2068</td><td>CLAUDS-BX</td><td>10418</td><td>0.43697637093389086</td><td>0.0</td><td>0.0</td><td>0.0</td><td>False</td><td>25.615</td><td>0.091</td><td>25.602</td><td>0.291</td><td>24.579</td><td>0.036</td><td>24.31</td><td>0.051</td><td>24.148</td><td>0.05</td><td>24.017</td><td>0.069</td><td>23.935</td><td>0.168</td><td>-99.025</td><td>1000.0</td><td>1000.0</td><td>1000.0</td><td>-99.008</td><td>1000.0</td></tr>\n",
       "<tr><td>2610117</td><td>150.68394326644045</td><td>1.2512937483448443</td><td>0</td><td>7</td><td>True .. False</td><td>0.022164209089781246</td><td>-99.0</td><td>-99.0</td><td>-21.229</td><td>-21.389</td><td>-22.278</td><td>-22.502</td><td>-22.986</td><td>-23.053</td><td>-23.095</td><td>-23.167</td><td>-23.223</td><td>-23.232</td><td>-23.208</td><td>-23.279</td><td>-23.026</td><td>-99.0</td><td>2.6622</td><td>11</td><td>1.77124</td><td>3.9154</td><td>2.5727</td><td>26</td><td>49</td><td>1</td><td>2.5596</td><td>0.143</td><td>2.6539</td><td>0.02</td><td>0.04</td><td>2.5596</td><td>2.5596</td><td>1</td><td>6000</td><td>2068</td><td>CLAUDS-BX</td><td>8452</td><td>0.7577728262747813</td><td>0.0</td><td>0.0</td><td>0.0</td><td>False</td><td>25.093</td><td>0.042</td><td>24.948</td><td>0.14</td><td>24.214</td><td>0.022</td><td>23.927</td><td>0.027</td><td>23.861</td><td>0.031</td><td>23.85</td><td>0.049</td><td>23.603</td><td>0.102</td><td>-99.027</td><td>1000.0</td><td>1000.0</td><td>1000.0</td><td>-99.008</td><td>1000.0</td></tr>\n",
       "<tr><td>2701962</td><td>150.5692316031406</td><td>1.2841182728267315</td><td>0</td><td>7</td><td>True .. False</td><td>0.020926391751589904</td><td>-99.0</td><td>-99.0</td><td>-21.045</td><td>-21.054</td><td>-22.013</td><td>-22.228</td><td>-22.989</td><td>-23.384</td><td>-23.616</td><td>-23.797</td><td>-23.904</td><td>-23.939</td><td>-24.0</td><td>-24.164</td><td>-23.92</td><td>-99.0</td><td>2.1968</td><td>11</td><td>8.79494</td><td>99.3387</td><td>2.90709</td><td>22</td><td>248</td><td>28</td><td>2.117</td><td>2.0125</td><td>2.2015</td><td>-99.0</td><td>0.44</td><td>2.117</td><td>2.117</td><td>3</td><td>8000</td><td>2068</td><td>CLAUDS-BX</td><td>6502</td><td>0.41183309364997966</td><td>0.0</td><td>0.0</td><td>0.0</td><td>False</td><td>24.03</td><td>0.014</td><td>24.02</td><td>0.052</td><td>23.822</td><td>0.014</td><td>23.851</td><td>0.022</td><td>23.835</td><td>0.029</td><td>23.715</td><td>0.04</td><td>23.274</td><td>0.07</td><td>-99.025</td><td>1000.0</td><td>1000.0</td><td>1000.0</td><td>-99.008</td><td>1000.0</td></tr>\n",
       "<tr><td>2624385</td><td>150.77124983376132</td><td>1.3756248044425663</td><td>0</td><td>7</td><td>True .. False</td><td>0.0234008826072979</td><td>-99.0</td><td>-99.0</td><td>-20.722</td><td>-20.712</td><td>-21.203</td><td>-21.384</td><td>-21.919</td><td>-22.139</td><td>-22.282</td><td>-22.392</td><td>-22.439</td><td>-22.448</td><td>-22.455</td><td>-22.559</td><td>-22.29</td><td>-99.0</td><td>2.2516</td><td>11</td><td>3.18075</td><td>94.587</td><td>12.2126</td><td>25</td><td>19</td><td>28</td><td>2.1064</td><td>1.9721</td><td>2.2071</td><td>-99.0</td><td>0.44</td><td>2.1064</td><td>2.1064</td><td>9</td><td>1000</td><td>2068</td><td>CLAUDS-BX</td><td>13793</td><td>0.8792095645567997</td><td>0.0</td><td>0.0</td><td>0.0</td><td>False</td><td>24.241</td><td>0.012</td><td>24.238</td><td>0.019</td><td>24.142</td><td>0.013</td><td>24.188</td><td>0.022</td><td>24.178</td><td>0.026</td><td>24.184</td><td>0.043</td><td>24.006</td><td>0.088</td><td>-99.028</td><td>1000.0</td><td>1000.0</td><td>1000.0</td><td>-99.009</td><td>1000.0</td></tr>\n",
       "</table>"
      ],
      "text/plain": [
       "<Table length=504>\n",
       "   ID           RA                DEC          MASK ...  H_ERR     KS    KS_ERR\n",
       " int64       float64            float64       int16 ... float64 float64 float64\n",
       "------- ------------------ ------------------ ----- ... ------- ------- -------\n",
       "1784992 149.90261978234753 1.1499335152386176     0 ...  1000.0 -99.007  1000.0\n",
       "1700336  150.0806009679944 1.2277486590696205     0 ...  1000.0 -99.006  1000.0\n",
       "1700294 150.04563697596413 1.2289455862310878     0 ...  1000.0 -99.006  1000.0\n",
       "1691492 149.98224924817288 1.1340482686605606     0 ...  1000.0 -99.007  1000.0\n",
       "1789721 149.87018797373557 1.1922644034398078     0 ...  1000.0 -99.007  1000.0\n",
       "1625026   150.164805292854 1.1931465688615388     0 ...  1000.0 -99.006  1000.0\n",
       "1697590 149.92597670745903 1.1638667570180492     0 ...  1000.0 -99.007  1000.0\n",
       "1613943 150.24436084174206 1.0368945318432392     0 ...  1000.0 -99.006  1000.0\n",
       "1681005  149.9584681373025 0.9544834779598536     0 ...  1000.0 -99.007  1000.0\n",
       "4338658 150.13210789972914 1.6473893608778196     0 ...   0.017  22.578   0.018\n",
       "    ...                ...                ...   ... ...     ...     ...     ...\n",
       "2703666 150.59907610375097 1.3005166002691375     0 ...  1000.0 -99.008  1000.0\n",
       "2722223 150.63263141835336  1.479885893120817     0 ...  1000.0 -99.008  1000.0\n",
       "2689897  150.5992479587699 1.1879039414114172     0 ...  1000.0 -99.008  1000.0\n",
       "2699327 150.59797287792586 1.2576531508870985     0 ...  1000.0 -99.008  1000.0\n",
       "2693034 150.54194677548296  1.191933142613261     0 ...  1000.0 -99.008  1000.0\n",
       "2632001 150.64754481116464 1.4492444362561032     0 ...  1000.0 -99.008  1000.0\n",
       "2697758  150.5433591989951 1.2403520654476266     0 ...  1000.0 -99.008  1000.0\n",
       "2610117 150.68394326644045 1.2512937483448443     0 ...  1000.0 -99.008  1000.0\n",
       "2701962  150.5692316031406 1.2841182728267315     0 ...  1000.0 -99.008  1000.0\n",
       "2624385 150.77124983376132 1.3756248044425663     0 ...  1000.0 -99.009  1000.0"
      ]
     },
     "execution_count": 179,
     "metadata": {},
     "output_type": "execute_result"
    }
   ],
   "source": [
    "assigned_bxdrops = assigned_lbgs[assigned_lbgs['SAMPLE'] == 'CLAUDS-BX']\n",
    "assigned_bxdrops"
   ]
  },
  {
   "cell_type": "code",
   "execution_count": 180,
   "metadata": {},
   "outputs": [
    {
     "data": {
      "text/plain": [
       "Text(0.5, 0, 'R')"
      ]
     },
     "execution_count": 180,
     "metadata": {},
     "output_type": "execute_result"
    },
    {
     "data": {
      "image/png": "[encoded data removed]",
      "text/plain": [
       "<Figure size 432x288 with 1 Axes>"
      ]
     },
     "metadata": {
      "needs_background": "light"
     },
     "output_type": "display_data"
    }
   ],
   "source": [
    "_ = pl.hist(assigned_bxdrops['R'], bins=np.arange(20.0, 26.0, 0.1), histtype='step', label='BX-drops')\n",
    "pl.xlabel('R')"
   ]
  }
 ],
 "metadata": {
  "kernelspec": {
   "display_name": "DESI master",
   "language": "python",
   "name": "desi-master"
  },
  "language_info": {
   "codemirror_mode": {
    "name": "ipython",
    "version": 3
   },
   "file_extension": ".py",
   "mimetype": "text/x-python",
   "name": "python",
   "nbconvert_exporter": "python",
   "pygments_lexer": "ipython3",
   "version": "3.8.3"
  }
 },
 "nbformat": 4,
 "nbformat_minor": 4
}
