{
 "cells": [
  {
   "cell_type": "code",
   "execution_count": 31,
   "metadata": {},
   "outputs": [],
   "source": [
    "import fitsio\n",
    "import astropy.io.fits as fits\n",
    "import pylab as pl\n",
    "import numpy as np\n",
    "\n",
    "from astropy.table import Table, vstack\n",
    "from astropy.coordinates import SkyCoord\n",
    "from astropy import units as u"
   ]
  },
  {
   "cell_type": "code",
   "execution_count": 28,
   "metadata": {},
   "outputs": [],
   "source": [
    "lbgs = Table.read('/global/cscratch1/sd/mjwilson/secondary/sv1/raw/Mar21/LBG_LBGLAE.fits')\n",
    "tmgs = Table.read('/global/cfs/cdirs/desi/target/secondary/sv1/indata/LBG_TOMOG.fits')\n",
    "dups = Table.read('/global/cscratch1/sd/mjwilson/DESILBG/tomog/lbglae-matches.fits')"
   ]
  },
  {
   "cell_type": "code",
   "execution_count": 29,
   "metadata": {},
   "outputs": [],
   "source": [
    "exclude = np.isin(lbgs['ID'], dups['ID'])\n",
    "\n",
    "lbgs = lbgs[~exclude]"
   ]
  },
  {
   "cell_type": "code",
   "execution_count": 32,
   "metadata": {},
   "outputs": [],
   "source": [
    "lbgs['RA']  = lbgs['RA'].data.astype('>f8')\n",
    "lbgs['DEC'] = lbgs['DEC'].data.astype('>f8')"
   ]
  },
  {
   "cell_type": "code",
   "execution_count": 13,
   "metadata": {},
   "outputs": [],
   "source": [
    "dat  = fitsio.read('/global/cscratch1/sd/mjwilson/SCNDCOSMOS/fiberassign-082000.fits.gz')"
   ]
  },
  {
   "cell_type": "code",
   "execution_count": 14,
   "metadata": {},
   "outputs": [
    {
     "data": {
      "text/plain": [
       "array([149.80223123, 149.89306089, 150.00712684, ..., 150.66756626,\n",
       "       150.64278697, 150.78439012])"
      ]
     },
     "execution_count": 14,
     "metadata": {},
     "output_type": "execute_result"
    }
   ],
   "source": [
    "dat['TARGET_RA']"
   ]
  },
  {
   "cell_type": "code",
   "execution_count": 15,
   "metadata": {},
   "outputs": [
    {
     "data": {
      "text/plain": [
       "array([1.03722321, 1.1090335 , 1.12826224, ..., 1.3720464 , 1.29189284,\n",
       "       1.38737883])"
      ]
     },
     "execution_count": 15,
     "metadata": {},
     "output_type": "execute_result"
    }
   ],
   "source": [
    "dat['TARGET_DEC']"
   ]
  },
  {
   "cell_type": "code",
   "execution_count": 82,
   "metadata": {},
   "outputs": [],
   "source": [
    "sc_target = SkyCoord(ra=dat['TARGET_RA']*u.degree, dec=dat['TARGET_DEC']*u.degree)\n",
    "\n",
    "sc_tmgs   = SkyCoord(ra=tmgs['RA']*u.degree, dec=tmgs['DEC']*u.degree)\n",
    "sc_lbgs   = SkyCoord(ra=lbgs['RA']*u.degree, dec=lbgs['DEC']*u.degree)"
   ]
  },
  {
   "cell_type": "code",
   "execution_count": 89,
   "metadata": {},
   "outputs": [],
   "source": [
    "idx, d2d, d3d = sc_target.match_to_catalog_sky(sc_tmgs)"
   ]
  },
  {
   "cell_type": "code",
   "execution_count": 90,
   "metadata": {},
   "outputs": [
    {
     "data": {
      "image/png": "[encoded data removed]",
      "text/plain": [
       "<Figure size 432x288 with 1 Axes>"
      ]
     },
     "metadata": {
      "needs_background": "light"
     },
     "output_type": "display_data"
    }
   ],
   "source": [
    "_ = pl.hist(d2d.arcsec, bins=np.arange(0.0, 1., 0.01))"
   ]
  },
  {
   "cell_type": "code",
   "execution_count": 91,
   "metadata": {},
   "outputs": [
    {
     "data": {
      "text/plain": [
       "0.4028"
      ]
     },
     "execution_count": 91,
     "metadata": {},
     "output_type": "execute_result"
    }
   ],
   "source": [
    "np.mean(d2d.arcsec < 0.2)"
   ]
  },
  {
   "cell_type": "code",
   "execution_count": 92,
   "metadata": {},
   "outputs": [],
   "source": [
    "idx = idx[d2d.arcsec < 0.1]"
   ]
  },
  {
   "cell_type": "code",
   "execution_count": 93,
   "metadata": {},
   "outputs": [
    {
     "data": {
      "text/plain": [
       "(array([ 50.,  43.,  13.,   6.,   5.,   2.,   5.,   6.,   2.,   2.,   4.,\n",
       "          1.,   1.,   9.,   3.,  11.,   6.,   2.,  18.,  32.,  56.,  89.,\n",
       "        120., 131., 135., 135., 101., 135., 152., 175., 151., 123.,  95.,\n",
       "         86.,  50.,  15.,   7.,   3.,   4.,   0.,   0.,   0.,   0.,   0.,\n",
       "          0.,   0.,   0.,   0.,   0.]),\n",
       " array([0. , 0.1, 0.2, 0.3, 0.4, 0.5, 0.6, 0.7, 0.8, 0.9, 1. , 1.1, 1.2,\n",
       "        1.3, 1.4, 1.5, 1.6, 1.7, 1.8, 1.9, 2. , 2.1, 2.2, 2.3, 2.4, 2.5,\n",
       "        2.6, 2.7, 2.8, 2.9, 3. , 3.1, 3.2, 3.3, 3.4, 3.5, 3.6, 3.7, 3.8,\n",
       "        3.9, 4. , 4.1, 4.2, 4.3, 4.4, 4.5, 4.6, 4.7, 4.8, 4.9]),\n",
       " <a list of 49 Patch objects>)"
      ]
     },
     "execution_count": 93,
     "metadata": {},
     "output_type": "execute_result"
    },
    {
     "data": {
      "image/png": "[encoded data removed]",
      "text/plain": [
       "<Figure size 432x288 with 1 Axes>"
      ]
     },
     "metadata": {
      "needs_background": "light"
     },
     "output_type": "display_data"
    }
   ],
   "source": [
    "pl.hist(tmgs[idx]['PHOTO_Z'], bins=np.arange(0.0, 5.0, 0.1))"
   ]
  },
  {
   "cell_type": "code",
   "execution_count": 94,
   "metadata": {},
   "outputs": [
    {
     "data": {
      "text/plain": [
       "0.05894206549118388"
      ]
     },
     "execution_count": 94,
     "metadata": {},
     "output_type": "execute_result"
    }
   ],
   "source": [
    "np.mean(tmgs[idx]['PHOTO_Z'] < 0.5)"
   ]
  },
  {
   "cell_type": "code",
   "execution_count": 95,
   "metadata": {},
   "outputs": [],
   "source": [
    "assigned_tmgs = tmgs[idx]"
   ]
  },
  {
   "cell_type": "code",
   "execution_count": 71,
   "metadata": {},
   "outputs": [],
   "source": [
    "idx, d2d, d3d = sc_target.match_to_catalog_sky(sc_lbgs)"
   ]
  },
  {
   "cell_type": "code",
   "execution_count": 72,
   "metadata": {},
   "outputs": [
    {
     "data": {
      "image/png": "[encoded data removed]",
      "text/plain": [
       "<Figure size 432x288 with 1 Axes>"
      ]
     },
     "metadata": {
      "needs_background": "light"
     },
     "output_type": "display_data"
    }
   ],
   "source": [
    "_ = pl.hist(d2d.arcsec, bins=np.arange(0.0, 1., 0.01))"
   ]
  },
  {
   "cell_type": "code",
   "execution_count": 73,
   "metadata": {},
   "outputs": [
    {
     "data": {
      "text/plain": [
       "0.2808"
      ]
     },
     "execution_count": 73,
     "metadata": {},
     "output_type": "execute_result"
    }
   ],
   "source": [
    "np.mean(d2d.arcsec < 0.1)"
   ]
  },
  {
   "cell_type": "code",
   "execution_count": 74,
   "metadata": {},
   "outputs": [],
   "source": [
    "idx = idx[d2d.arcsec < 0.1]"
   ]
  },
  {
   "cell_type": "code",
   "execution_count": 75,
   "metadata": {},
   "outputs": [
    {
     "data": {
      "text/html": [
       "<i>Table length=1404</i>\n",
       "<table id=\"table46913270567504\" class=\"table-striped table-bordered table-condensed\">\n",
       "<thead><tr><th>ID</th><th>RA</th><th>DEC</th><th>MASK</th><th>FLAG_FIELD</th><th>FLAG_FIELD_BINARY [7]</th><th>EB_V</th><th>FUV_err</th><th>NUV_err</th><th>MAG_ABS_FUV</th><th>MAG_ABS_NUV</th><th>MAG_ABS_u</th><th>MAG_ABS_uS</th><th>MAG_ABS_g</th><th>MAG_ABS_r</th><th>MAG_ABS_i</th><th>MAG_ABS_z</th><th>MAG_ABS_y</th><th>MAG_ABS_Yv</th><th>MAG_ABS_J</th><th>MAG_ABS_H</th><th>MAG_ABS_Ks</th><th>Z_SPEC</th><th>Z_BEST</th><th>NBAND_USED</th><th>CHI_BEST</th><th>CHI_STAR</th><th>CHI_QSO</th><th>MOD_BEST</th><th>MOD_STAR</th><th>MOD_QSO</th><th>Z_ML</th><th>Z_ML68_LOW</th><th>Z_ML68_HIGH</th><th>Z_SEC</th><th>Z_QSO</th><th>Z_BC03</th><th>ZPHOT</th><th>MOD_BEST_BC03</th><th>PRIORITY</th><th>TILEID</th><th>SAMPLE</th><th>TARGETID</th><th>SUBPRIORITY</th><th>PMRA</th><th>PMDEC</th><th>REF_EPOCH</th><th>OVERRIDE</th><th>U</th><th>U_ERR</th><th>US</th><th>US_ERR</th><th>G</th><th>G_ERR</th><th>R</th><th>R_ERR</th><th>I</th><th>I_ERR</th><th>Z</th><th>Z_ERR</th><th>Y</th><th>Y_ERR</th><th>YV</th><th>YV_ERR</th><th>J_ERR</th><th>H_ERR</th><th>KS</th><th>KS_ERR</th></tr></thead>\n",
       "<thead><tr><th>int64</th><th>float64</th><th>float64</th><th>int16</th><th>int16</th><th>bool</th><th>float64</th><th>float64</th><th>float64</th><th>float64</th><th>float64</th><th>float64</th><th>float64</th><th>float64</th><th>float64</th><th>float64</th><th>float64</th><th>float64</th><th>float64</th><th>float64</th><th>float64</th><th>float64</th><th>float64</th><th>float64</th><th>int64</th><th>float64</th><th>float64</th><th>float64</th><th>int64</th><th>int64</th><th>int64</th><th>float64</th><th>float64</th><th>float64</th><th>float64</th><th>float64</th><th>float64</th><th>float64</th><th>int64</th><th>int64</th><th>int32</th><th>bytes9</th><th>int64</th><th>float64</th><th>float32</th><th>float32</th><th>float32</th><th>bool</th><th>float64</th><th>float64</th><th>float64</th><th>float64</th><th>float64</th><th>float64</th><th>float64</th><th>float64</th><th>float64</th><th>float64</th><th>float64</th><th>float64</th><th>float64</th><th>float64</th><th>float64</th><th>float64</th><th>float64</th><th>float64</th><th>float64</th><th>float64</th></tr></thead>\n",
       "<tr><td>1625984</td><td>150.1986239568945</td><td>1.1890183662273563</td><td>0</td><td>7</td><td>True .. False</td><td>0.017085034746864246</td><td>-99.0</td><td>-99.0</td><td>-13.724</td><td>-14.026</td><td>-14.75</td><td>-15.022</td><td>-15.638</td><td>-16.019</td><td>-16.14</td><td>-16.336</td><td>-16.421</td><td>-16.445</td><td>-16.512</td><td>-16.682</td><td>-16.488</td><td>-99.0</td><td>0.1694</td><td>11</td><td>0.432884</td><td>12.7436</td><td>6.33061</td><td>28</td><td>84</td><td>1</td><td>0.1746</td><td>0.1256</td><td>0.2228</td><td>2.7</td><td>0.06</td><td>0.1746</td><td>0.1746</td><td>9</td><td>6000</td><td>2068</td><td>CLAUDS-U</td><td>1701</td><td>0.5017943149913174</td><td>0.0</td><td>0.0</td><td>0.0</td><td>False</td><td>29.983</td><td>1000.0</td><td>25.163</td><td>0.094</td><td>24.193</td><td>0.013</td><td>23.671</td><td>0.015</td><td>23.371</td><td>0.014</td><td>23.286</td><td>0.02</td><td>23.224</td><td>0.05</td><td>-99.021</td><td>1000.0</td><td>1000.0</td><td>1000.0</td><td>-99.006</td><td>1000.0</td></tr>\n",
       "<tr><td>1773782</td><td>149.84749220517747</td><td>1.0345852595890423</td><td>0</td><td>7</td><td>True .. False</td><td>0.020885814870131504</td><td>-99.0</td><td>-99.0</td><td>-21.536</td><td>-21.998</td><td>-22.512</td><td>-22.608</td><td>-22.913</td><td>-23.114</td><td>-23.36</td><td>-23.588</td><td>-23.702</td><td>-23.751</td><td>-23.878</td><td>-24.105</td><td>-23.947</td><td>-99.0</td><td>2.7382</td><td>11</td><td>2.02179</td><td>4.52704</td><td>2.90904</td><td>29</td><td>84</td><td>30</td><td>2.7584</td><td>2.6</td><td>2.8752</td><td>0.08</td><td>2.98</td><td>2.7584</td><td>2.7584</td><td>11</td><td>6000</td><td>2068</td><td>CLAUDS-U</td><td>1845</td><td>0.6718347495840757</td><td>0.0</td><td>0.0</td><td>0.0</td><td>False</td><td>25.905</td><td>0.159</td><td>25.018</td><td>0.227</td><td>24.153</td><td>0.045</td><td>23.709</td><td>0.045</td><td>23.449</td><td>0.046</td><td>23.311</td><td>0.061</td><td>23.207</td><td>0.13</td><td>-99.025</td><td>1000.0</td><td>1000.0</td><td>1000.0</td><td>-99.008</td><td>1000.0</td></tr>\n",
       "<tr><td>1786604</td><td>149.90322794346622</td><td>1.182928932419144</td><td>0</td><td>7</td><td>True .. False</td><td>0.018353040841610702</td><td>-99.0</td><td>-99.0</td><td>-21.387</td><td>-21.653</td><td>-22.191</td><td>-22.34</td><td>-22.752</td><td>-22.941</td><td>-23.125</td><td>-23.299</td><td>-23.399</td><td>-23.433</td><td>-23.508</td><td>-23.678</td><td>-23.488</td><td>-99.0</td><td>2.3644</td><td>11</td><td>2.46471</td><td>27.7334</td><td>10.7802</td><td>31</td><td>49</td><td>4</td><td>2.3181</td><td>0.0404</td><td>2.401</td><td>0.02</td><td>2.44</td><td>2.3181</td><td>2.3181</td><td>3</td><td>6000</td><td>2068</td><td>CLAUDS-BX</td><td>8491</td><td>0.5972551736518854</td><td>0.0</td><td>0.0</td><td>0.0</td><td>False</td><td>24.605</td><td>0.02</td><td>24.402</td><td>0.05</td><td>23.747</td><td>0.01</td><td>23.461</td><td>0.013</td><td>23.379</td><td>0.015</td><td>23.226</td><td>0.02</td><td>23.203</td><td>0.049</td><td>-99.022</td><td>1000.0</td><td>1000.0</td><td>1000.0</td><td>-99.007</td><td>1000.0</td></tr>\n",
       "<tr><td>1700336</td><td>150.0806009679944</td><td>1.2277486590696205</td><td>0</td><td>6</td><td>False .. False</td><td>0.017570328467251768</td><td>-99.0</td><td>-99.0</td><td>-20.748</td><td>-21.128</td><td>-21.597</td><td>-21.716</td><td>-22.077</td><td>-22.276</td><td>-22.453</td><td>-22.609</td><td>-22.691</td><td>-22.715</td><td>-22.802</td><td>-22.922</td><td>-22.688</td><td>-99.0</td><td>0.122</td><td>11</td><td>3.69916</td><td>5.73622</td><td>4.31181</td><td>27</td><td>60</td><td>1</td><td>2.292</td><td>0.0849</td><td>2.5845</td><td>2.46</td><td>0.06</td><td>2.292</td><td>2.292</td><td>7</td><td>4000</td><td>2068</td><td>CLAUDS-BX</td><td>12127</td><td>0.6314747428998438</td><td>0.0</td><td>0.0</td><td>0.0</td><td>False</td><td>25.246</td><td>0.101</td><td>26.491</td><td>0.809</td><td>24.362</td><td>0.036</td><td>24.063</td><td>0.057</td><td>23.869</td><td>0.052</td><td>23.753</td><td>0.08</td><td>23.984</td><td>0.244</td><td>-99.021</td><td>1000.0</td><td>1000.0</td><td>1000.0</td><td>-99.006</td><td>1000.0</td></tr>\n",
       "<tr><td>1697839</td><td>150.05170434580776</td><td>1.1604002297231408</td><td>0</td><td>5</td><td>True .. False</td><td>0.016626839143464446</td><td>-99.0</td><td>-99.0</td><td>-20.711</td><td>-21.388</td><td>-21.723</td><td>-21.792</td><td>-21.965</td><td>-22.046</td><td>-22.148</td><td>-22.241</td><td>-22.281</td><td>-22.288</td><td>-22.294</td><td>-22.31</td><td>-22.01</td><td>-99.0</td><td>3.8376</td><td>9</td><td>0.438052</td><td>2.43904</td><td>0.214632</td><td>23</td><td>108</td><td>8</td><td>3.744</td><td>0.6492</td><td>4.0672</td><td>0.36</td><td>3.6</td><td>3.744</td><td>3.744</td><td>10</td><td>3000</td><td>2068</td><td>CLAUDS-G</td><td>20437</td><td>0.9663537845947289</td><td>0.0</td><td>0.0</td><td>0.0</td><td>False</td><td>-99.08</td><td>-99.0</td><td>-99.078</td><td>-99.0</td><td>27.238</td><td>0.256</td><td>25.517</td><td>0.091</td><td>25.091</td><td>0.081</td><td>24.742</td><td>0.091</td><td>24.926</td><td>0.271</td><td>-99.02</td><td>1000.0</td><td>1000.0</td><td>1000.0</td><td>-99.006</td><td>1000.0</td></tr>\n",
       "<tr><td>1694232</td><td>150.03487280590156</td><td>1.1987929433178963</td><td>0</td><td>7</td><td>True .. False</td><td>0.01682775254143417</td><td>-99.0</td><td>-99.0</td><td>-21.137</td><td>-21.436</td><td>-22.646</td><td>-22.911</td><td>-23.509</td><td>-23.623</td><td>-23.687</td><td>-23.766</td><td>-23.825</td><td>-23.835</td><td>-23.817</td><td>-23.899</td><td>-23.655</td><td>-99.0</td><td>3.0283</td><td>11</td><td>2.64551</td><td>1.80148</td><td>1.93688</td><td>26</td><td>230</td><td>4</td><td>3.0456</td><td>2.9081</td><td>3.1645</td><td>0.14</td><td>2.9</td><td>3.0456</td><td>3.0456</td><td>1</td><td>5000</td><td>2068</td><td>CLAUDS-U</td><td>2703</td><td>0.8229898704404633</td><td>0.0</td><td>0.0</td><td>0.0</td><td>False</td><td>27.842</td><td>1.021</td><td>26.495</td><td>0.255</td><td>25.154</td><td>0.035</td><td>24.396</td><td>0.03</td><td>24.112</td><td>0.028</td><td>24.059</td><td>0.044</td><td>24.042</td><td>0.104</td><td>-99.02</td><td>1000.0</td><td>1000.0</td><td>1000.0</td><td>-99.006</td><td>1000.0</td></tr>\n",
       "<tr><td>1689943</td><td>150.02904548903518</td><td>1.116599179073872</td><td>0</td><td>5</td><td>True .. False</td><td>0.017600038604769025</td><td>-99.0</td><td>-99.0</td><td>-20.185</td><td>-20.838</td><td>-21.753</td><td>-21.933</td><td>-22.523</td><td>-22.891</td><td>-23.195</td><td>-23.427</td><td>-23.546</td><td>-23.582</td><td>-23.704</td><td>-23.908</td><td>-23.768</td><td>-99.0</td><td>3.3663</td><td>11</td><td>0.313395</td><td>0.814328</td><td>0.126764</td><td>26</td><td>96</td><td>2</td><td>3.3258</td><td>0.3711</td><td>3.8641</td><td>0.38</td><td>3.24</td><td>3.3258</td><td>3.3258</td><td>5</td><td>6000</td><td>2068</td><td>CLAUDS-G</td><td>17516</td><td>0.31592665138046083</td><td>0.0</td><td>0.0</td><td>0.0</td><td>False</td><td>32.151</td><td>1000.0</td><td>28.793</td><td>1.851</td><td>27.062</td><td>0.216</td><td>25.645</td><td>0.099</td><td>25.326</td><td>0.093</td><td>24.968</td><td>0.106</td><td>24.957</td><td>0.266</td><td>-99.021</td><td>1000.0</td><td>1000.0</td><td>1000.0</td><td>-99.006</td><td>1000.0</td></tr>\n",
       "<tr><td>1695664</td><td>149.91615107599645</td><td>1.1854004183941942</td><td>0</td><td>7</td><td>True .. False</td><td>0.018082607521284922</td><td>-99.0</td><td>-99.0</td><td>-21.52</td><td>-21.844</td><td>-22.348</td><td>-22.471</td><td>-22.849</td><td>-23.055</td><td>-23.238</td><td>-23.399</td><td>-23.483</td><td>-23.506</td><td>-23.585</td><td>-23.712</td><td>-23.496</td><td>-99.0</td><td>3.2563</td><td>11</td><td>2.98734</td><td>4.61526</td><td>1.25832</td><td>26</td><td>228</td><td>4</td><td>3.2614</td><td>3.1702</td><td>3.3545</td><td>-99.0</td><td>3.1</td><td>3.2614</td><td>3.2614</td><td>10</td><td>4000</td><td>2068</td><td>CLAUDS-U</td><td>3269</td><td>0.09611025066914458</td><td>0.0</td><td>0.0</td><td>0.0</td><td>False</td><td>28.249</td><td>0.501</td><td>28.165</td><td>1.456</td><td>25.185</td><td>0.034</td><td>24.199</td><td>0.021</td><td>23.896</td><td>0.02</td><td>23.789</td><td>0.029</td><td>23.834</td><td>0.071</td><td>-99.022</td><td>1000.0</td><td>1000.0</td><td>1000.0</td><td>-99.007</td><td>1000.0</td></tr>\n",
       "<tr><td>1632288</td><td>150.15882345403958</td><td>1.2423750834277107</td><td>0</td><td>7</td><td>True .. False</td><td>0.0179758520606551</td><td>-99.0</td><td>-99.0</td><td>-13.114</td><td>-13.304</td><td>-14.267</td><td>-14.511</td><td>-15.244</td><td>-15.526</td><td>-15.709</td><td>-15.768</td><td>-15.836</td><td>-15.855</td><td>-15.879</td><td>-16.012</td><td>-15.779</td><td>-99.0</td><td>0.0796</td><td>11</td><td>1.59561</td><td>15.1899</td><td>6.7351</td><td>1</td><td>61</td><td>1</td><td>0.0772</td><td>0.0614</td><td>0.0937</td><td>-99.0</td><td>0.06</td><td>0.0772</td><td>0.0772</td><td>2</td><td>8000</td><td>2068</td><td>CLAUDS-BX</td><td>6333</td><td>0.26694638758639755</td><td>0.0</td><td>0.0</td><td>0.0</td><td>False</td><td>23.69</td><td>0.015</td><td>23.647</td><td>0.045</td><td>22.54</td><td>0.006</td><td>22.16</td><td>0.007</td><td>21.959</td><td>0.007</td><td>21.853</td><td>0.01</td><td>21.874</td><td>0.027</td><td>-99.022</td><td>1000.0</td><td>1000.0</td><td>1000.0</td><td>-99.007</td><td>1000.0</td></tr>\n",
       "<tr><td>1779063</td><td>149.84254078982815</td><td>1.083292893269996</td><td>0</td><td>7</td><td>True .. False</td><td>0.020584631560803663</td><td>-99.0</td><td>-99.0</td><td>-22.227</td><td>-22.673</td><td>-22.75</td><td>-22.812</td><td>-22.963</td><td>-22.994</td><td>-23.047</td><td>-23.126</td><td>-23.163</td><td>-23.168</td><td>-23.178</td><td>-23.209</td><td>-22.929</td><td>-99.0</td><td>3.1222</td><td>11</td><td>5.35124</td><td>21.4769</td><td>4.09728</td><td>31</td><td>62</td><td>20</td><td>3.1353</td><td>3.016</td><td>3.2167</td><td>-99.0</td><td>3.02</td><td>3.1353</td><td>3.1353</td><td>9</td><td>6000</td><td>2068</td><td>CLAUDS-U</td><td>1754</td><td>0.8244194641034064</td><td>0.0</td><td>0.0</td><td>0.0</td><td>False</td><td>26.855</td><td>0.364</td><td>25.725</td><td>0.434</td><td>23.903</td><td>0.033</td><td>23.364</td><td>0.03</td><td>23.339</td><td>0.036</td><td>23.293</td><td>0.053</td><td>22.94</td><td>0.094</td><td>-99.025</td><td>1000.0</td><td>1000.0</td><td>1000.0</td><td>-99.008</td><td>1000.0</td></tr>\n",
       "<tr><td>...</td><td>...</td><td>...</td><td>...</td><td>...</td><td>...</td><td>...</td><td>...</td><td>...</td><td>...</td><td>...</td><td>...</td><td>...</td><td>...</td><td>...</td><td>...</td><td>...</td><td>...</td><td>...</td><td>...</td><td>...</td><td>...</td><td>...</td><td>...</td><td>...</td><td>...</td><td>...</td><td>...</td><td>...</td><td>...</td><td>...</td><td>...</td><td>...</td><td>...</td><td>...</td><td>...</td><td>...</td><td>...</td><td>...</td><td>...</td><td>...</td><td>...</td><td>...</td><td>...</td><td>...</td><td>...</td><td>...</td><td>...</td><td>...</td><td>...</td><td>...</td><td>...</td><td>...</td><td>...</td><td>...</td><td>...</td><td>...</td><td>...</td><td>...</td><td>...</td><td>...</td><td>...</td><td>...</td><td>...</td><td>...</td><td>...</td><td>...</td><td>...</td></tr>\n",
       "<tr><td>2628573</td><td>150.6801477897231</td><td>1.4193554755312168</td><td>0</td><td>7</td><td>True .. False</td><td>0.02249621651936349</td><td>-99.0</td><td>-99.0</td><td>-13.73</td><td>-13.824</td><td>-14.381</td><td>-14.547</td><td>-14.924</td><td>-15.113</td><td>-15.203</td><td>-15.238</td><td>-15.217</td><td>-15.225</td><td>-15.222</td><td>-15.314</td><td>-15.074</td><td>-99.0</td><td>0.0444</td><td>11</td><td>40.8923</td><td>59.6951</td><td>97.2079</td><td>27</td><td>238</td><td>28</td><td>0.0404</td><td>0.0265</td><td>0.054</td><td>-99.0</td><td>0.7</td><td>0.0404</td><td>0.0404</td><td>5</td><td>10000</td><td>2068</td><td>CLAUDS-BX</td><td>4631</td><td>0.935647223155551</td><td>0.0</td><td>0.0</td><td>0.0</td><td>False</td><td>22.112</td><td>0.002</td><td>21.933</td><td>0.003</td><td>21.329</td><td>0.001</td><td>21.102</td><td>0.001</td><td>21.024</td><td>0.001</td><td>20.978</td><td>0.002</td><td>21.033</td><td>0.005</td><td>-99.027</td><td>1000.0</td><td>1000.0</td><td>1000.0</td><td>-99.008</td><td>1000.0</td></tr>\n",
       "<tr><td>2690002</td><td>150.59954442648203</td><td>1.186178383922094</td><td>0</td><td>7</td><td>True .. False</td><td>0.020768725373092246</td><td>-99.0</td><td>-99.0</td><td>-20.618</td><td>-20.925</td><td>-21.821</td><td>-22.035</td><td>-22.728</td><td>-23.126</td><td>-23.412</td><td>-23.61</td><td>-23.708</td><td>-23.738</td><td>-23.833</td><td>-24.032</td><td>-23.841</td><td>-99.0</td><td>2.1453</td><td>11</td><td>3.05734</td><td>60.7861</td><td>3.38581</td><td>31</td><td>48</td><td>28</td><td>2.1708</td><td>2.1194</td><td>2.2263</td><td>-99.0</td><td>2.28</td><td>2.1708</td><td>2.1708</td><td>9</td><td>2000</td><td>2068</td><td>CLAUDS-BX</td><td>13422</td><td>0.5187191596860363</td><td>0.0</td><td>0.0</td><td>0.0</td><td>False</td><td>25.026</td><td>0.031</td><td>24.753</td><td>0.084</td><td>24.323</td><td>0.018</td><td>24.164</td><td>0.025</td><td>23.964</td><td>0.026</td><td>23.707</td><td>0.032</td><td>23.613</td><td>0.073</td><td>-99.025</td><td>1000.0</td><td>1000.0</td><td>1000.0</td><td>-99.008</td><td>1000.0</td></tr>\n",
       "<tr><td>2626514</td><td>150.796281585843</td><td>1.4026040342542956</td><td>0</td><td>7</td><td>True .. False</td><td>0.023183031271292266</td><td>-99.0</td><td>-99.0</td><td>-21.059</td><td>-21.49</td><td>-22.242</td><td>-22.369</td><td>-22.764</td><td>-23.011</td><td>-23.267</td><td>-23.492</td><td>-23.614</td><td>-23.661</td><td>-23.788</td><td>-24.008</td><td>-23.848</td><td>-99.0</td><td>2.8294</td><td>11</td><td>0.839931</td><td>1.52405</td><td>0.781943</td><td>26</td><td>77</td><td>1</td><td>2.7788</td><td>2.453</td><td>2.9624</td><td>0.08</td><td>0.08</td><td>2.7788</td><td>2.7788</td><td>4</td><td>1000</td><td>2068</td><td>CLAUDS-U</td><td>4121</td><td>0.3180355241424493</td><td>0.0</td><td>0.0</td><td>0.0</td><td>False</td><td>26.499</td><td>0.304</td><td>26.01</td><td>0.327</td><td>24.665</td><td>0.072</td><td>24.198</td><td>0.071</td><td>23.861</td><td>0.064</td><td>23.842</td><td>0.098</td><td>23.625</td><td>0.198</td><td>-99.028</td><td>1000.0</td><td>1000.0</td><td>1000.0</td><td>-99.008</td><td>1000.0</td></tr>\n",
       "<tr><td>2699327</td><td>150.59797287792586</td><td>1.2576531508870985</td><td>0</td><td>7</td><td>True .. False</td><td>0.02133980978685171</td><td>-99.0</td><td>-99.0</td><td>-20.514</td><td>-20.822</td><td>-20.974</td><td>-21.073</td><td>-21.379</td><td>-21.552</td><td>-21.714</td><td>-21.861</td><td>-21.937</td><td>-21.958</td><td>-22.038</td><td>-22.147</td><td>-21.912</td><td>-99.0</td><td>2.4199</td><td>11</td><td>2.99393</td><td>8.93276</td><td>5.06644</td><td>33</td><td>53</td><td>28</td><td>2.3377</td><td>0.0606</td><td>2.5162</td><td>0.06</td><td>0.74</td><td>2.3377</td><td>2.3377</td><td>10</td><td>9000</td><td>2068</td><td>CLAUDS-BX</td><td>6105</td><td>0.46078645464222956</td><td>0.0</td><td>0.0</td><td>0.0</td><td>False</td><td>25.586</td><td>0.037</td><td>25.522</td><td>0.138</td><td>24.655</td><td>0.019</td><td>24.357</td><td>0.024</td><td>24.219</td><td>0.025</td><td>24.049</td><td>0.036</td><td>24.345</td><td>0.125</td><td>-99.026</td><td>1000.0</td><td>1000.0</td><td>1000.0</td><td>-99.008</td><td>1000.0</td></tr>\n",
       "<tr><td>2698433</td><td>150.54557092187903</td><td>1.2476442624910853</td><td>0</td><td>7</td><td>True .. False</td><td>0.020549282355672986</td><td>-99.0</td><td>-99.0</td><td>-21.178</td><td>-21.391</td><td>-21.814</td><td>-21.959</td><td>-22.357</td><td>-22.512</td><td>-22.652</td><td>-22.785</td><td>-22.85</td><td>-22.863</td><td>-22.885</td><td>-22.988</td><td>-22.772</td><td>-99.0</td><td>0.106</td><td>11</td><td>1.91586</td><td>4.89554</td><td>5.01601</td><td>1</td><td>53</td><td>4</td><td>2.6141</td><td>2.4418</td><td>2.7109</td><td>2.64</td><td>2.56</td><td>2.6141</td><td>2.6141</td><td>5</td><td>2000</td><td>2068</td><td>CLAUDS-BX</td><td>13644</td><td>0.16934047684491083</td><td>0.0</td><td>0.0</td><td>0.0</td><td>False</td><td>25.366</td><td>0.032</td><td>25.572</td><td>0.138</td><td>24.315</td><td>0.013</td><td>24.013</td><td>0.018</td><td>23.901</td><td>0.019</td><td>23.834</td><td>0.028</td><td>23.864</td><td>0.075</td><td>-99.025</td><td>1000.0</td><td>1000.0</td><td>1000.0</td><td>-99.008</td><td>1000.0</td></tr>\n",
       "<tr><td>2617670</td><td>150.75192694927892</td><td>1.3232632797375476</td><td>0</td><td>7</td><td>True .. False</td><td>0.023086730868908834</td><td>-99.0</td><td>-99.0</td><td>-9.56</td><td>-12.908</td><td>-15.968</td><td>-16.261</td><td>-17.085</td><td>-17.755</td><td>-17.974</td><td>-18.172</td><td>-18.284</td><td>-18.322</td><td>-18.395</td><td>-18.567</td><td>-18.321</td><td>-99.0</td><td>2.6905</td><td>11</td><td>13.5849</td><td>1.84586</td><td>5.56536</td><td>26</td><td>108</td><td>1</td><td>0.3827</td><td>0.3068</td><td>0.446</td><td>0.4</td><td>3.38</td><td>0.3827</td><td>0.3827</td><td>1</td><td>2000</td><td>2068</td><td>CLAUDS-U</td><td>3926</td><td>0.6891345080129622</td><td>0.0</td><td>0.0</td><td>0.0</td><td>False</td><td>28.97</td><td>0.946</td><td>27.938</td><td>0.817</td><td>25.488</td><td>0.038</td><td>24.318</td><td>0.021</td><td>23.708</td><td>0.015</td><td>23.373</td><td>0.016</td><td>23.376</td><td>0.04</td><td>-99.028</td><td>1000.0</td><td>1000.0</td><td>1000.0</td><td>-99.008</td><td>1000.0</td></tr>\n",
       "<tr><td>2612121</td><td>150.70509806962528</td><td>1.2709544500947263</td><td>0</td><td>7</td><td>True .. False</td><td>0.022544880483605576</td><td>-99.0</td><td>-99.0</td><td>-20.64</td><td>-20.903</td><td>-21.31</td><td>-21.408</td><td>-21.714</td><td>-21.887</td><td>-22.049</td><td>-22.196</td><td>-22.272</td><td>-22.293</td><td>-22.373</td><td>-22.482</td><td>-22.247</td><td>-99.0</td><td>2.2325</td><td>11</td><td>6.73236</td><td>42.3927</td><td>7.27454</td><td>32</td><td>49</td><td>28</td><td>2.2364</td><td>0.0572</td><td>2.3576</td><td>0.06</td><td>0.8</td><td>2.2364</td><td>2.2364</td><td>10</td><td>6000</td><td>2068</td><td>CLAUDS-BX</td><td>8198</td><td>0.8229247559075629</td><td>0.0</td><td>0.0</td><td>0.0</td><td>False</td><td>25.133</td><td>0.028</td><td>25.443</td><td>0.132</td><td>24.388</td><td>0.016</td><td>24.173</td><td>0.02</td><td>24.038</td><td>0.023</td><td>23.804</td><td>0.027</td><td>23.909</td><td>0.08</td><td>-99.027</td><td>1000.0</td><td>1000.0</td><td>1000.0</td><td>-99.008</td><td>1000.0</td></tr>\n",
       "<tr><td>2700632</td><td>150.5537188476106</td><td>1.2718462354869011</td><td>0</td><td>7</td><td>True .. False</td><td>0.02052474644475182</td><td>-99.0</td><td>-99.0</td><td>-21.625</td><td>-21.903</td><td>-22.123</td><td>-22.203</td><td>-22.458</td><td>-22.6</td><td>-22.737</td><td>-22.866</td><td>-22.931</td><td>-22.948</td><td>-23.007</td><td>-23.089</td><td>-22.849</td><td>-99.0</td><td>2.4935</td><td>11</td><td>1.58958</td><td>13.1117</td><td>7.55163</td><td>33</td><td>60</td><td>1</td><td>2.5216</td><td>2.4513</td><td>2.5907</td><td>0.08</td><td>0.06</td><td>2.5216</td><td>2.5216</td><td>10</td><td>10000</td><td>2068</td><td>CLAUDS-BX</td><td>4675</td><td>0.023478127454005238</td><td>0.0</td><td>0.0</td><td>0.0</td><td>False</td><td>24.818</td><td>0.021</td><td>24.763</td><td>0.077</td><td>23.779</td><td>0.01</td><td>23.492</td><td>0.012</td><td>23.321</td><td>0.013</td><td>23.215</td><td>0.019</td><td>23.308</td><td>0.055</td><td>-99.025</td><td>1000.0</td><td>1000.0</td><td>1000.0</td><td>-99.007</td><td>1000.0</td></tr>\n",
       "<tr><td>2696300</td><td>150.4939720542818</td><td>1.2233894240993335</td><td>0</td><td>7</td><td>True .. False</td><td>0.02012779348385862</td><td>-99.0</td><td>-99.0</td><td>-13.463</td><td>-13.449</td><td>-14.131</td><td>-14.342</td><td>-15.231</td><td>-15.528</td><td>-15.734</td><td>-15.886</td><td>-15.947</td><td>-15.964</td><td>-15.996</td><td>-16.132</td><td>-15.868</td><td>-99.0</td><td>0.0801</td><td>11</td><td>5.36599</td><td>67.4402</td><td>15.3667</td><td>25</td><td>64</td><td>4</td><td>0.0792</td><td>0.0545</td><td>0.0989</td><td>-99.0</td><td>0.08</td><td>0.0792</td><td>0.0792</td><td>9</td><td>9000</td><td>2068</td><td>CLAUDS-BX</td><td>5703</td><td>0.20131695186665788</td><td>0.0</td><td>0.0</td><td>0.0</td><td>False</td><td>23.746</td><td>0.016</td><td>23.813</td><td>0.068</td><td>22.63</td><td>0.006</td><td>22.239</td><td>0.007</td><td>21.999</td><td>0.006</td><td>21.852</td><td>0.009</td><td>21.816</td><td>0.022</td><td>-99.024</td><td>1000.0</td><td>1000.0</td><td>1000.0</td><td>-99.007</td><td>1000.0</td></tr>\n",
       "<tr><td>2622919</td><td>150.78439012122803</td><td>1.3873788294753104</td><td>0</td><td>7</td><td>True .. False</td><td>0.023294416943326644</td><td>-99.0</td><td>-99.0</td><td>-20.627</td><td>-21.037</td><td>-21.802</td><td>-21.97</td><td>-22.485</td><td>-22.767</td><td>-23.0</td><td>-23.186</td><td>-23.28</td><td>-23.306</td><td>-23.384</td><td>-23.546</td><td>-23.37</td><td>-99.0</td><td>2.1827</td><td>11</td><td>6.58116</td><td>91.7749</td><td>7.98837</td><td>32</td><td>53</td><td>4</td><td>2.2116</td><td>2.1568</td><td>2.2817</td><td>-99.0</td><td>0.0</td><td>2.2116</td><td>2.2116</td><td>10</td><td>4000</td><td>2068</td><td>CLAUDS-BX</td><td>12136</td><td>0.8646813366309757</td><td>0.0</td><td>0.0</td><td>0.0</td><td>False</td><td>25.214</td><td>0.022</td><td>25.033</td><td>0.031</td><td>24.376</td><td>0.013</td><td>24.128</td><td>0.017</td><td>23.878</td><td>0.016</td><td>23.681</td><td>0.02</td><td>23.581</td><td>0.05</td><td>-99.028</td><td>1000.0</td><td>1000.0</td><td>1000.0</td><td>-99.009</td><td>1000.0</td></tr>\n",
       "</table>"
      ],
      "text/plain": [
       "<Table length=1404>\n",
       "   ID           RA                DEC          MASK ...  H_ERR     KS    KS_ERR\n",
       " int64       float64            float64       int16 ... float64 float64 float64\n",
       "------- ------------------ ------------------ ----- ... ------- ------- -------\n",
       "1625984  150.1986239568945 1.1890183662273563     0 ...  1000.0 -99.006  1000.0\n",
       "1773782 149.84749220517747 1.0345852595890423     0 ...  1000.0 -99.008  1000.0\n",
       "1786604 149.90322794346622  1.182928932419144     0 ...  1000.0 -99.007  1000.0\n",
       "1700336  150.0806009679944 1.2277486590696205     0 ...  1000.0 -99.006  1000.0\n",
       "1697839 150.05170434580776 1.1604002297231408     0 ...  1000.0 -99.006  1000.0\n",
       "1694232 150.03487280590156 1.1987929433178963     0 ...  1000.0 -99.006  1000.0\n",
       "1689943 150.02904548903518  1.116599179073872     0 ...  1000.0 -99.006  1000.0\n",
       "1695664 149.91615107599645 1.1854004183941942     0 ...  1000.0 -99.007  1000.0\n",
       "1632288 150.15882345403958 1.2423750834277107     0 ...  1000.0 -99.007  1000.0\n",
       "1779063 149.84254078982815  1.083292893269996     0 ...  1000.0 -99.008  1000.0\n",
       "    ...                ...                ...   ... ...     ...     ...     ...\n",
       "2628573  150.6801477897231 1.4193554755312168     0 ...  1000.0 -99.008  1000.0\n",
       "2690002 150.59954442648203  1.186178383922094     0 ...  1000.0 -99.008  1000.0\n",
       "2626514   150.796281585843 1.4026040342542956     0 ...  1000.0 -99.008  1000.0\n",
       "2699327 150.59797287792586 1.2576531508870985     0 ...  1000.0 -99.008  1000.0\n",
       "2698433 150.54557092187903 1.2476442624910853     0 ...  1000.0 -99.008  1000.0\n",
       "2617670 150.75192694927892 1.3232632797375476     0 ...  1000.0 -99.008  1000.0\n",
       "2612121 150.70509806962528 1.2709544500947263     0 ...  1000.0 -99.008  1000.0\n",
       "2700632  150.5537188476106 1.2718462354869011     0 ...  1000.0 -99.007  1000.0\n",
       "2696300  150.4939720542818 1.2233894240993335     0 ...  1000.0 -99.007  1000.0\n",
       "2622919 150.78439012122803 1.3873788294753104     0 ...  1000.0 -99.009  1000.0"
      ]
     },
     "execution_count": 75,
     "metadata": {},
     "output_type": "execute_result"
    }
   ],
   "source": [
    "lbgs[idx]"
   ]
  },
  {
   "cell_type": "code",
   "execution_count": 76,
   "metadata": {},
   "outputs": [
    {
     "data": {
      "text/plain": [
       "(<Column name='SAMPLE' dtype='bytes9' length=3>\n",
       " CLAUDS-BX\n",
       "  CLAUDS-G\n",
       "  CLAUDS-U,\n",
       " array([500, 602, 302]))"
      ]
     },
     "execution_count": 76,
     "metadata": {},
     "output_type": "execute_result"
    }
   ],
   "source": [
    "np.unique(lbgs[idx]['SAMPLE'], return_counts=True)"
   ]
  },
  {
   "cell_type": "code",
   "execution_count": 77,
   "metadata": {},
   "outputs": [
    {
     "data": {
      "text/plain": [
       "(array([62., 34.,  9., 16., 14.,  8.,  1.,  3.,  2.,  4.,  3.,  2.,  3.,\n",
       "         5.,  3.,  6.,  3.,  0.,  5., 12., 25., 51., 69., 87., 31., 38.,\n",
       "        43., 58., 46., 68., 49., 50., 49., 50., 61., 81., 79., 71., 67.,\n",
       "        46., 29., 18., 18., 17.,  4.,  1.,  0.,  0.,  0.]),\n",
       " array([0. , 0.1, 0.2, 0.3, 0.4, 0.5, 0.6, 0.7, 0.8, 0.9, 1. , 1.1, 1.2,\n",
       "        1.3, 1.4, 1.5, 1.6, 1.7, 1.8, 1.9, 2. , 2.1, 2.2, 2.3, 2.4, 2.5,\n",
       "        2.6, 2.7, 2.8, 2.9, 3. , 3.1, 3.2, 3.3, 3.4, 3.5, 3.6, 3.7, 3.8,\n",
       "        3.9, 4. , 4.1, 4.2, 4.3, 4.4, 4.5, 4.6, 4.7, 4.8, 4.9]),\n",
       " <a list of 49 Patch objects>)"
      ]
     },
     "execution_count": 77,
     "metadata": {},
     "output_type": "execute_result"
    },
    {
     "data": {
      "image/png": "[encoded data removed]",
      "text/plain": [
       "<Figure size 432x288 with 1 Axes>"
      ]
     },
     "metadata": {
      "needs_background": "light"
     },
     "output_type": "display_data"
    }
   ],
   "source": [
    "pl.hist(lbgs[idx]['Z_BC03'], bins=np.arange(0.0, 5.0, 0.1))"
   ]
  },
  {
   "cell_type": "code",
   "execution_count": 78,
   "metadata": {},
   "outputs": [
    {
     "data": {
      "text/plain": [
       "0.09829059829059829"
      ]
     },
     "execution_count": 78,
     "metadata": {},
     "output_type": "execute_result"
    }
   ],
   "source": [
    "np.mean(lbgs[idx]['Z_BC03'] < 0.5)"
   ]
  },
  {
   "cell_type": "code",
   "execution_count": 80,
   "metadata": {},
   "outputs": [],
   "source": [
    "assigned_lbgs = lbgs[idx]"
   ]
  },
  {
   "cell_type": "code",
   "execution_count": 97,
   "metadata": {},
   "outputs": [
    {
     "data": {
      "text/html": [
       "<i>Table length=1404</i>\n",
       "<table id=\"table46913271760592\" class=\"table-striped table-bordered table-condensed\">\n",
       "<thead><tr><th>ID</th><th>RA</th><th>DEC</th><th>MASK</th><th>FLAG_FIELD</th><th>FLAG_FIELD_BINARY [7]</th><th>EB_V</th><th>FUV_err</th><th>NUV_err</th><th>MAG_ABS_FUV</th><th>MAG_ABS_NUV</th><th>MAG_ABS_u</th><th>MAG_ABS_uS</th><th>MAG_ABS_g</th><th>MAG_ABS_r</th><th>MAG_ABS_i</th><th>MAG_ABS_z</th><th>MAG_ABS_y</th><th>MAG_ABS_Yv</th><th>MAG_ABS_J</th><th>MAG_ABS_H</th><th>MAG_ABS_Ks</th><th>Z_SPEC</th><th>Z_BEST</th><th>NBAND_USED</th><th>CHI_BEST</th><th>CHI_STAR</th><th>CHI_QSO</th><th>MOD_BEST</th><th>MOD_STAR</th><th>MOD_QSO</th><th>Z_ML</th><th>Z_ML68_LOW</th><th>Z_ML68_HIGH</th><th>Z_SEC</th><th>Z_QSO</th><th>Z_BC03</th><th>ZPHOT</th><th>MOD_BEST_BC03</th><th>PRIORITY</th><th>TILEID</th><th>SAMPLE</th><th>TARGETID</th><th>SUBPRIORITY</th><th>PMRA</th><th>PMDEC</th><th>REF_EPOCH</th><th>OVERRIDE</th><th>U</th><th>U_ERR</th><th>US</th><th>US_ERR</th><th>G</th><th>G_ERR</th><th>R</th><th>R_ERR</th><th>I</th><th>I_ERR</th><th>Z</th><th>Z_ERR</th><th>Y</th><th>Y_ERR</th><th>YV</th><th>YV_ERR</th><th>J_ERR</th><th>H_ERR</th><th>KS</th><th>KS_ERR</th></tr></thead>\n",
       "<thead><tr><th>int64</th><th>float64</th><th>float64</th><th>int16</th><th>int16</th><th>bool</th><th>float64</th><th>float64</th><th>float64</th><th>float64</th><th>float64</th><th>float64</th><th>float64</th><th>float64</th><th>float64</th><th>float64</th><th>float64</th><th>float64</th><th>float64</th><th>float64</th><th>float64</th><th>float64</th><th>float64</th><th>float64</th><th>int64</th><th>float64</th><th>float64</th><th>float64</th><th>int64</th><th>int64</th><th>int64</th><th>float64</th><th>float64</th><th>float64</th><th>float64</th><th>float64</th><th>float64</th><th>float64</th><th>int64</th><th>int64</th><th>int32</th><th>bytes9</th><th>int64</th><th>float64</th><th>float32</th><th>float32</th><th>float32</th><th>bool</th><th>float64</th><th>float64</th><th>float64</th><th>float64</th><th>float64</th><th>float64</th><th>float64</th><th>float64</th><th>float64</th><th>float64</th><th>float64</th><th>float64</th><th>float64</th><th>float64</th><th>float64</th><th>float64</th><th>float64</th><th>float64</th><th>float64</th><th>float64</th></tr></thead>\n",
       "<tr><td>1625984</td><td>150.1986239568945</td><td>1.1890183662273563</td><td>0</td><td>7</td><td>True .. False</td><td>0.017085034746864246</td><td>-99.0</td><td>-99.0</td><td>-13.724</td><td>-14.026</td><td>-14.75</td><td>-15.022</td><td>-15.638</td><td>-16.019</td><td>-16.14</td><td>-16.336</td><td>-16.421</td><td>-16.445</td><td>-16.512</td><td>-16.682</td><td>-16.488</td><td>-99.0</td><td>0.1694</td><td>11</td><td>0.432884</td><td>12.7436</td><td>6.33061</td><td>28</td><td>84</td><td>1</td><td>0.1746</td><td>0.1256</td><td>0.2228</td><td>2.7</td><td>0.06</td><td>0.1746</td><td>0.1746</td><td>9</td><td>6000</td><td>2068</td><td>CLAUDS-U</td><td>1701</td><td>0.5017943149913174</td><td>0.0</td><td>0.0</td><td>0.0</td><td>False</td><td>29.983</td><td>1000.0</td><td>25.163</td><td>0.094</td><td>24.193</td><td>0.013</td><td>23.671</td><td>0.015</td><td>23.371</td><td>0.014</td><td>23.286</td><td>0.02</td><td>23.224</td><td>0.05</td><td>-99.021</td><td>1000.0</td><td>1000.0</td><td>1000.0</td><td>-99.006</td><td>1000.0</td></tr>\n",
       "<tr><td>1773782</td><td>149.84749220517747</td><td>1.0345852595890423</td><td>0</td><td>7</td><td>True .. False</td><td>0.020885814870131504</td><td>-99.0</td><td>-99.0</td><td>-21.536</td><td>-21.998</td><td>-22.512</td><td>-22.608</td><td>-22.913</td><td>-23.114</td><td>-23.36</td><td>-23.588</td><td>-23.702</td><td>-23.751</td><td>-23.878</td><td>-24.105</td><td>-23.947</td><td>-99.0</td><td>2.7382</td><td>11</td><td>2.02179</td><td>4.52704</td><td>2.90904</td><td>29</td><td>84</td><td>30</td><td>2.7584</td><td>2.6</td><td>2.8752</td><td>0.08</td><td>2.98</td><td>2.7584</td><td>2.7584</td><td>11</td><td>6000</td><td>2068</td><td>CLAUDS-U</td><td>1845</td><td>0.6718347495840757</td><td>0.0</td><td>0.0</td><td>0.0</td><td>False</td><td>25.905</td><td>0.159</td><td>25.018</td><td>0.227</td><td>24.153</td><td>0.045</td><td>23.709</td><td>0.045</td><td>23.449</td><td>0.046</td><td>23.311</td><td>0.061</td><td>23.207</td><td>0.13</td><td>-99.025</td><td>1000.0</td><td>1000.0</td><td>1000.0</td><td>-99.008</td><td>1000.0</td></tr>\n",
       "<tr><td>1786604</td><td>149.90322794346622</td><td>1.182928932419144</td><td>0</td><td>7</td><td>True .. False</td><td>0.018353040841610702</td><td>-99.0</td><td>-99.0</td><td>-21.387</td><td>-21.653</td><td>-22.191</td><td>-22.34</td><td>-22.752</td><td>-22.941</td><td>-23.125</td><td>-23.299</td><td>-23.399</td><td>-23.433</td><td>-23.508</td><td>-23.678</td><td>-23.488</td><td>-99.0</td><td>2.3644</td><td>11</td><td>2.46471</td><td>27.7334</td><td>10.7802</td><td>31</td><td>49</td><td>4</td><td>2.3181</td><td>0.0404</td><td>2.401</td><td>0.02</td><td>2.44</td><td>2.3181</td><td>2.3181</td><td>3</td><td>6000</td><td>2068</td><td>CLAUDS-BX</td><td>8491</td><td>0.5972551736518854</td><td>0.0</td><td>0.0</td><td>0.0</td><td>False</td><td>24.605</td><td>0.02</td><td>24.402</td><td>0.05</td><td>23.747</td><td>0.01</td><td>23.461</td><td>0.013</td><td>23.379</td><td>0.015</td><td>23.226</td><td>0.02</td><td>23.203</td><td>0.049</td><td>-99.022</td><td>1000.0</td><td>1000.0</td><td>1000.0</td><td>-99.007</td><td>1000.0</td></tr>\n",
       "<tr><td>1700336</td><td>150.0806009679944</td><td>1.2277486590696205</td><td>0</td><td>6</td><td>False .. False</td><td>0.017570328467251768</td><td>-99.0</td><td>-99.0</td><td>-20.748</td><td>-21.128</td><td>-21.597</td><td>-21.716</td><td>-22.077</td><td>-22.276</td><td>-22.453</td><td>-22.609</td><td>-22.691</td><td>-22.715</td><td>-22.802</td><td>-22.922</td><td>-22.688</td><td>-99.0</td><td>0.122</td><td>11</td><td>3.69916</td><td>5.73622</td><td>4.31181</td><td>27</td><td>60</td><td>1</td><td>2.292</td><td>0.0849</td><td>2.5845</td><td>2.46</td><td>0.06</td><td>2.292</td><td>2.292</td><td>7</td><td>4000</td><td>2068</td><td>CLAUDS-BX</td><td>12127</td><td>0.6314747428998438</td><td>0.0</td><td>0.0</td><td>0.0</td><td>False</td><td>25.246</td><td>0.101</td><td>26.491</td><td>0.809</td><td>24.362</td><td>0.036</td><td>24.063</td><td>0.057</td><td>23.869</td><td>0.052</td><td>23.753</td><td>0.08</td><td>23.984</td><td>0.244</td><td>-99.021</td><td>1000.0</td><td>1000.0</td><td>1000.0</td><td>-99.006</td><td>1000.0</td></tr>\n",
       "<tr><td>1697839</td><td>150.05170434580776</td><td>1.1604002297231408</td><td>0</td><td>5</td><td>True .. False</td><td>0.016626839143464446</td><td>-99.0</td><td>-99.0</td><td>-20.711</td><td>-21.388</td><td>-21.723</td><td>-21.792</td><td>-21.965</td><td>-22.046</td><td>-22.148</td><td>-22.241</td><td>-22.281</td><td>-22.288</td><td>-22.294</td><td>-22.31</td><td>-22.01</td><td>-99.0</td><td>3.8376</td><td>9</td><td>0.438052</td><td>2.43904</td><td>0.214632</td><td>23</td><td>108</td><td>8</td><td>3.744</td><td>0.6492</td><td>4.0672</td><td>0.36</td><td>3.6</td><td>3.744</td><td>3.744</td><td>10</td><td>3000</td><td>2068</td><td>CLAUDS-G</td><td>20437</td><td>0.9663537845947289</td><td>0.0</td><td>0.0</td><td>0.0</td><td>False</td><td>-99.08</td><td>-99.0</td><td>-99.078</td><td>-99.0</td><td>27.238</td><td>0.256</td><td>25.517</td><td>0.091</td><td>25.091</td><td>0.081</td><td>24.742</td><td>0.091</td><td>24.926</td><td>0.271</td><td>-99.02</td><td>1000.0</td><td>1000.0</td><td>1000.0</td><td>-99.006</td><td>1000.0</td></tr>\n",
       "<tr><td>1694232</td><td>150.03487280590156</td><td>1.1987929433178963</td><td>0</td><td>7</td><td>True .. False</td><td>0.01682775254143417</td><td>-99.0</td><td>-99.0</td><td>-21.137</td><td>-21.436</td><td>-22.646</td><td>-22.911</td><td>-23.509</td><td>-23.623</td><td>-23.687</td><td>-23.766</td><td>-23.825</td><td>-23.835</td><td>-23.817</td><td>-23.899</td><td>-23.655</td><td>-99.0</td><td>3.0283</td><td>11</td><td>2.64551</td><td>1.80148</td><td>1.93688</td><td>26</td><td>230</td><td>4</td><td>3.0456</td><td>2.9081</td><td>3.1645</td><td>0.14</td><td>2.9</td><td>3.0456</td><td>3.0456</td><td>1</td><td>5000</td><td>2068</td><td>CLAUDS-U</td><td>2703</td><td>0.8229898704404633</td><td>0.0</td><td>0.0</td><td>0.0</td><td>False</td><td>27.842</td><td>1.021</td><td>26.495</td><td>0.255</td><td>25.154</td><td>0.035</td><td>24.396</td><td>0.03</td><td>24.112</td><td>0.028</td><td>24.059</td><td>0.044</td><td>24.042</td><td>0.104</td><td>-99.02</td><td>1000.0</td><td>1000.0</td><td>1000.0</td><td>-99.006</td><td>1000.0</td></tr>\n",
       "<tr><td>1689943</td><td>150.02904548903518</td><td>1.116599179073872</td><td>0</td><td>5</td><td>True .. False</td><td>0.017600038604769025</td><td>-99.0</td><td>-99.0</td><td>-20.185</td><td>-20.838</td><td>-21.753</td><td>-21.933</td><td>-22.523</td><td>-22.891</td><td>-23.195</td><td>-23.427</td><td>-23.546</td><td>-23.582</td><td>-23.704</td><td>-23.908</td><td>-23.768</td><td>-99.0</td><td>3.3663</td><td>11</td><td>0.313395</td><td>0.814328</td><td>0.126764</td><td>26</td><td>96</td><td>2</td><td>3.3258</td><td>0.3711</td><td>3.8641</td><td>0.38</td><td>3.24</td><td>3.3258</td><td>3.3258</td><td>5</td><td>6000</td><td>2068</td><td>CLAUDS-G</td><td>17516</td><td>0.31592665138046083</td><td>0.0</td><td>0.0</td><td>0.0</td><td>False</td><td>32.151</td><td>1000.0</td><td>28.793</td><td>1.851</td><td>27.062</td><td>0.216</td><td>25.645</td><td>0.099</td><td>25.326</td><td>0.093</td><td>24.968</td><td>0.106</td><td>24.957</td><td>0.266</td><td>-99.021</td><td>1000.0</td><td>1000.0</td><td>1000.0</td><td>-99.006</td><td>1000.0</td></tr>\n",
       "<tr><td>1695664</td><td>149.91615107599645</td><td>1.1854004183941942</td><td>0</td><td>7</td><td>True .. False</td><td>0.018082607521284922</td><td>-99.0</td><td>-99.0</td><td>-21.52</td><td>-21.844</td><td>-22.348</td><td>-22.471</td><td>-22.849</td><td>-23.055</td><td>-23.238</td><td>-23.399</td><td>-23.483</td><td>-23.506</td><td>-23.585</td><td>-23.712</td><td>-23.496</td><td>-99.0</td><td>3.2563</td><td>11</td><td>2.98734</td><td>4.61526</td><td>1.25832</td><td>26</td><td>228</td><td>4</td><td>3.2614</td><td>3.1702</td><td>3.3545</td><td>-99.0</td><td>3.1</td><td>3.2614</td><td>3.2614</td><td>10</td><td>4000</td><td>2068</td><td>CLAUDS-U</td><td>3269</td><td>0.09611025066914458</td><td>0.0</td><td>0.0</td><td>0.0</td><td>False</td><td>28.249</td><td>0.501</td><td>28.165</td><td>1.456</td><td>25.185</td><td>0.034</td><td>24.199</td><td>0.021</td><td>23.896</td><td>0.02</td><td>23.789</td><td>0.029</td><td>23.834</td><td>0.071</td><td>-99.022</td><td>1000.0</td><td>1000.0</td><td>1000.0</td><td>-99.007</td><td>1000.0</td></tr>\n",
       "<tr><td>1632288</td><td>150.15882345403958</td><td>1.2423750834277107</td><td>0</td><td>7</td><td>True .. False</td><td>0.0179758520606551</td><td>-99.0</td><td>-99.0</td><td>-13.114</td><td>-13.304</td><td>-14.267</td><td>-14.511</td><td>-15.244</td><td>-15.526</td><td>-15.709</td><td>-15.768</td><td>-15.836</td><td>-15.855</td><td>-15.879</td><td>-16.012</td><td>-15.779</td><td>-99.0</td><td>0.0796</td><td>11</td><td>1.59561</td><td>15.1899</td><td>6.7351</td><td>1</td><td>61</td><td>1</td><td>0.0772</td><td>0.0614</td><td>0.0937</td><td>-99.0</td><td>0.06</td><td>0.0772</td><td>0.0772</td><td>2</td><td>8000</td><td>2068</td><td>CLAUDS-BX</td><td>6333</td><td>0.26694638758639755</td><td>0.0</td><td>0.0</td><td>0.0</td><td>False</td><td>23.69</td><td>0.015</td><td>23.647</td><td>0.045</td><td>22.54</td><td>0.006</td><td>22.16</td><td>0.007</td><td>21.959</td><td>0.007</td><td>21.853</td><td>0.01</td><td>21.874</td><td>0.027</td><td>-99.022</td><td>1000.0</td><td>1000.0</td><td>1000.0</td><td>-99.007</td><td>1000.0</td></tr>\n",
       "<tr><td>1779063</td><td>149.84254078982815</td><td>1.083292893269996</td><td>0</td><td>7</td><td>True .. False</td><td>0.020584631560803663</td><td>-99.0</td><td>-99.0</td><td>-22.227</td><td>-22.673</td><td>-22.75</td><td>-22.812</td><td>-22.963</td><td>-22.994</td><td>-23.047</td><td>-23.126</td><td>-23.163</td><td>-23.168</td><td>-23.178</td><td>-23.209</td><td>-22.929</td><td>-99.0</td><td>3.1222</td><td>11</td><td>5.35124</td><td>21.4769</td><td>4.09728</td><td>31</td><td>62</td><td>20</td><td>3.1353</td><td>3.016</td><td>3.2167</td><td>-99.0</td><td>3.02</td><td>3.1353</td><td>3.1353</td><td>9</td><td>6000</td><td>2068</td><td>CLAUDS-U</td><td>1754</td><td>0.8244194641034064</td><td>0.0</td><td>0.0</td><td>0.0</td><td>False</td><td>26.855</td><td>0.364</td><td>25.725</td><td>0.434</td><td>23.903</td><td>0.033</td><td>23.364</td><td>0.03</td><td>23.339</td><td>0.036</td><td>23.293</td><td>0.053</td><td>22.94</td><td>0.094</td><td>-99.025</td><td>1000.0</td><td>1000.0</td><td>1000.0</td><td>-99.008</td><td>1000.0</td></tr>\n",
       "<tr><td>...</td><td>...</td><td>...</td><td>...</td><td>...</td><td>...</td><td>...</td><td>...</td><td>...</td><td>...</td><td>...</td><td>...</td><td>...</td><td>...</td><td>...</td><td>...</td><td>...</td><td>...</td><td>...</td><td>...</td><td>...</td><td>...</td><td>...</td><td>...</td><td>...</td><td>...</td><td>...</td><td>...</td><td>...</td><td>...</td><td>...</td><td>...</td><td>...</td><td>...</td><td>...</td><td>...</td><td>...</td><td>...</td><td>...</td><td>...</td><td>...</td><td>...</td><td>...</td><td>...</td><td>...</td><td>...</td><td>...</td><td>...</td><td>...</td><td>...</td><td>...</td><td>...</td><td>...</td><td>...</td><td>...</td><td>...</td><td>...</td><td>...</td><td>...</td><td>...</td><td>...</td><td>...</td><td>...</td><td>...</td><td>...</td><td>...</td><td>...</td><td>...</td></tr>\n",
       "<tr><td>2628573</td><td>150.6801477897231</td><td>1.4193554755312168</td><td>0</td><td>7</td><td>True .. False</td><td>0.02249621651936349</td><td>-99.0</td><td>-99.0</td><td>-13.73</td><td>-13.824</td><td>-14.381</td><td>-14.547</td><td>-14.924</td><td>-15.113</td><td>-15.203</td><td>-15.238</td><td>-15.217</td><td>-15.225</td><td>-15.222</td><td>-15.314</td><td>-15.074</td><td>-99.0</td><td>0.0444</td><td>11</td><td>40.8923</td><td>59.6951</td><td>97.2079</td><td>27</td><td>238</td><td>28</td><td>0.0404</td><td>0.0265</td><td>0.054</td><td>-99.0</td><td>0.7</td><td>0.0404</td><td>0.0404</td><td>5</td><td>10000</td><td>2068</td><td>CLAUDS-BX</td><td>4631</td><td>0.935647223155551</td><td>0.0</td><td>0.0</td><td>0.0</td><td>False</td><td>22.112</td><td>0.002</td><td>21.933</td><td>0.003</td><td>21.329</td><td>0.001</td><td>21.102</td><td>0.001</td><td>21.024</td><td>0.001</td><td>20.978</td><td>0.002</td><td>21.033</td><td>0.005</td><td>-99.027</td><td>1000.0</td><td>1000.0</td><td>1000.0</td><td>-99.008</td><td>1000.0</td></tr>\n",
       "<tr><td>2690002</td><td>150.59954442648203</td><td>1.186178383922094</td><td>0</td><td>7</td><td>True .. False</td><td>0.020768725373092246</td><td>-99.0</td><td>-99.0</td><td>-20.618</td><td>-20.925</td><td>-21.821</td><td>-22.035</td><td>-22.728</td><td>-23.126</td><td>-23.412</td><td>-23.61</td><td>-23.708</td><td>-23.738</td><td>-23.833</td><td>-24.032</td><td>-23.841</td><td>-99.0</td><td>2.1453</td><td>11</td><td>3.05734</td><td>60.7861</td><td>3.38581</td><td>31</td><td>48</td><td>28</td><td>2.1708</td><td>2.1194</td><td>2.2263</td><td>-99.0</td><td>2.28</td><td>2.1708</td><td>2.1708</td><td>9</td><td>2000</td><td>2068</td><td>CLAUDS-BX</td><td>13422</td><td>0.5187191596860363</td><td>0.0</td><td>0.0</td><td>0.0</td><td>False</td><td>25.026</td><td>0.031</td><td>24.753</td><td>0.084</td><td>24.323</td><td>0.018</td><td>24.164</td><td>0.025</td><td>23.964</td><td>0.026</td><td>23.707</td><td>0.032</td><td>23.613</td><td>0.073</td><td>-99.025</td><td>1000.0</td><td>1000.0</td><td>1000.0</td><td>-99.008</td><td>1000.0</td></tr>\n",
       "<tr><td>2626514</td><td>150.796281585843</td><td>1.4026040342542956</td><td>0</td><td>7</td><td>True .. False</td><td>0.023183031271292266</td><td>-99.0</td><td>-99.0</td><td>-21.059</td><td>-21.49</td><td>-22.242</td><td>-22.369</td><td>-22.764</td><td>-23.011</td><td>-23.267</td><td>-23.492</td><td>-23.614</td><td>-23.661</td><td>-23.788</td><td>-24.008</td><td>-23.848</td><td>-99.0</td><td>2.8294</td><td>11</td><td>0.839931</td><td>1.52405</td><td>0.781943</td><td>26</td><td>77</td><td>1</td><td>2.7788</td><td>2.453</td><td>2.9624</td><td>0.08</td><td>0.08</td><td>2.7788</td><td>2.7788</td><td>4</td><td>1000</td><td>2068</td><td>CLAUDS-U</td><td>4121</td><td>0.3180355241424493</td><td>0.0</td><td>0.0</td><td>0.0</td><td>False</td><td>26.499</td><td>0.304</td><td>26.01</td><td>0.327</td><td>24.665</td><td>0.072</td><td>24.198</td><td>0.071</td><td>23.861</td><td>0.064</td><td>23.842</td><td>0.098</td><td>23.625</td><td>0.198</td><td>-99.028</td><td>1000.0</td><td>1000.0</td><td>1000.0</td><td>-99.008</td><td>1000.0</td></tr>\n",
       "<tr><td>2699327</td><td>150.59797287792586</td><td>1.2576531508870985</td><td>0</td><td>7</td><td>True .. False</td><td>0.02133980978685171</td><td>-99.0</td><td>-99.0</td><td>-20.514</td><td>-20.822</td><td>-20.974</td><td>-21.073</td><td>-21.379</td><td>-21.552</td><td>-21.714</td><td>-21.861</td><td>-21.937</td><td>-21.958</td><td>-22.038</td><td>-22.147</td><td>-21.912</td><td>-99.0</td><td>2.4199</td><td>11</td><td>2.99393</td><td>8.93276</td><td>5.06644</td><td>33</td><td>53</td><td>28</td><td>2.3377</td><td>0.0606</td><td>2.5162</td><td>0.06</td><td>0.74</td><td>2.3377</td><td>2.3377</td><td>10</td><td>9000</td><td>2068</td><td>CLAUDS-BX</td><td>6105</td><td>0.46078645464222956</td><td>0.0</td><td>0.0</td><td>0.0</td><td>False</td><td>25.586</td><td>0.037</td><td>25.522</td><td>0.138</td><td>24.655</td><td>0.019</td><td>24.357</td><td>0.024</td><td>24.219</td><td>0.025</td><td>24.049</td><td>0.036</td><td>24.345</td><td>0.125</td><td>-99.026</td><td>1000.0</td><td>1000.0</td><td>1000.0</td><td>-99.008</td><td>1000.0</td></tr>\n",
       "<tr><td>2698433</td><td>150.54557092187903</td><td>1.2476442624910853</td><td>0</td><td>7</td><td>True .. False</td><td>0.020549282355672986</td><td>-99.0</td><td>-99.0</td><td>-21.178</td><td>-21.391</td><td>-21.814</td><td>-21.959</td><td>-22.357</td><td>-22.512</td><td>-22.652</td><td>-22.785</td><td>-22.85</td><td>-22.863</td><td>-22.885</td><td>-22.988</td><td>-22.772</td><td>-99.0</td><td>0.106</td><td>11</td><td>1.91586</td><td>4.89554</td><td>5.01601</td><td>1</td><td>53</td><td>4</td><td>2.6141</td><td>2.4418</td><td>2.7109</td><td>2.64</td><td>2.56</td><td>2.6141</td><td>2.6141</td><td>5</td><td>2000</td><td>2068</td><td>CLAUDS-BX</td><td>13644</td><td>0.16934047684491083</td><td>0.0</td><td>0.0</td><td>0.0</td><td>False</td><td>25.366</td><td>0.032</td><td>25.572</td><td>0.138</td><td>24.315</td><td>0.013</td><td>24.013</td><td>0.018</td><td>23.901</td><td>0.019</td><td>23.834</td><td>0.028</td><td>23.864</td><td>0.075</td><td>-99.025</td><td>1000.0</td><td>1000.0</td><td>1000.0</td><td>-99.008</td><td>1000.0</td></tr>\n",
       "<tr><td>2617670</td><td>150.75192694927892</td><td>1.3232632797375476</td><td>0</td><td>7</td><td>True .. False</td><td>0.023086730868908834</td><td>-99.0</td><td>-99.0</td><td>-9.56</td><td>-12.908</td><td>-15.968</td><td>-16.261</td><td>-17.085</td><td>-17.755</td><td>-17.974</td><td>-18.172</td><td>-18.284</td><td>-18.322</td><td>-18.395</td><td>-18.567</td><td>-18.321</td><td>-99.0</td><td>2.6905</td><td>11</td><td>13.5849</td><td>1.84586</td><td>5.56536</td><td>26</td><td>108</td><td>1</td><td>0.3827</td><td>0.3068</td><td>0.446</td><td>0.4</td><td>3.38</td><td>0.3827</td><td>0.3827</td><td>1</td><td>2000</td><td>2068</td><td>CLAUDS-U</td><td>3926</td><td>0.6891345080129622</td><td>0.0</td><td>0.0</td><td>0.0</td><td>False</td><td>28.97</td><td>0.946</td><td>27.938</td><td>0.817</td><td>25.488</td><td>0.038</td><td>24.318</td><td>0.021</td><td>23.708</td><td>0.015</td><td>23.373</td><td>0.016</td><td>23.376</td><td>0.04</td><td>-99.028</td><td>1000.0</td><td>1000.0</td><td>1000.0</td><td>-99.008</td><td>1000.0</td></tr>\n",
       "<tr><td>2612121</td><td>150.70509806962528</td><td>1.2709544500947263</td><td>0</td><td>7</td><td>True .. False</td><td>0.022544880483605576</td><td>-99.0</td><td>-99.0</td><td>-20.64</td><td>-20.903</td><td>-21.31</td><td>-21.408</td><td>-21.714</td><td>-21.887</td><td>-22.049</td><td>-22.196</td><td>-22.272</td><td>-22.293</td><td>-22.373</td><td>-22.482</td><td>-22.247</td><td>-99.0</td><td>2.2325</td><td>11</td><td>6.73236</td><td>42.3927</td><td>7.27454</td><td>32</td><td>49</td><td>28</td><td>2.2364</td><td>0.0572</td><td>2.3576</td><td>0.06</td><td>0.8</td><td>2.2364</td><td>2.2364</td><td>10</td><td>6000</td><td>2068</td><td>CLAUDS-BX</td><td>8198</td><td>0.8229247559075629</td><td>0.0</td><td>0.0</td><td>0.0</td><td>False</td><td>25.133</td><td>0.028</td><td>25.443</td><td>0.132</td><td>24.388</td><td>0.016</td><td>24.173</td><td>0.02</td><td>24.038</td><td>0.023</td><td>23.804</td><td>0.027</td><td>23.909</td><td>0.08</td><td>-99.027</td><td>1000.0</td><td>1000.0</td><td>1000.0</td><td>-99.008</td><td>1000.0</td></tr>\n",
       "<tr><td>2700632</td><td>150.5537188476106</td><td>1.2718462354869011</td><td>0</td><td>7</td><td>True .. False</td><td>0.02052474644475182</td><td>-99.0</td><td>-99.0</td><td>-21.625</td><td>-21.903</td><td>-22.123</td><td>-22.203</td><td>-22.458</td><td>-22.6</td><td>-22.737</td><td>-22.866</td><td>-22.931</td><td>-22.948</td><td>-23.007</td><td>-23.089</td><td>-22.849</td><td>-99.0</td><td>2.4935</td><td>11</td><td>1.58958</td><td>13.1117</td><td>7.55163</td><td>33</td><td>60</td><td>1</td><td>2.5216</td><td>2.4513</td><td>2.5907</td><td>0.08</td><td>0.06</td><td>2.5216</td><td>2.5216</td><td>10</td><td>10000</td><td>2068</td><td>CLAUDS-BX</td><td>4675</td><td>0.023478127454005238</td><td>0.0</td><td>0.0</td><td>0.0</td><td>False</td><td>24.818</td><td>0.021</td><td>24.763</td><td>0.077</td><td>23.779</td><td>0.01</td><td>23.492</td><td>0.012</td><td>23.321</td><td>0.013</td><td>23.215</td><td>0.019</td><td>23.308</td><td>0.055</td><td>-99.025</td><td>1000.0</td><td>1000.0</td><td>1000.0</td><td>-99.007</td><td>1000.0</td></tr>\n",
       "<tr><td>2696300</td><td>150.4939720542818</td><td>1.2233894240993335</td><td>0</td><td>7</td><td>True .. False</td><td>0.02012779348385862</td><td>-99.0</td><td>-99.0</td><td>-13.463</td><td>-13.449</td><td>-14.131</td><td>-14.342</td><td>-15.231</td><td>-15.528</td><td>-15.734</td><td>-15.886</td><td>-15.947</td><td>-15.964</td><td>-15.996</td><td>-16.132</td><td>-15.868</td><td>-99.0</td><td>0.0801</td><td>11</td><td>5.36599</td><td>67.4402</td><td>15.3667</td><td>25</td><td>64</td><td>4</td><td>0.0792</td><td>0.0545</td><td>0.0989</td><td>-99.0</td><td>0.08</td><td>0.0792</td><td>0.0792</td><td>9</td><td>9000</td><td>2068</td><td>CLAUDS-BX</td><td>5703</td><td>0.20131695186665788</td><td>0.0</td><td>0.0</td><td>0.0</td><td>False</td><td>23.746</td><td>0.016</td><td>23.813</td><td>0.068</td><td>22.63</td><td>0.006</td><td>22.239</td><td>0.007</td><td>21.999</td><td>0.006</td><td>21.852</td><td>0.009</td><td>21.816</td><td>0.022</td><td>-99.024</td><td>1000.0</td><td>1000.0</td><td>1000.0</td><td>-99.007</td><td>1000.0</td></tr>\n",
       "<tr><td>2622919</td><td>150.78439012122803</td><td>1.3873788294753104</td><td>0</td><td>7</td><td>True .. False</td><td>0.023294416943326644</td><td>-99.0</td><td>-99.0</td><td>-20.627</td><td>-21.037</td><td>-21.802</td><td>-21.97</td><td>-22.485</td><td>-22.767</td><td>-23.0</td><td>-23.186</td><td>-23.28</td><td>-23.306</td><td>-23.384</td><td>-23.546</td><td>-23.37</td><td>-99.0</td><td>2.1827</td><td>11</td><td>6.58116</td><td>91.7749</td><td>7.98837</td><td>32</td><td>53</td><td>4</td><td>2.2116</td><td>2.1568</td><td>2.2817</td><td>-99.0</td><td>0.0</td><td>2.2116</td><td>2.2116</td><td>10</td><td>4000</td><td>2068</td><td>CLAUDS-BX</td><td>12136</td><td>0.8646813366309757</td><td>0.0</td><td>0.0</td><td>0.0</td><td>False</td><td>25.214</td><td>0.022</td><td>25.033</td><td>0.031</td><td>24.376</td><td>0.013</td><td>24.128</td><td>0.017</td><td>23.878</td><td>0.016</td><td>23.681</td><td>0.02</td><td>23.581</td><td>0.05</td><td>-99.028</td><td>1000.0</td><td>1000.0</td><td>1000.0</td><td>-99.009</td><td>1000.0</td></tr>\n",
       "</table>"
      ],
      "text/plain": [
       "<Table length=1404>\n",
       "   ID           RA                DEC          MASK ...  H_ERR     KS    KS_ERR\n",
       " int64       float64            float64       int16 ... float64 float64 float64\n",
       "------- ------------------ ------------------ ----- ... ------- ------- -------\n",
       "1625984  150.1986239568945 1.1890183662273563     0 ...  1000.0 -99.006  1000.0\n",
       "1773782 149.84749220517747 1.0345852595890423     0 ...  1000.0 -99.008  1000.0\n",
       "1786604 149.90322794346622  1.182928932419144     0 ...  1000.0 -99.007  1000.0\n",
       "1700336  150.0806009679944 1.2277486590696205     0 ...  1000.0 -99.006  1000.0\n",
       "1697839 150.05170434580776 1.1604002297231408     0 ...  1000.0 -99.006  1000.0\n",
       "1694232 150.03487280590156 1.1987929433178963     0 ...  1000.0 -99.006  1000.0\n",
       "1689943 150.02904548903518  1.116599179073872     0 ...  1000.0 -99.006  1000.0\n",
       "1695664 149.91615107599645 1.1854004183941942     0 ...  1000.0 -99.007  1000.0\n",
       "1632288 150.15882345403958 1.2423750834277107     0 ...  1000.0 -99.007  1000.0\n",
       "1779063 149.84254078982815  1.083292893269996     0 ...  1000.0 -99.008  1000.0\n",
       "    ...                ...                ...   ... ...     ...     ...     ...\n",
       "2628573  150.6801477897231 1.4193554755312168     0 ...  1000.0 -99.008  1000.0\n",
       "2690002 150.59954442648203  1.186178383922094     0 ...  1000.0 -99.008  1000.0\n",
       "2626514   150.796281585843 1.4026040342542956     0 ...  1000.0 -99.008  1000.0\n",
       "2699327 150.59797287792586 1.2576531508870985     0 ...  1000.0 -99.008  1000.0\n",
       "2698433 150.54557092187903 1.2476442624910853     0 ...  1000.0 -99.008  1000.0\n",
       "2617670 150.75192694927892 1.3232632797375476     0 ...  1000.0 -99.008  1000.0\n",
       "2612121 150.70509806962528 1.2709544500947263     0 ...  1000.0 -99.008  1000.0\n",
       "2700632  150.5537188476106 1.2718462354869011     0 ...  1000.0 -99.007  1000.0\n",
       "2696300  150.4939720542818 1.2233894240993335     0 ...  1000.0 -99.007  1000.0\n",
       "2622919 150.78439012122803 1.3873788294753104     0 ...  1000.0 -99.009  1000.0"
      ]
     },
     "execution_count": 97,
     "metadata": {},
     "output_type": "execute_result"
    }
   ],
   "source": [
    "assigned_lbgs"
   ]
  },
  {
   "cell_type": "code",
   "execution_count": 98,
   "metadata": {},
   "outputs": [
    {
     "data": {
      "text/plain": [
       "array([2.3161, 2.0206, 2.9195, ..., 2.754 , 3.0335, 2.1015])"
      ]
     },
     "execution_count": 98,
     "metadata": {},
     "output_type": "execute_result"
    }
   ],
   "source": [
    "assigned_tmgs['PHOTO_Z'].data"
   ]
  },
  {
   "cell_type": "code",
   "execution_count": 99,
   "metadata": {},
   "outputs": [
    {
     "data": {
      "text/plain": [
       "array([0.1746, 2.7584, 2.3181, ..., 2.5216, 0.0792, 2.2116])"
      ]
     },
     "execution_count": 99,
     "metadata": {},
     "output_type": "execute_result"
    }
   ],
   "source": [
    "assigned_lbgs['Z_BC03'].data"
   ]
  },
  {
   "cell_type": "code",
   "execution_count": 102,
   "metadata": {},
   "outputs": [],
   "source": [
    "all_drops = np.concatenate((assigned_tmgs['PHOTO_Z'].data, assigned_lbgs['Z_BC03'].data))"
   ]
  },
  {
   "cell_type": "code",
   "execution_count": 103,
   "metadata": {},
   "outputs": [
    {
     "data": {
      "text/plain": [
       "(array([112.,  77.,  22.,  22.,  19.,  10.,   6.,   9.,   4.,   6.,   7.,\n",
       "          3.,   4.,  14.,   6.,  17.,   9.,   2.,  23.,  44.,  81., 140.,\n",
       "        189., 218., 166., 173., 144., 193., 198., 243., 200., 173., 144.,\n",
       "        136., 111.,  96.,  86.,  74.,  71.,  46.,  29.,  18.,  18.,  17.,\n",
       "          4.,   1.,   0.,   0.,   0.]),\n",
       " array([0. , 0.1, 0.2, 0.3, 0.4, 0.5, 0.6, 0.7, 0.8, 0.9, 1. , 1.1, 1.2,\n",
       "        1.3, 1.4, 1.5, 1.6, 1.7, 1.8, 1.9, 2. , 2.1, 2.2, 2.3, 2.4, 2.5,\n",
       "        2.6, 2.7, 2.8, 2.9, 3. , 3.1, 3.2, 3.3, 3.4, 3.5, 3.6, 3.7, 3.8,\n",
       "        3.9, 4. , 4.1, 4.2, 4.3, 4.4, 4.5, 4.6, 4.7, 4.8, 4.9]),\n",
       " <a list of 49 Patch objects>)"
      ]
     },
     "execution_count": 103,
     "metadata": {},
     "output_type": "execute_result"
    },
    {
     "data": {
      "image/png": "[encoded data removed]",
      "text/plain": [
       "<Figure size 432x288 with 1 Axes>"
      ]
     },
     "metadata": {
      "needs_background": "light"
     },
     "output_type": "display_data"
    }
   ],
   "source": [
    "pl.hist(all_drops, bins=np.arange(0.0, 5.0, 0.1))"
   ]
  },
  {
   "cell_type": "code",
   "execution_count": 104,
   "metadata": {},
   "outputs": [
    {
     "data": {
      "text/plain": [
       "0.07524343464148717"
      ]
     },
     "execution_count": 104,
     "metadata": {},
     "output_type": "execute_result"
    }
   ],
   "source": [
    "np.mean(all_drops < 0.5)"
   ]
  },
  {
   "cell_type": "code",
   "execution_count": 107,
   "metadata": {},
   "outputs": [
    {
     "data": {
      "text/plain": [
       "461"
      ]
     },
     "execution_count": 107,
     "metadata": {},
     "output_type": "execute_result"
    }
   ],
   "source": [
    "np.count_nonzero(all_drops > 3.5)"
   ]
  },
  {
   "cell_type": "code",
   "execution_count": 108,
   "metadata": {},
   "outputs": [
    {
     "data": {
      "text/plain": [
       "(1985, 1404)"
      ]
     },
     "execution_count": 108,
     "metadata": {},
     "output_type": "execute_result"
    }
   ],
   "source": [
    "len(assigned_tmgs), len(assigned_lbgs)"
   ]
  },
  {
   "cell_type": "code",
   "execution_count": 109,
   "metadata": {},
   "outputs": [
    {
     "data": {
      "text/plain": [
       "3389"
      ]
     },
     "execution_count": 109,
     "metadata": {},
     "output_type": "execute_result"
    }
   ],
   "source": [
    "1985 + 1404"
   ]
  },
  {
   "cell_type": "code",
   "execution_count": null,
   "metadata": {},
   "outputs": [],
   "source": []
  }
 ],
 "metadata": {
  "kernelspec": {
   "display_name": "DESI master",
   "language": "python",
   "name": "desi-master"
  },
  "language_info": {
   "codemirror_mode": {
    "name": "ipython",
    "version": 3
   },
   "file_extension": ".py",
   "mimetype": "text/x-python",
   "name": "python",
   "nbconvert_exporter": "python",
   "pygments_lexer": "ipython3",
   "version": "3.8.3"
  }
 },
 "nbformat": 4,
 "nbformat_minor": 4
}
