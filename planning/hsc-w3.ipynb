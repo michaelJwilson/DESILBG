{
 "cells": [
  {
   "cell_type": "code",
   "execution_count": 71,
   "metadata": {},
   "outputs": [],
   "source": [
    "import pylab as pl\n",
    "import numpy as np\n",
    "\n",
    "from astropy.table import Table"
   ]
  },
  {
   "cell_type": "code",
   "execution_count": 72,
   "metadata": {},
   "outputs": [],
   "source": [
    "dat = Table.read('/global/cscratch1/sd/mjwilson/DESILBG/W3/hsc-w3.fits')"
   ]
  },
  {
   "cell_type": "code",
   "execution_count": 73,
   "metadata": {},
   "outputs": [
    {
     "name": "stdout",
     "output_type": "stream",
     "text": [
      "    object_id     object_id_isnull         ra         ...     a_y     a_y_isnull\n",
      "----------------- ---------------- ------------------ ... ----------- ----------\n",
      "73979566133084194            False 213.80740573236446 ... 0.014041623      False\n",
      "73979566133084217            False 213.80616462201965 ... 0.014019769      False\n",
      "73979566133084383            False 213.81482857527814 ... 0.013910883      False\n",
      "73979566133084418            False 213.82110909506784 ... 0.013876348      False\n",
      "73979566133084419            False  213.8652721840338 ... 0.013709062      False\n",
      "73979566133084583            False 213.78788469937862 ...   0.0138191      False\n",
      "73979566133084617            False 213.88303298566765 ... 0.013463921      False\n",
      "73979566133084695            False 213.89460902364635 ... 0.013330585      False\n",
      "73979566133084879            False 213.87830181683358 ...  0.01338089      False\n",
      "73979566133084901            False  213.7866411605419 ... 0.013676271      False\n",
      "              ...              ...                ... ...         ...        ...\n",
      "74649168714431426            False  213.8893675999095 ... 0.012178856      False\n",
      "74649168714431438            False  213.8908071664377 ... 0.012188937      False\n",
      "74649168714431808            False  213.8999935411789 ... 0.012018711      False\n",
      "74649168714431818            False 213.91258191385668 ... 0.012117958      False\n",
      "74649168714431821            False 213.91366139568683 ... 0.012125238      False\n",
      "74649168714431856            False  213.9271342532095 ... 0.012189797      False\n",
      "74649168714431864            False 213.93625860011528 ... 0.012202194      False\n",
      "74649168714432147            False  213.9315113580819 ... 0.012140668      False\n",
      "74649168714432169            False  213.9316916708895 ... 0.012158627      False\n",
      "74649168714432175            False 213.89548489452255 ... 0.012045863      False\n",
      "74649168714432301            False 213.86022593954567 ... 0.011709642      False\n",
      "Length = 538711 rows\n"
     ]
    }
   ],
   "source": [
    "dat.pprint()"
   ]
  },
  {
   "cell_type": "code",
   "execution_count": 74,
   "metadata": {},
   "outputs": [],
   "source": [
    "# dat.dtype.names"
   ]
  },
  {
   "cell_type": "code",
   "execution_count": 75,
   "metadata": {},
   "outputs": [],
   "source": [
    "def gdrop(cat, imin=18., imax=25.5):\n",
    "    # https://arxiv.org/pdf/0903.3951.pdf    \n",
    "    isin       = np.ones(len(cat), dtype=bool)\n",
    "\n",
    "    cat['g']   = -2.5 * np.log10(1.e-9 * cat['g_cmodel_flux'] / 3630.78)    \n",
    "    cat['r']   = -2.5 * np.log10(1.e-9 * cat['r_cmodel_flux'] / 3630.78)  \n",
    "    cat['i']   = -2.5 * np.log10(1.e-9 * cat['i_cmodel_flux'] / 3630.78)  \n",
    "    \n",
    "    cat['r-i'] = cat['r'] - cat['i']\n",
    "    cat['g-r'] = cat['g'] - cat['r']\n",
    "\n",
    "    # https://arxiv.org/pdf/1704.06004.pdf\n",
    "    isin &= cat['g-r'] >  1.0\n",
    "    isin &= cat['r-i'] <  1.0    \n",
    "    isin &= cat['g-r'] >  1.5 * cat['r-i'] + 0.8\n",
    "    \n",
    "    isin  = isin & (cat['i'] > imin)\n",
    "    isin  = isin & (cat['i'] < imax)\n",
    "    \n",
    "    # Catch -99 for ill defined magnitudes\n",
    "    isin = isin & (cat['g'] > 0.0)\n",
    "    isin = isin & (cat['r'] > 0.0)\n",
    "    isin = isin & (cat['i'] > 0.0)\n",
    "         \n",
    "    return  isin"
   ]
  },
  {
   "cell_type": "code",
   "execution_count": 76,
   "metadata": {},
   "outputs": [
    {
     "name": "stderr",
     "output_type": "stream",
     "text": [
      "<ipython-input-75-f4750a0b4224>:5: RuntimeWarning: divide by zero encountered in log10\n",
      "  cat['g']   = -2.5 * np.log10(1.e-9 * cat['g_cmodel_flux'] / 3630.78)\n",
      "<ipython-input-75-f4750a0b4224>:5: RuntimeWarning: invalid value encountered in log10\n",
      "  cat['g']   = -2.5 * np.log10(1.e-9 * cat['g_cmodel_flux'] / 3630.78)\n",
      "<ipython-input-75-f4750a0b4224>:6: RuntimeWarning: divide by zero encountered in log10\n",
      "  cat['r']   = -2.5 * np.log10(1.e-9 * cat['r_cmodel_flux'] / 3630.78)\n",
      "<ipython-input-75-f4750a0b4224>:6: RuntimeWarning: invalid value encountered in log10\n",
      "  cat['r']   = -2.5 * np.log10(1.e-9 * cat['r_cmodel_flux'] / 3630.78)\n",
      "<ipython-input-75-f4750a0b4224>:10: RuntimeWarning: invalid value encountered in subtract\n",
      "  cat['g-r'] = cat['g'] - cat['r']\n"
     ]
    }
   ],
   "source": [
    "gdrops = dat[gdrop(dat)]"
   ]
  },
  {
   "cell_type": "code",
   "execution_count": 77,
   "metadata": {},
   "outputs": [
    {
     "name": "stdout",
     "output_type": "stream",
     "text": [
      "    object_id     object_id_isnull         ra         ...     r-i         g-r   \n",
      "----------------- ---------------- ------------------ ... ------------ ---------\n",
      "73979566133084901            False  213.7866411605419 ...   0.10364151 1.4945164\n",
      "73979566133089198            False 213.79530039704676 ...  -0.44413567 3.9292088\n",
      "73979566133084502            False 213.81643373212157 ...    0.1121006 1.1644306\n",
      "73979566133084817            False  213.8371212677953 ... -0.025756836 1.2769108\n",
      "73979566133089298            False 213.79848687658313 ...   0.06659126 1.3802853\n",
      "73979570428053469            False 213.80205620143917 ...    0.2876091 1.2925987\n",
      "73979566133089742            False 213.82906704784966 ...  -0.23791122 1.6490421\n",
      "73979570428053687            False 213.89218283226512 ...   0.41566277 3.0233345\n",
      "73979570428053367            False 213.81093315682747 ...   0.15400887 2.8524513\n",
      "73979566133085342            False  213.8337008285503 ...   0.07037926 1.0550365\n",
      "              ...              ...                ... ...          ...       ...\n",
      "74649168714427013            False  213.9075137453533 ...   0.27519798 1.5004063\n",
      "74649168714427109            False 213.83871816921578 ...    0.5170326       inf\n",
      "74649168714429188            False  213.9414096656289 ...    0.7146683 3.1254005\n",
      "74649168714430633            False   213.855886500101 ...   -0.5054455 2.4307709\n",
      "74649168714430648            False  213.8754059739485 ...   0.26021194 1.6180019\n",
      "74649168714430677            False 213.84104986425416 ...   -0.9819145 1.5467205\n",
      "74649168714430702            False 213.88172295983603 ...  -0.46110725 1.6355896\n",
      "74649168714430166            False 213.87620350092558 ...   0.38866425 3.3383446\n",
      "74649168714430669            False  213.8616911305365 ...  -0.31547165 4.7360764\n",
      "74649168714431162            False 213.92315481975288 ...   0.35281563 4.4556103\n",
      "74649168714431438            False  213.8908071664377 ...  0.061992645 1.5517082\n",
      "Length = 27161 rows\n"
     ]
    }
   ],
   "source": [
    "gdrops.pprint()"
   ]
  },
  {
   "cell_type": "code",
   "execution_count": 78,
   "metadata": {},
   "outputs": [
    {
     "data": {
      "image/png": "[encoded data removed]",
      "text/plain": [
       "<Figure size 432x288 with 1 Axes>"
      ]
     },
     "metadata": {
      "needs_background": "light"
     },
     "output_type": "display_data"
    }
   ],
   "source": [
    "_ = pl.hist(gdrops['i'], bins=np.arange(15.0, 26.0, 0.25))"
   ]
  },
  {
   "cell_type": "code",
   "execution_count": 79,
   "metadata": {},
   "outputs": [],
   "source": [
    "# dat.dtype.names"
   ]
  },
  {
   "cell_type": "code",
   "execution_count": 81,
   "metadata": {},
   "outputs": [
    {
     "data": {
      "text/plain": [
       "(array([1.1591e+04, 2.4000e+01, 2.7000e+01, 5.1900e+02, 3.1450e+03,\n",
       "        1.2860e+03, 6.7900e+02, 4.0300e+02, 3.3200e+02, 3.5100e+02,\n",
       "        5.0700e+02, 5.1500e+02, 5.4200e+02, 2.1500e+02, 1.2000e+02,\n",
       "        6.9000e+01, 2.2000e+01, 1.2000e+01, 1.6000e+01, 9.5000e+01,\n",
       "        2.1000e+01, 8.0000e+00, 8.0000e+00, 5.0000e+00, 1.8000e+01,\n",
       "        1.3000e+01, 2.2000e+01, 4.3000e+01, 4.8000e+01, 5.1000e+01,\n",
       "        6.6000e+01, 9.7000e+01, 2.3900e+02, 3.5100e+02, 8.2100e+02,\n",
       "        1.2500e+03, 8.4300e+02, 7.3700e+02, 5.5300e+02, 4.7400e+02,\n",
       "        4.0100e+02, 2.3300e+02, 1.7800e+02, 1.2200e+02, 5.7000e+01,\n",
       "        1.0000e+01, 0.0000e+00, 0.0000e+00, 0.0000e+00, 0.0000e+00,\n",
       "        0.0000e+00, 0.0000e+00, 0.0000e+00, 1.0000e+00, 2.0000e+00,\n",
       "        1.0000e+00, 3.0000e+00, 6.0000e+00, 5.0000e+00]),\n",
       " array([0. , 0.1, 0.2, 0.3, 0.4, 0.5, 0.6, 0.7, 0.8, 0.9, 1. , 1.1, 1.2,\n",
       "        1.3, 1.4, 1.5, 1.6, 1.7, 1.8, 1.9, 2. , 2.1, 2.2, 2.3, 2.4, 2.5,\n",
       "        2.6, 2.7, 2.8, 2.9, 3. , 3.1, 3.2, 3.3, 3.4, 3.5, 3.6, 3.7, 3.8,\n",
       "        3.9, 4. , 4.1, 4.2, 4.3, 4.4, 4.5, 4.6, 4.7, 4.8, 4.9, 5. , 5.1,\n",
       "        5.2, 5.3, 5.4, 5.5, 5.6, 5.7, 5.8, 5.9]),\n",
       " <a list of 59 Patch objects>)"
      ]
     },
     "execution_count": 81,
     "metadata": {},
     "output_type": "execute_result"
    },
    {
     "data": {
      "image/png": "[encoded data removed]",
      "text/plain": [
       "<Figure size 432x288 with 1 Axes>"
      ]
     },
     "metadata": {
      "needs_background": "light"
     },
     "output_type": "display_data"
    }
   ],
   "source": [
    "pl.hist(gdrops['miz_zbest'], bins=np.arange(0.0, 6.0, 0.1))"
   ]
  },
  {
   "cell_type": "code",
   "execution_count": null,
   "metadata": {},
   "outputs": [],
   "source": []
  }
 ],
 "metadata": {
  "kernelspec": {
   "display_name": "DESI master",
   "language": "python",
   "name": "desi-master"
  },
  "language_info": {
   "codemirror_mode": {
    "name": "ipython",
    "version": 3
   },
   "file_extension": ".py",
   "mimetype": "text/x-python",
   "name": "python",
   "nbconvert_exporter": "python",
   "pygments_lexer": "ipython3",
   "version": "3.8.3"
  }
 },
 "nbformat": 4,
 "nbformat_minor": 4
}
